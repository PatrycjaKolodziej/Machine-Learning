{
  "cells": [
    {
      "cell_type": "markdown",
      "metadata": {
        "id": "Mh_hU84JmpS4"
      },
      "source": [
        "# kNN na dobry początek!"
      ]
    },
    {
      "cell_type": "markdown",
      "metadata": {
        "id": "vbvaxPoqmpS4"
      },
      "source": [
        "Na początku pobierzmy wymagane zbiory"
      ]
    },
    {
      "cell_type": "code",
      "execution_count": null,
      "metadata": {
        "colab": {
          "base_uri": "https://localhost:8080/"
        },
        "id": "KAKoxdTfmpS4",
        "outputId": "9648420d-507a-464b-8be5-0964f7c71608"
      },
      "outputs": [
        {
          "name": "stderr",
          "output_type": "stream",
          "text": [
            "fatal: destination path 'ML-datasets' already exists and is not an empty directory.\n"
          ]
        }
      ],
      "source": [
        "!git clone https://github.com/matzim95/ML-datasets"
      ]
    },
    {
      "cell_type": "code",
      "execution_count": null,
      "metadata": {
        "id": "IY-VtcH3mpS-"
      },
      "outputs": [],
      "source": [
        "import pandas as pd\n",
        "\n",
        "def load_dataset(filename, class_column, index_col=None):\n",
        "    dataset = pd.read_csv(f'/content/drive/MyDrive/Klasyfikacja/zajecia/group/ML-datasets/{filename}.csv', index_col=index_col)\n",
        "    dataset['class'] = dataset[class_column].astype('category').cat.codes\n",
        "    classes = dataset.pop(class_column).unique()\n",
        "    return dataset, classes\n",
        "\n",
        "def prepare_dataset(dataset_name):\n",
        "    params = {'iris': {'class_column': 'species', 'index_col': None},\n",
        "              'wine': {'class_column': 'Class', 'index_col': None},\n",
        "              'glass': {'class_column': 'Type', 'index_col': 'ID'},\n",
        "              'diabetes': {'class_column': 'Class', 'index_col': None}}\n",
        "    dataset, classes = load_dataset(dataset_name,\n",
        "                                    **params[dataset_name])\n",
        "    y = dataset.pop('class')\n",
        "    X = dataset\n",
        "    return X, y, classes"
      ]
    },
    {
      "cell_type": "code",
      "execution_count": null,
      "metadata": {
        "id": "_7ROC-PhLfH_"
      },
      "outputs": [],
      "source": [
        "X, y, classes = prepare_dataset('diabetes')"
      ]
    },
    {
      "cell_type": "code",
      "execution_count": null,
      "metadata": {
        "colab": {
          "base_uri": "https://localhost:8080/",
          "height": 206
        },
        "id": "4Vq6W4YnLfIA",
        "outputId": "813a16ee-ab09-4d56-8719-eb0895f0ada7"
      },
      "outputs": [
        {
          "output_type": "execute_result",
          "data": {
            "text/plain": [
              "   Number of times pregnant  Plasma glucose concentration  \\\n",
              "0                         6                           148   \n",
              "1                         1                            85   \n",
              "2                         8                           183   \n",
              "3                         1                            89   \n",
              "4                         0                           137   \n",
              "\n",
              "   Diastolic blood pressure  Triceps skin fold thickness  \\\n",
              "0                        72                           35   \n",
              "1                        66                           29   \n",
              "2                        64                            0   \n",
              "3                        66                           23   \n",
              "4                        40                           35   \n",
              "\n",
              "   2-Hour serum insulin  Body mass index  Diabetes pedigree function  Age  \n",
              "0                     0             33.6                       0.627   50  \n",
              "1                     0             26.6                       0.351   31  \n",
              "2                     0             23.3                       0.672   32  \n",
              "3                    94             28.1                       0.167   21  \n",
              "4                   168             43.1                       2.288   33  "
            ],
            "text/html": [
              "\n",
              "  <div id=\"df-fd87c665-e71d-4702-a620-02a9b48902ef\">\n",
              "    <div class=\"colab-df-container\">\n",
              "      <div>\n",
              "<style scoped>\n",
              "    .dataframe tbody tr th:only-of-type {\n",
              "        vertical-align: middle;\n",
              "    }\n",
              "\n",
              "    .dataframe tbody tr th {\n",
              "        vertical-align: top;\n",
              "    }\n",
              "\n",
              "    .dataframe thead th {\n",
              "        text-align: right;\n",
              "    }\n",
              "</style>\n",
              "<table border=\"1\" class=\"dataframe\">\n",
              "  <thead>\n",
              "    <tr style=\"text-align: right;\">\n",
              "      <th></th>\n",
              "      <th>Number of times pregnant</th>\n",
              "      <th>Plasma glucose concentration</th>\n",
              "      <th>Diastolic blood pressure</th>\n",
              "      <th>Triceps skin fold thickness</th>\n",
              "      <th>2-Hour serum insulin</th>\n",
              "      <th>Body mass index</th>\n",
              "      <th>Diabetes pedigree function</th>\n",
              "      <th>Age</th>\n",
              "    </tr>\n",
              "  </thead>\n",
              "  <tbody>\n",
              "    <tr>\n",
              "      <th>0</th>\n",
              "      <td>6</td>\n",
              "      <td>148</td>\n",
              "      <td>72</td>\n",
              "      <td>35</td>\n",
              "      <td>0</td>\n",
              "      <td>33.6</td>\n",
              "      <td>0.627</td>\n",
              "      <td>50</td>\n",
              "    </tr>\n",
              "    <tr>\n",
              "      <th>1</th>\n",
              "      <td>1</td>\n",
              "      <td>85</td>\n",
              "      <td>66</td>\n",
              "      <td>29</td>\n",
              "      <td>0</td>\n",
              "      <td>26.6</td>\n",
              "      <td>0.351</td>\n",
              "      <td>31</td>\n",
              "    </tr>\n",
              "    <tr>\n",
              "      <th>2</th>\n",
              "      <td>8</td>\n",
              "      <td>183</td>\n",
              "      <td>64</td>\n",
              "      <td>0</td>\n",
              "      <td>0</td>\n",
              "      <td>23.3</td>\n",
              "      <td>0.672</td>\n",
              "      <td>32</td>\n",
              "    </tr>\n",
              "    <tr>\n",
              "      <th>3</th>\n",
              "      <td>1</td>\n",
              "      <td>89</td>\n",
              "      <td>66</td>\n",
              "      <td>23</td>\n",
              "      <td>94</td>\n",
              "      <td>28.1</td>\n",
              "      <td>0.167</td>\n",
              "      <td>21</td>\n",
              "    </tr>\n",
              "    <tr>\n",
              "      <th>4</th>\n",
              "      <td>0</td>\n",
              "      <td>137</td>\n",
              "      <td>40</td>\n",
              "      <td>35</td>\n",
              "      <td>168</td>\n",
              "      <td>43.1</td>\n",
              "      <td>2.288</td>\n",
              "      <td>33</td>\n",
              "    </tr>\n",
              "  </tbody>\n",
              "</table>\n",
              "</div>\n",
              "      <button class=\"colab-df-convert\" onclick=\"convertToInteractive('df-fd87c665-e71d-4702-a620-02a9b48902ef')\"\n",
              "              title=\"Convert this dataframe to an interactive table.\"\n",
              "              style=\"display:none;\">\n",
              "        \n",
              "  <svg xmlns=\"http://www.w3.org/2000/svg\" height=\"24px\"viewBox=\"0 0 24 24\"\n",
              "       width=\"24px\">\n",
              "    <path d=\"M0 0h24v24H0V0z\" fill=\"none\"/>\n",
              "    <path d=\"M18.56 5.44l.94 2.06.94-2.06 2.06-.94-2.06-.94-.94-2.06-.94 2.06-2.06.94zm-11 1L8.5 8.5l.94-2.06 2.06-.94-2.06-.94L8.5 2.5l-.94 2.06-2.06.94zm10 10l.94 2.06.94-2.06 2.06-.94-2.06-.94-.94-2.06-.94 2.06-2.06.94z\"/><path d=\"M17.41 7.96l-1.37-1.37c-.4-.4-.92-.59-1.43-.59-.52 0-1.04.2-1.43.59L10.3 9.45l-7.72 7.72c-.78.78-.78 2.05 0 2.83L4 21.41c.39.39.9.59 1.41.59.51 0 1.02-.2 1.41-.59l7.78-7.78 2.81-2.81c.8-.78.8-2.07 0-2.86zM5.41 20L4 18.59l7.72-7.72 1.47 1.35L5.41 20z\"/>\n",
              "  </svg>\n",
              "      </button>\n",
              "      \n",
              "  <style>\n",
              "    .colab-df-container {\n",
              "      display:flex;\n",
              "      flex-wrap:wrap;\n",
              "      gap: 12px;\n",
              "    }\n",
              "\n",
              "    .colab-df-convert {\n",
              "      background-color: #E8F0FE;\n",
              "      border: none;\n",
              "      border-radius: 50%;\n",
              "      cursor: pointer;\n",
              "      display: none;\n",
              "      fill: #1967D2;\n",
              "      height: 32px;\n",
              "      padding: 0 0 0 0;\n",
              "      width: 32px;\n",
              "    }\n",
              "\n",
              "    .colab-df-convert:hover {\n",
              "      background-color: #E2EBFA;\n",
              "      box-shadow: 0px 1px 2px rgba(60, 64, 67, 0.3), 0px 1px 3px 1px rgba(60, 64, 67, 0.15);\n",
              "      fill: #174EA6;\n",
              "    }\n",
              "\n",
              "    [theme=dark] .colab-df-convert {\n",
              "      background-color: #3B4455;\n",
              "      fill: #D2E3FC;\n",
              "    }\n",
              "\n",
              "    [theme=dark] .colab-df-convert:hover {\n",
              "      background-color: #434B5C;\n",
              "      box-shadow: 0px 1px 3px 1px rgba(0, 0, 0, 0.15);\n",
              "      filter: drop-shadow(0px 1px 2px rgba(0, 0, 0, 0.3));\n",
              "      fill: #FFFFFF;\n",
              "    }\n",
              "  </style>\n",
              "\n",
              "      <script>\n",
              "        const buttonEl =\n",
              "          document.querySelector('#df-fd87c665-e71d-4702-a620-02a9b48902ef button.colab-df-convert');\n",
              "        buttonEl.style.display =\n",
              "          google.colab.kernel.accessAllowed ? 'block' : 'none';\n",
              "\n",
              "        async function convertToInteractive(key) {\n",
              "          const element = document.querySelector('#df-fd87c665-e71d-4702-a620-02a9b48902ef');\n",
              "          const dataTable =\n",
              "            await google.colab.kernel.invokeFunction('convertToInteractive',\n",
              "                                                     [key], {});\n",
              "          if (!dataTable) return;\n",
              "\n",
              "          const docLinkHtml = 'Like what you see? Visit the ' +\n",
              "            '<a target=\"_blank\" href=https://colab.research.google.com/notebooks/data_table.ipynb>data table notebook</a>'\n",
              "            + ' to learn more about interactive tables.';\n",
              "          element.innerHTML = '';\n",
              "          dataTable['output_type'] = 'display_data';\n",
              "          await google.colab.output.renderOutput(dataTable, element);\n",
              "          const docLink = document.createElement('div');\n",
              "          docLink.innerHTML = docLinkHtml;\n",
              "          element.appendChild(docLink);\n",
              "        }\n",
              "      </script>\n",
              "    </div>\n",
              "  </div>\n",
              "  "
            ]
          },
          "metadata": {},
          "execution_count": 74
        }
      ],
      "source": [
        "X.head()"
      ]
    },
    {
      "cell_type": "markdown",
      "metadata": {
        "id": "BIPWN5myLfIB"
      },
      "source": [
        "Przeprowadźmy klasyfikację win metodą kNN"
      ]
    },
    {
      "cell_type": "code",
      "execution_count": null,
      "metadata": {
        "id": "XvFuK6Z5LfIE"
      },
      "outputs": [],
      "source": [
        "from sklearn.model_selection import train_test_split\n",
        "from sklearn.neighbors import KNeighborsClassifier"
      ]
    },
    {
      "cell_type": "code",
      "execution_count": null,
      "metadata": {
        "id": "Lp1m1yOgLfIH"
      },
      "outputs": [],
      "source": [
        "X_train, X_test, y_train, y_test = train_test_split(X,y, test_size = 0.2, stratify = y)"
      ]
    },
    {
      "cell_type": "code",
      "execution_count": null,
      "metadata": {
        "id": "ifag9T52LfIL"
      },
      "outputs": [],
      "source": [
        "knn = KNeighborsClassifier(n_neighbors=5, metric = 'manhattan')\n",
        "knn.fit(X_train, y_train)\n",
        "\n",
        "y_pred = knn.predict(X_test)"
      ]
    },
    {
      "cell_type": "markdown",
      "metadata": {
        "id": "Si2ptwwBLfIT"
      },
      "source": [
        "Funckje do wyświetlania miar jakości modelu:"
      ]
    },
    {
      "cell_type": "code",
      "execution_count": null,
      "metadata": {
        "colab": {
          "base_uri": "https://localhost:8080/"
        },
        "id": "ShgfvJ6xLfIU",
        "outputId": "4e27ca18-e799-4474-b5c8-442058134feb"
      },
      "outputs": [
        {
          "output_type": "stream",
          "name": "stdout",
          "text": [
            "Result for KNN Manhattan\n",
            "----\n",
            "Accuracy: 0.7468\n",
            "Precision: 0.7401\n",
            "Recall: 0.7468\n",
            "F1 Score: 0.7407\n",
            "Mislabeled: 39 out of 154\n",
            "\n",
            "\n"
          ]
        }
      ],
      "source": [
        "print_results(calculate_metric(y_test, y_pred), classifier_id = 'KNN Manhattan')"
      ]
    },
    {
      "cell_type": "code",
      "execution_count": null,
      "metadata": {
        "id": "bxCm0qCKLfIV"
      },
      "outputs": [],
      "source": [
        "knn = KNeighborsClassifier(n_neighbors=5, metric = 'minkowski', p = 1.5)\n",
        "knn.fit(X_train, y_train)\n",
        "\n",
        "y_pred = knn.predict(X_test)"
      ]
    },
    {
      "cell_type": "code",
      "execution_count": null,
      "metadata": {
        "colab": {
          "base_uri": "https://localhost:8080/"
        },
        "id": "chand8ZxLfIX",
        "outputId": "ece0996b-ba30-4198-8b3b-abba6f0890da"
      },
      "outputs": [
        {
          "output_type": "stream",
          "name": "stdout",
          "text": [
            "Result for KNN Minkowski\n",
            "----\n",
            "Accuracy: 0.8052\n",
            "Precision: 0.8031\n",
            "Recall: 0.8052\n",
            "F1 Score: 0.7985\n",
            "Mislabeled: 30 out of 154\n",
            "\n",
            "\n"
          ]
        }
      ],
      "source": [
        "print_results(calculate_metric(y_test, y_pred), classifier_id = 'KNN Minkowski')"
      ]
    },
    {
      "cell_type": "markdown",
      "metadata": {
        "id": "DnsIOtCCLfIa"
      },
      "source": [
        "Funckja do testowania typów odległości:"
      ]
    },
    {
      "cell_type": "code",
      "execution_count": null,
      "metadata": {
        "id": "YYJlqp2cLfIb"
      },
      "outputs": [],
      "source": [
        "from sklearn.metrics.pairwise import paired_distances"
      ]
    },
    {
      "cell_type": "code",
      "execution_count": null,
      "metadata": {
        "colab": {
          "base_uri": "https://localhost:8080/"
        },
        "id": "A4Pq4c1pLfIc",
        "outputId": "eb15d24b-0e42-4b65-e967-cc08d141a27c"
      },
      "outputs": [
        {
          "output_type": "execute_result",
          "data": {
            "text/plain": [
              "array([5.])"
            ]
          },
          "metadata": {},
          "execution_count": 100
        }
      ],
      "source": [
        "X = [[0,1]]\n",
        "Y = [[3,3]]\n",
        "\n",
        "paired_distances(X,Y, metric = 'manhattan')"
      ]
    },
    {
      "cell_type": "markdown",
      "source": [
        "Zadanie: \n",
        "\n",
        "Wygeneruj zbiór punktów 1,1 2,2 3,3 4,4 5,5 i policz dla nich kolejno odległości euklidesową, chebyshewa, manhattan, minkowskiego, od punku 0,0. Wrzuć to na wykres scatterplo, oś x -metryka, oś y- odległość"
      ],
      "metadata": {
        "id": "1M1cHz_GBYgh"
      }
    },
    {
      "cell_type": "code",
      "source": [
        "import numpy as np\n",
        "import scipy.spatial.distance as dist\n",
        "import plotly.graph_objects as go\n",
        "\n",
        "\n",
        "points = np.array([[1, 1], [2, 2], [3, 3], [4, 4], [5, 5]])\n",
        "labels = ['Euklidesowa', 'Chebysheva', 'Manhattan', 'Minkowski']\n",
        "metrics = ['euclidean', 'chebyshev', 'cityblock', 'minkowski']\n",
        "colors = ['blue', 'red', 'green', 'cyan', 'purple']\n",
        "\n",
        "\n",
        "distances = {i: [] for i in range(len(points))}\n",
        "\n",
        "for i in range(len(points)):\n",
        "    for j, metric in enumerate(metrics):\n",
        "        if metric == 'minkowski':\n",
        "            distances[i].append([labels[j], dist.minkowski([0,0], points[i], 3)])\n",
        "        else:\n",
        "            distances[i].append([labels[j], dist.pdist([[0,0], points[i]], metric=metric)[0]])\n"
      ],
      "metadata": {
        "id": "Wo4kkWkEqxSE"
      },
      "execution_count": null,
      "outputs": []
    },
    {
      "cell_type": "code",
      "source": [
        "distances"
      ],
      "metadata": {
        "id": "icCUsl2b1bzE",
        "outputId": "ff6db68f-c64d-496b-8255-87876df7d629",
        "colab": {
          "base_uri": "https://localhost:8080/"
        }
      },
      "execution_count": null,
      "outputs": [
        {
          "output_type": "execute_result",
          "data": {
            "text/plain": [
              "{0: [['Euklidesowa', 1.4142135623730951],\n",
              "  ['Chebysheva', 1.0],\n",
              "  ['Manhattan', 2.0],\n",
              "  ['Minkowski', 1.2599210498948732]],\n",
              " 1: [['Euklidesowa', 2.8284271247461903],\n",
              "  ['Chebysheva', 2.0],\n",
              "  ['Manhattan', 4.0],\n",
              "  ['Minkowski', 2.5198420997897464]],\n",
              " 2: [['Euklidesowa', 4.242640687119285],\n",
              "  ['Chebysheva', 3.0],\n",
              "  ['Manhattan', 6.0],\n",
              "  ['Minkowski', 3.7797631496846193]],\n",
              " 3: [['Euklidesowa', 5.656854249492381],\n",
              "  ['Chebysheva', 4.0],\n",
              "  ['Manhattan', 8.0],\n",
              "  ['Minkowski', 5.039684199579492]],\n",
              " 4: [['Euklidesowa', 7.0710678118654755],\n",
              "  ['Chebysheva', 5.0],\n",
              "  ['Manhattan', 10.0],\n",
              "  ['Minkowski', 6.299605249474365]]}"
            ]
          },
          "metadata": {},
          "execution_count": 125
        }
      ]
    },
    {
      "cell_type": "code",
      "source": [
        "import plotly.graph_objects as go\n",
        "\n",
        "\n",
        "points = np.array([[1, 1], [2, 2], [3, 3], [4, 4], [5, 5]])\n",
        "labels = ['Euklidesowa', 'Chebysheva', 'Manhattan', 'Minkowski']\n",
        "metrics = ['euclidean', 'chebyshev', 'cityblock', 'minkowski']\n",
        "colors = ['blue', 'red', 'green', 'cyan', 'purple']\n",
        "\n",
        "distances = {i: [] for i in range(len(points))}\n",
        "for i in range(len(points)):\n",
        "    for j, metric in enumerate(metrics):\n",
        "        if metric == 'minkowski':\n",
        "            distances[i].append([labels[j], dist.minkowski([0,0], points[i], 3)])\n",
        "        else:\n",
        "            distances[i].append([labels[j], dist.pdist([[0,0], points[i]], metric=metric)[0]])\n",
        "\n",
        "\n",
        "fig = go.Figure()\n",
        "\n",
        "for i in range(len(points)):\n",
        "    fig.add_trace(go.Scatter(\n",
        "        x=[distance[0] for distance in distances[i]],\n",
        "        y=[distance[1] for distance in distances[i]],\n",
        "        mode='markers',\n",
        "        marker=dict(\n",
        "            color=colors[i],\n",
        "            size=10, \n",
        "        ),\n",
        "        name=f'Punkt {i+1},{i+1}'\n",
        "    ))\n",
        "\n",
        "fig.update_layout(\n",
        "    title='Odległości między punktami a punktem (0,0)',\n",
        "    xaxis_title='Metryka',\n",
        "    yaxis_title='Odległość',\n",
        "    legend_title='Punkt',\n",
        ")\n",
        "\n",
        "fig.show()"
      ],
      "metadata": {
        "colab": {
          "base_uri": "https://localhost:8080/",
          "height": 542
        },
        "id": "BPBqf5Vn0HJb",
        "outputId": "51913c39-9584-4044-fd19-d0d475a70eaa"
      },
      "execution_count": null,
      "outputs": [
        {
          "output_type": "display_data",
          "data": {
            "text/html": [
              "<html>\n",
              "<head><meta charset=\"utf-8\" /></head>\n",
              "<body>\n",
              "    <div>            <script src=\"https://cdnjs.cloudflare.com/ajax/libs/mathjax/2.7.5/MathJax.js?config=TeX-AMS-MML_SVG\"></script><script type=\"text/javascript\">if (window.MathJax && window.MathJax.Hub && window.MathJax.Hub.Config) {window.MathJax.Hub.Config({SVG: {font: \"STIX-Web\"}});}</script>                <script type=\"text/javascript\">window.PlotlyConfig = {MathJaxConfig: 'local'};</script>\n",
              "        <script src=\"https://cdn.plot.ly/plotly-2.18.2.min.js\"></script>                <div id=\"38e1456c-a92a-4f74-8824-b2c8de328716\" class=\"plotly-graph-div\" style=\"height:525px; width:100%;\"></div>            <script type=\"text/javascript\">                                    window.PLOTLYENV=window.PLOTLYENV || {};                                    if (document.getElementById(\"38e1456c-a92a-4f74-8824-b2c8de328716\")) {                    Plotly.newPlot(                        \"38e1456c-a92a-4f74-8824-b2c8de328716\",                        [{\"marker\":{\"color\":\"blue\",\"size\":10},\"mode\":\"markers\",\"name\":\"Punkt 1,1\",\"x\":[\"Euklidesowa\",\"Chebysheva\",\"Manhattan\",\"Minkowski\"],\"y\":[1.4142135623730951,1.0,2.0,1.2599210498948732],\"type\":\"scatter\"},{\"marker\":{\"color\":\"red\",\"size\":10},\"mode\":\"markers\",\"name\":\"Punkt 2,2\",\"x\":[\"Euklidesowa\",\"Chebysheva\",\"Manhattan\",\"Minkowski\"],\"y\":[2.8284271247461903,2.0,4.0,2.5198420997897464],\"type\":\"scatter\"},{\"marker\":{\"color\":\"green\",\"size\":10},\"mode\":\"markers\",\"name\":\"Punkt 3,3\",\"x\":[\"Euklidesowa\",\"Chebysheva\",\"Manhattan\",\"Minkowski\"],\"y\":[4.242640687119285,3.0,6.0,3.7797631496846193],\"type\":\"scatter\"},{\"marker\":{\"color\":\"cyan\",\"size\":10},\"mode\":\"markers\",\"name\":\"Punkt 4,4\",\"x\":[\"Euklidesowa\",\"Chebysheva\",\"Manhattan\",\"Minkowski\"],\"y\":[5.656854249492381,4.0,8.0,5.039684199579492],\"type\":\"scatter\"},{\"marker\":{\"color\":\"purple\",\"size\":10},\"mode\":\"markers\",\"name\":\"Punkt 5,5\",\"x\":[\"Euklidesowa\",\"Chebysheva\",\"Manhattan\",\"Minkowski\"],\"y\":[7.0710678118654755,5.0,10.0,6.299605249474365],\"type\":\"scatter\"}],                        {\"template\":{\"data\":{\"histogram2dcontour\":[{\"type\":\"histogram2dcontour\",\"colorbar\":{\"outlinewidth\":0,\"ticks\":\"\"},\"colorscale\":[[0.0,\"#0d0887\"],[0.1111111111111111,\"#46039f\"],[0.2222222222222222,\"#7201a8\"],[0.3333333333333333,\"#9c179e\"],[0.4444444444444444,\"#bd3786\"],[0.5555555555555556,\"#d8576b\"],[0.6666666666666666,\"#ed7953\"],[0.7777777777777778,\"#fb9f3a\"],[0.8888888888888888,\"#fdca26\"],[1.0,\"#f0f921\"]]}],\"choropleth\":[{\"type\":\"choropleth\",\"colorbar\":{\"outlinewidth\":0,\"ticks\":\"\"}}],\"histogram2d\":[{\"type\":\"histogram2d\",\"colorbar\":{\"outlinewidth\":0,\"ticks\":\"\"},\"colorscale\":[[0.0,\"#0d0887\"],[0.1111111111111111,\"#46039f\"],[0.2222222222222222,\"#7201a8\"],[0.3333333333333333,\"#9c179e\"],[0.4444444444444444,\"#bd3786\"],[0.5555555555555556,\"#d8576b\"],[0.6666666666666666,\"#ed7953\"],[0.7777777777777778,\"#fb9f3a\"],[0.8888888888888888,\"#fdca26\"],[1.0,\"#f0f921\"]]}],\"heatmap\":[{\"type\":\"heatmap\",\"colorbar\":{\"outlinewidth\":0,\"ticks\":\"\"},\"colorscale\":[[0.0,\"#0d0887\"],[0.1111111111111111,\"#46039f\"],[0.2222222222222222,\"#7201a8\"],[0.3333333333333333,\"#9c179e\"],[0.4444444444444444,\"#bd3786\"],[0.5555555555555556,\"#d8576b\"],[0.6666666666666666,\"#ed7953\"],[0.7777777777777778,\"#fb9f3a\"],[0.8888888888888888,\"#fdca26\"],[1.0,\"#f0f921\"]]}],\"heatmapgl\":[{\"type\":\"heatmapgl\",\"colorbar\":{\"outlinewidth\":0,\"ticks\":\"\"},\"colorscale\":[[0.0,\"#0d0887\"],[0.1111111111111111,\"#46039f\"],[0.2222222222222222,\"#7201a8\"],[0.3333333333333333,\"#9c179e\"],[0.4444444444444444,\"#bd3786\"],[0.5555555555555556,\"#d8576b\"],[0.6666666666666666,\"#ed7953\"],[0.7777777777777778,\"#fb9f3a\"],[0.8888888888888888,\"#fdca26\"],[1.0,\"#f0f921\"]]}],\"contourcarpet\":[{\"type\":\"contourcarpet\",\"colorbar\":{\"outlinewidth\":0,\"ticks\":\"\"}}],\"contour\":[{\"type\":\"contour\",\"colorbar\":{\"outlinewidth\":0,\"ticks\":\"\"},\"colorscale\":[[0.0,\"#0d0887\"],[0.1111111111111111,\"#46039f\"],[0.2222222222222222,\"#7201a8\"],[0.3333333333333333,\"#9c179e\"],[0.4444444444444444,\"#bd3786\"],[0.5555555555555556,\"#d8576b\"],[0.6666666666666666,\"#ed7953\"],[0.7777777777777778,\"#fb9f3a\"],[0.8888888888888888,\"#fdca26\"],[1.0,\"#f0f921\"]]}],\"surface\":[{\"type\":\"surface\",\"colorbar\":{\"outlinewidth\":0,\"ticks\":\"\"},\"colorscale\":[[0.0,\"#0d0887\"],[0.1111111111111111,\"#46039f\"],[0.2222222222222222,\"#7201a8\"],[0.3333333333333333,\"#9c179e\"],[0.4444444444444444,\"#bd3786\"],[0.5555555555555556,\"#d8576b\"],[0.6666666666666666,\"#ed7953\"],[0.7777777777777778,\"#fb9f3a\"],[0.8888888888888888,\"#fdca26\"],[1.0,\"#f0f921\"]]}],\"mesh3d\":[{\"type\":\"mesh3d\",\"colorbar\":{\"outlinewidth\":0,\"ticks\":\"\"}}],\"scatter\":[{\"fillpattern\":{\"fillmode\":\"overlay\",\"size\":10,\"solidity\":0.2},\"type\":\"scatter\"}],\"parcoords\":[{\"type\":\"parcoords\",\"line\":{\"colorbar\":{\"outlinewidth\":0,\"ticks\":\"\"}}}],\"scatterpolargl\":[{\"type\":\"scatterpolargl\",\"marker\":{\"colorbar\":{\"outlinewidth\":0,\"ticks\":\"\"}}}],\"bar\":[{\"error_x\":{\"color\":\"#2a3f5f\"},\"error_y\":{\"color\":\"#2a3f5f\"},\"marker\":{\"line\":{\"color\":\"#E5ECF6\",\"width\":0.5},\"pattern\":{\"fillmode\":\"overlay\",\"size\":10,\"solidity\":0.2}},\"type\":\"bar\"}],\"scattergeo\":[{\"type\":\"scattergeo\",\"marker\":{\"colorbar\":{\"outlinewidth\":0,\"ticks\":\"\"}}}],\"scatterpolar\":[{\"type\":\"scatterpolar\",\"marker\":{\"colorbar\":{\"outlinewidth\":0,\"ticks\":\"\"}}}],\"histogram\":[{\"marker\":{\"pattern\":{\"fillmode\":\"overlay\",\"size\":10,\"solidity\":0.2}},\"type\":\"histogram\"}],\"scattergl\":[{\"type\":\"scattergl\",\"marker\":{\"colorbar\":{\"outlinewidth\":0,\"ticks\":\"\"}}}],\"scatter3d\":[{\"type\":\"scatter3d\",\"line\":{\"colorbar\":{\"outlinewidth\":0,\"ticks\":\"\"}},\"marker\":{\"colorbar\":{\"outlinewidth\":0,\"ticks\":\"\"}}}],\"scattermapbox\":[{\"type\":\"scattermapbox\",\"marker\":{\"colorbar\":{\"outlinewidth\":0,\"ticks\":\"\"}}}],\"scatterternary\":[{\"type\":\"scatterternary\",\"marker\":{\"colorbar\":{\"outlinewidth\":0,\"ticks\":\"\"}}}],\"scattercarpet\":[{\"type\":\"scattercarpet\",\"marker\":{\"colorbar\":{\"outlinewidth\":0,\"ticks\":\"\"}}}],\"carpet\":[{\"aaxis\":{\"endlinecolor\":\"#2a3f5f\",\"gridcolor\":\"white\",\"linecolor\":\"white\",\"minorgridcolor\":\"white\",\"startlinecolor\":\"#2a3f5f\"},\"baxis\":{\"endlinecolor\":\"#2a3f5f\",\"gridcolor\":\"white\",\"linecolor\":\"white\",\"minorgridcolor\":\"white\",\"startlinecolor\":\"#2a3f5f\"},\"type\":\"carpet\"}],\"table\":[{\"cells\":{\"fill\":{\"color\":\"#EBF0F8\"},\"line\":{\"color\":\"white\"}},\"header\":{\"fill\":{\"color\":\"#C8D4E3\"},\"line\":{\"color\":\"white\"}},\"type\":\"table\"}],\"barpolar\":[{\"marker\":{\"line\":{\"color\":\"#E5ECF6\",\"width\":0.5},\"pattern\":{\"fillmode\":\"overlay\",\"size\":10,\"solidity\":0.2}},\"type\":\"barpolar\"}],\"pie\":[{\"automargin\":true,\"type\":\"pie\"}]},\"layout\":{\"autotypenumbers\":\"strict\",\"colorway\":[\"#636efa\",\"#EF553B\",\"#00cc96\",\"#ab63fa\",\"#FFA15A\",\"#19d3f3\",\"#FF6692\",\"#B6E880\",\"#FF97FF\",\"#FECB52\"],\"font\":{\"color\":\"#2a3f5f\"},\"hovermode\":\"closest\",\"hoverlabel\":{\"align\":\"left\"},\"paper_bgcolor\":\"white\",\"plot_bgcolor\":\"#E5ECF6\",\"polar\":{\"bgcolor\":\"#E5ECF6\",\"angularaxis\":{\"gridcolor\":\"white\",\"linecolor\":\"white\",\"ticks\":\"\"},\"radialaxis\":{\"gridcolor\":\"white\",\"linecolor\":\"white\",\"ticks\":\"\"}},\"ternary\":{\"bgcolor\":\"#E5ECF6\",\"aaxis\":{\"gridcolor\":\"white\",\"linecolor\":\"white\",\"ticks\":\"\"},\"baxis\":{\"gridcolor\":\"white\",\"linecolor\":\"white\",\"ticks\":\"\"},\"caxis\":{\"gridcolor\":\"white\",\"linecolor\":\"white\",\"ticks\":\"\"}},\"coloraxis\":{\"colorbar\":{\"outlinewidth\":0,\"ticks\":\"\"}},\"colorscale\":{\"sequential\":[[0.0,\"#0d0887\"],[0.1111111111111111,\"#46039f\"],[0.2222222222222222,\"#7201a8\"],[0.3333333333333333,\"#9c179e\"],[0.4444444444444444,\"#bd3786\"],[0.5555555555555556,\"#d8576b\"],[0.6666666666666666,\"#ed7953\"],[0.7777777777777778,\"#fb9f3a\"],[0.8888888888888888,\"#fdca26\"],[1.0,\"#f0f921\"]],\"sequentialminus\":[[0.0,\"#0d0887\"],[0.1111111111111111,\"#46039f\"],[0.2222222222222222,\"#7201a8\"],[0.3333333333333333,\"#9c179e\"],[0.4444444444444444,\"#bd3786\"],[0.5555555555555556,\"#d8576b\"],[0.6666666666666666,\"#ed7953\"],[0.7777777777777778,\"#fb9f3a\"],[0.8888888888888888,\"#fdca26\"],[1.0,\"#f0f921\"]],\"diverging\":[[0,\"#8e0152\"],[0.1,\"#c51b7d\"],[0.2,\"#de77ae\"],[0.3,\"#f1b6da\"],[0.4,\"#fde0ef\"],[0.5,\"#f7f7f7\"],[0.6,\"#e6f5d0\"],[0.7,\"#b8e186\"],[0.8,\"#7fbc41\"],[0.9,\"#4d9221\"],[1,\"#276419\"]]},\"xaxis\":{\"gridcolor\":\"white\",\"linecolor\":\"white\",\"ticks\":\"\",\"title\":{\"standoff\":15},\"zerolinecolor\":\"white\",\"automargin\":true,\"zerolinewidth\":2},\"yaxis\":{\"gridcolor\":\"white\",\"linecolor\":\"white\",\"ticks\":\"\",\"title\":{\"standoff\":15},\"zerolinecolor\":\"white\",\"automargin\":true,\"zerolinewidth\":2},\"scene\":{\"xaxis\":{\"backgroundcolor\":\"#E5ECF6\",\"gridcolor\":\"white\",\"linecolor\":\"white\",\"showbackground\":true,\"ticks\":\"\",\"zerolinecolor\":\"white\",\"gridwidth\":2},\"yaxis\":{\"backgroundcolor\":\"#E5ECF6\",\"gridcolor\":\"white\",\"linecolor\":\"white\",\"showbackground\":true,\"ticks\":\"\",\"zerolinecolor\":\"white\",\"gridwidth\":2},\"zaxis\":{\"backgroundcolor\":\"#E5ECF6\",\"gridcolor\":\"white\",\"linecolor\":\"white\",\"showbackground\":true,\"ticks\":\"\",\"zerolinecolor\":\"white\",\"gridwidth\":2}},\"shapedefaults\":{\"line\":{\"color\":\"#2a3f5f\"}},\"annotationdefaults\":{\"arrowcolor\":\"#2a3f5f\",\"arrowhead\":0,\"arrowwidth\":1},\"geo\":{\"bgcolor\":\"white\",\"landcolor\":\"#E5ECF6\",\"subunitcolor\":\"white\",\"showland\":true,\"showlakes\":true,\"lakecolor\":\"white\"},\"title\":{\"x\":0.05},\"mapbox\":{\"style\":\"light\"}}},\"title\":{\"text\":\"Odleg\\u0142o\\u015bci mi\\u0119dzy punktami a punktem (0,0)\"},\"xaxis\":{\"title\":{\"text\":\"Metryka\"}},\"yaxis\":{\"title\":{\"text\":\"Odleg\\u0142o\\u015b\\u0107\"}},\"legend\":{\"title\":{\"text\":\"Punkt\"}}},                        {\"responsive\": true}                    ).then(function(){\n",
              "                            \n",
              "var gd = document.getElementById('38e1456c-a92a-4f74-8824-b2c8de328716');\n",
              "var x = new MutationObserver(function (mutations, observer) {{\n",
              "        var display = window.getComputedStyle(gd).display;\n",
              "        if (!display || display === 'none') {{\n",
              "            console.log([gd, 'removed!']);\n",
              "            Plotly.purge(gd);\n",
              "            observer.disconnect();\n",
              "        }}\n",
              "}});\n",
              "\n",
              "// Listen for the removal of the full notebook cells\n",
              "var notebookContainer = gd.closest('#notebook-container');\n",
              "if (notebookContainer) {{\n",
              "    x.observe(notebookContainer, {childList: true});\n",
              "}}\n",
              "\n",
              "// Listen for the clearing of the current output cell\n",
              "var outputEl = gd.closest('.output');\n",
              "if (outputEl) {{\n",
              "    x.observe(outputEl, {childList: true});\n",
              "}}\n",
              "\n",
              "                        })                };                            </script>        </div>\n",
              "</body>\n",
              "</html>"
            ]
          },
          "metadata": {}
        }
      ]
    },
    {
      "cell_type": "code",
      "source": [
        "#inna wersja"
      ],
      "metadata": {
        "id": "uGeeeRZIA-QA"
      },
      "execution_count": null,
      "outputs": []
    },
    {
      "cell_type": "code",
      "source": [
        "import matplotlib.pyplot as plt\n",
        "import numpy as np\n",
        "from scipy.spatial.distance import cdist"
      ],
      "metadata": {
        "id": "MQPYkwYNBA8a"
      },
      "execution_count": null,
      "outputs": []
    },
    {
      "cell_type": "code",
      "source": [
        "# Zdefiniuj zbiór punktów\n",
        "points = np.array([[1, 1], [2, 2], [3, 3], [4, 4], [5, 5]])"
      ],
      "metadata": {
        "id": "aL56bZoGBKBb"
      },
      "execution_count": null,
      "outputs": []
    },
    {
      "cell_type": "code",
      "source": [
        "# Oblicz odległości dla różnych metryk\n",
        "dist_euclidean = cdist(points, [[0, 0]], metric='euclidean').flatten()\n",
        "dist_chebyshev = cdist(points, [[0, 0]], metric='chebyshev').flatten()\n",
        "dist_manhattan = cdist(points, [[0, 0]], metric='cityblock').flatten()\n",
        "dist_minkowski = cdist(points, [[0, 0]], metric='minkowski', p=3).flatten()"
      ],
      "metadata": {
        "id": "EJNxOWe1BM5S"
      },
      "execution_count": null,
      "outputs": []
    },
    {
      "cell_type": "code",
      "source": [
        "# Wygeneruj wykres\n",
        "plt.scatter(points[:, 0], dist_euclidean, label='Euklidesowa')\n",
        "plt.scatter(points[:, 0], dist_chebyshev, label='Czebyszewa')\n",
        "plt.scatter(points[:, 0], dist_manhattan, label='Manhattan')\n",
        "plt.scatter(points[:, 0], dist_minkowski, label='Minkowskiego (p=3)')\n",
        "\n",
        "# Ustawienia osi i legendy\n",
        "plt.xlabel('metryka')\n",
        "plt.ylabel('odległość')\n",
        "plt.legend()\n",
        "\n",
        "# Wyświetl wykres\n",
        "plt.show()"
      ],
      "metadata": {
        "colab": {
          "base_uri": "https://localhost:8080/",
          "height": 449
        },
        "id": "lEcYJ6OEBP3m",
        "outputId": "d1e84905-95ef-4346-a749-edf7684ffc6b"
      },
      "execution_count": null,
      "outputs": [
        {
          "output_type": "display_data",
          "data": {
            "text/plain": [
              "<Figure size 640x480 with 1 Axes>"
            ],
            "image/png": "[encoded data removed]"
          },
          "metadata": {}
        }
      ]
    },
    {
      "cell_type": "markdown",
      "metadata": {
        "id": "oibBhMORmpS_"
      },
      "source": [
        "ZADANIE DOMOWE: Przetestuj wpływ różnych rodzajów odległości i ilości sąsiadów na zbiorze glass."
      ]
    },
    {
      "cell_type": "code",
      "source": [],
      "metadata": {
        "id": "qLd32NG-tILv"
      },
      "execution_count": null,
      "outputs": []
    },
    {
      "cell_type": "markdown",
      "metadata": {
        "id": "cmzyFRLKmpTF"
      },
      "source": [
        "# SVM"
      ]
    },
    {
      "cell_type": "markdown",
      "metadata": {
        "id": "bD9PD-I-LfIe"
      },
      "source": [
        "Przetestujmy SVM na zbiorze wine"
      ]
    },
    {
      "cell_type": "code",
      "execution_count": null,
      "metadata": {
        "colab": {
          "base_uri": "https://localhost:8080/"
        },
        "id": "9GmmmWZTLfIf",
        "outputId": "2556058b-5dab-4bf2-a2ce-5d813bfa810c"
      },
      "outputs": [
        {
          "output_type": "stream",
          "name": "stdout",
          "text": [
            "['one' 'two' 'three']\n"
          ]
        }
      ],
      "source": [
        "wine, wine_classes = load_dataset('wine', 'Class')\n",
        "print(wine_classes)\n",
        "\n",
        "y = wine.pop('class')\n",
        "X = wine"
      ]
    },
    {
      "cell_type": "code",
      "execution_count": null,
      "metadata": {
        "id": "dIf05BRwLfIh"
      },
      "outputs": [],
      "source": [
        "from sklearn.model_selection import train_test_split\n",
        "X_train, X_test, y_train, y_test = train_test_split(X, y, test_size=0.2, stratify=y, random_state = 30)"
      ]
    },
    {
      "cell_type": "code",
      "execution_count": null,
      "metadata": {
        "id": "oOVVKZdKLfIi"
      },
      "outputs": [],
      "source": [
        "from sklearn.model_selection import GridSearchCV\n",
        "from sklearn.svm import SVC\n",
        "\n",
        "# Train a linear SVM\n",
        "svm = SVC(C = 0.1, kernel=\"linear\")\n",
        "svm.fit(X_train,y_train)\n",
        "y_pred_train = svm.predict(X_train)\n",
        "y_pred = svm.predict(X_test)\n"
      ]
    },
    {
      "cell_type": "code",
      "source": [
        "from sklearn.metrics import confusion_matrix\n",
        "\n",
        "print(confusion_matrix(y_train, y_pred_train),'\\n')\n",
        "print(confusion_matrix(y_test, y_pred))"
      ],
      "metadata": {
        "colab": {
          "base_uri": "https://localhost:8080/"
        },
        "id": "jfL7gi5kLvrM",
        "outputId": "9e8d1e9a-247f-47d6-a428-0ca0bb834be5"
      },
      "execution_count": null,
      "outputs": [
        {
          "output_type": "stream",
          "name": "stdout",
          "text": [
            "[[45  0  2]\n",
            " [ 0 37  1]\n",
            " [ 0  1 56]] \n",
            "\n",
            "[[12  0  0]\n",
            " [ 0 10  0]\n",
            " [ 0  1 13]]\n"
          ]
        }
      ]
    },
    {
      "cell_type": "code",
      "source": [
        "from sklearn.metrics import accuracy_score, precision_score, recall_score, f1_score\n",
        "\n",
        "def calculate_metric(target, prediction, average = 'weighted'):\n",
        "    accuracy = round(accuracy_score(target, prediction),4)\n",
        "    precision = round(precision_score(target, prediction, average = average),4)\n",
        "    recall = round(recall_score(target, prediction, average = average),4)\n",
        "    f_score = round(f1_score(target, prediction, average = average),4)\n",
        "    \n",
        "    mislabeled = (target != prediction).sum()\n",
        "    total = len(target)\n",
        "    \n",
        "    return accuracy, precision, recall, f_score, mislabeled, total\n",
        "\n",
        "\n",
        "def print_results(metrics, classifier_id = 'classifier'):\n",
        "    print(f'Result for {classifier_id}')\n",
        "    print('----')\n",
        "    print(f'Accuracy: {metrics[0]}')\n",
        "    print(f'Precision: {metrics[1]}')\n",
        "    print(f'Recall: {metrics[2]}')\n",
        "    print(f'F1 Score: {metrics[3]}')\n",
        "    print(f'Mislabeled: {metrics[4]} out of {metrics[5]}')\n",
        "    print('\\n')\n",
        "    "
      ],
      "metadata": {
        "id": "baxNGrdJU-LB"
      },
      "execution_count": null,
      "outputs": []
    },
    {
      "cell_type": "code",
      "source": [
        "print_results(calculate_metric(y_test, y_pred), 'SVM Classifier')"
      ],
      "metadata": {
        "colab": {
          "base_uri": "https://localhost:8080/"
        },
        "id": "Hx31K5ajVDC2",
        "outputId": "fe4dca00-eb29-4679-89a6-cd2b50e9ee24"
      },
      "execution_count": null,
      "outputs": [
        {
          "output_type": "stream",
          "name": "stdout",
          "text": [
            "Result for SVM Classifier\n",
            "----\n",
            "Accuracy: 0.9722\n",
            "Precision: 0.9747\n",
            "Recall: 0.9722\n",
            "F1 Score: 0.9724\n",
            "Mislabeled: 1 out of 36\n",
            "\n",
            "\n"
          ]
        }
      ]
    },
    {
      "cell_type": "markdown",
      "metadata": {
        "id": "EOe3GDAkLfIi"
      },
      "source": [
        "I dobierzmy grid searchem optymalną wartość współczynnika regularyzacji"
      ]
    },
    {
      "cell_type": "code",
      "source": [
        "X"
      ],
      "metadata": {
        "colab": {
          "base_uri": "https://localhost:8080/",
          "height": 424
        },
        "id": "HnLhk2f4YKfY",
        "outputId": "419d69a7-6b47-4aff-b1a7-74adc91ccd50"
      },
      "execution_count": null,
      "outputs": [
        {
          "output_type": "execute_result",
          "data": {
            "text/plain": [
              "     Alcohol  Malic acid   Ash  Alcalinity of ash  Magnesium  Total phenols  \\\n",
              "0      14.23        1.71  2.43               15.6        127           2.80   \n",
              "1      13.20        1.78  2.14               11.2        100           2.65   \n",
              "2      13.16        2.36  2.67               18.6        101           2.80   \n",
              "3      14.37        1.95  2.50               16.8        113           3.85   \n",
              "4      13.24        2.59  2.87               21.0        118           2.80   \n",
              "..       ...         ...   ...                ...        ...            ...   \n",
              "173    13.71        5.65  2.45               20.5         95           1.68   \n",
              "174    13.40        3.91  2.48               23.0        102           1.80   \n",
              "175    13.27        4.28  2.26               20.0        120           1.59   \n",
              "176    13.17        2.59  2.37               20.0        120           1.65   \n",
              "177    14.13        4.10  2.74               24.5         96           2.05   \n",
              "\n",
              "     Flavanoids  Nonflavanoid phenols  Proanthocyanins  Color intensity   Hue  \\\n",
              "0          3.06                  0.28             2.29             5.64  1.04   \n",
              "1          2.76                  0.26             1.28             4.38  1.05   \n",
              "2          3.24                  0.30             2.81             5.68  1.03   \n",
              "3          3.49                  0.24             2.18             7.80  0.86   \n",
              "4          2.69                  0.39             1.82             4.32  1.04   \n",
              "..          ...                   ...              ...              ...   ...   \n",
              "173        0.61                  0.52             1.06             7.70  0.64   \n",
              "174        0.75                  0.43             1.41             7.30  0.70   \n",
              "175        0.69                  0.43             1.35            10.20  0.59   \n",
              "176        0.68                  0.53             1.46             9.30  0.60   \n",
              "177        0.76                  0.56             1.35             9.20  0.61   \n",
              "\n",
              "     OD280/OD315 of diluted wines  Proline  \n",
              "0                            3.92     1065  \n",
              "1                            3.40     1050  \n",
              "2                            3.17     1185  \n",
              "3                            3.45     1480  \n",
              "4                            2.93      735  \n",
              "..                            ...      ...  \n",
              "173                          1.74      740  \n",
              "174                          1.56      750  \n",
              "175                          1.56      835  \n",
              "176                          1.62      840  \n",
              "177                          1.60      560  \n",
              "\n",
              "[178 rows x 13 columns]"
            ],
            "text/html": [
              "\n",
              "  <div id=\"df-b998c8bd-ca80-416a-bc92-e6ab530c14af\">\n",
              "    <div class=\"colab-df-container\">\n",
              "      <div>\n",
              "<style scoped>\n",
              "    .dataframe tbody tr th:only-of-type {\n",
              "        vertical-align: middle;\n",
              "    }\n",
              "\n",
              "    .dataframe tbody tr th {\n",
              "        vertical-align: top;\n",
              "    }\n",
              "\n",
              "    .dataframe thead th {\n",
              "        text-align: right;\n",
              "    }\n",
              "</style>\n",
              "<table border=\"1\" class=\"dataframe\">\n",
              "  <thead>\n",
              "    <tr style=\"text-align: right;\">\n",
              "      <th></th>\n",
              "      <th>Alcohol</th>\n",
              "      <th>Malic acid</th>\n",
              "      <th>Ash</th>\n",
              "      <th>Alcalinity of ash</th>\n",
              "      <th>Magnesium</th>\n",
              "      <th>Total phenols</th>\n",
              "      <th>Flavanoids</th>\n",
              "      <th>Nonflavanoid phenols</th>\n",
              "      <th>Proanthocyanins</th>\n",
              "      <th>Color intensity</th>\n",
              "      <th>Hue</th>\n",
              "      <th>OD280/OD315 of diluted wines</th>\n",
              "      <th>Proline</th>\n",
              "    </tr>\n",
              "  </thead>\n",
              "  <tbody>\n",
              "    <tr>\n",
              "      <th>0</th>\n",
              "      <td>14.23</td>\n",
              "      <td>1.71</td>\n",
              "      <td>2.43</td>\n",
              "      <td>15.6</td>\n",
              "      <td>127</td>\n",
              "      <td>2.80</td>\n",
              "      <td>3.06</td>\n",
              "      <td>0.28</td>\n",
              "      <td>2.29</td>\n",
              "      <td>5.64</td>\n",
              "      <td>1.04</td>\n",
              "      <td>3.92</td>\n",
              "      <td>1065</td>\n",
              "    </tr>\n",
              "    <tr>\n",
              "      <th>1</th>\n",
              "      <td>13.20</td>\n",
              "      <td>1.78</td>\n",
              "      <td>2.14</td>\n",
              "      <td>11.2</td>\n",
              "      <td>100</td>\n",
              "      <td>2.65</td>\n",
              "      <td>2.76</td>\n",
              "      <td>0.26</td>\n",
              "      <td>1.28</td>\n",
              "      <td>4.38</td>\n",
              "      <td>1.05</td>\n",
              "      <td>3.40</td>\n",
              "      <td>1050</td>\n",
              "    </tr>\n",
              "    <tr>\n",
              "      <th>2</th>\n",
              "      <td>13.16</td>\n",
              "      <td>2.36</td>\n",
              "      <td>2.67</td>\n",
              "      <td>18.6</td>\n",
              "      <td>101</td>\n",
              "      <td>2.80</td>\n",
              "      <td>3.24</td>\n",
              "      <td>0.30</td>\n",
              "      <td>2.81</td>\n",
              "      <td>5.68</td>\n",
              "      <td>1.03</td>\n",
              "      <td>3.17</td>\n",
              "      <td>1185</td>\n",
              "    </tr>\n",
              "    <tr>\n",
              "      <th>3</th>\n",
              "      <td>14.37</td>\n",
              "      <td>1.95</td>\n",
              "      <td>2.50</td>\n",
              "      <td>16.8</td>\n",
              "      <td>113</td>\n",
              "      <td>3.85</td>\n",
              "      <td>3.49</td>\n",
              "      <td>0.24</td>\n",
              "      <td>2.18</td>\n",
              "      <td>7.80</td>\n",
              "      <td>0.86</td>\n",
              "      <td>3.45</td>\n",
              "      <td>1480</td>\n",
              "    </tr>\n",
              "    <tr>\n",
              "      <th>4</th>\n",
              "      <td>13.24</td>\n",
              "      <td>2.59</td>\n",
              "      <td>2.87</td>\n",
              "      <td>21.0</td>\n",
              "      <td>118</td>\n",
              "      <td>2.80</td>\n",
              "      <td>2.69</td>\n",
              "      <td>0.39</td>\n",
              "      <td>1.82</td>\n",
              "      <td>4.32</td>\n",
              "      <td>1.04</td>\n",
              "      <td>2.93</td>\n",
              "      <td>735</td>\n",
              "    </tr>\n",
              "    <tr>\n",
              "      <th>...</th>\n",
              "      <td>...</td>\n",
              "      <td>...</td>\n",
              "      <td>...</td>\n",
              "      <td>...</td>\n",
              "      <td>...</td>\n",
              "      <td>...</td>\n",
              "      <td>...</td>\n",
              "      <td>...</td>\n",
              "      <td>...</td>\n",
              "      <td>...</td>\n",
              "      <td>...</td>\n",
              "      <td>...</td>\n",
              "      <td>...</td>\n",
              "    </tr>\n",
              "    <tr>\n",
              "      <th>173</th>\n",
              "      <td>13.71</td>\n",
              "      <td>5.65</td>\n",
              "      <td>2.45</td>\n",
              "      <td>20.5</td>\n",
              "      <td>95</td>\n",
              "      <td>1.68</td>\n",
              "      <td>0.61</td>\n",
              "      <td>0.52</td>\n",
              "      <td>1.06</td>\n",
              "      <td>7.70</td>\n",
              "      <td>0.64</td>\n",
              "      <td>1.74</td>\n",
              "      <td>740</td>\n",
              "    </tr>\n",
              "    <tr>\n",
              "      <th>174</th>\n",
              "      <td>13.40</td>\n",
              "      <td>3.91</td>\n",
              "      <td>2.48</td>\n",
              "      <td>23.0</td>\n",
              "      <td>102</td>\n",
              "      <td>1.80</td>\n",
              "      <td>0.75</td>\n",
              "      <td>0.43</td>\n",
              "      <td>1.41</td>\n",
              "      <td>7.30</td>\n",
              "      <td>0.70</td>\n",
              "      <td>1.56</td>\n",
              "      <td>750</td>\n",
              "    </tr>\n",
              "    <tr>\n",
              "      <th>175</th>\n",
              "      <td>13.27</td>\n",
              "      <td>4.28</td>\n",
              "      <td>2.26</td>\n",
              "      <td>20.0</td>\n",
              "      <td>120</td>\n",
              "      <td>1.59</td>\n",
              "      <td>0.69</td>\n",
              "      <td>0.43</td>\n",
              "      <td>1.35</td>\n",
              "      <td>10.20</td>\n",
              "      <td>0.59</td>\n",
              "      <td>1.56</td>\n",
              "      <td>835</td>\n",
              "    </tr>\n",
              "    <tr>\n",
              "      <th>176</th>\n",
              "      <td>13.17</td>\n",
              "      <td>2.59</td>\n",
              "      <td>2.37</td>\n",
              "      <td>20.0</td>\n",
              "      <td>120</td>\n",
              "      <td>1.65</td>\n",
              "      <td>0.68</td>\n",
              "      <td>0.53</td>\n",
              "      <td>1.46</td>\n",
              "      <td>9.30</td>\n",
              "      <td>0.60</td>\n",
              "      <td>1.62</td>\n",
              "      <td>840</td>\n",
              "    </tr>\n",
              "    <tr>\n",
              "      <th>177</th>\n",
              "      <td>14.13</td>\n",
              "      <td>4.10</td>\n",
              "      <td>2.74</td>\n",
              "      <td>24.5</td>\n",
              "      <td>96</td>\n",
              "      <td>2.05</td>\n",
              "      <td>0.76</td>\n",
              "      <td>0.56</td>\n",
              "      <td>1.35</td>\n",
              "      <td>9.20</td>\n",
              "      <td>0.61</td>\n",
              "      <td>1.60</td>\n",
              "      <td>560</td>\n",
              "    </tr>\n",
              "  </tbody>\n",
              "</table>\n",
              "<p>178 rows × 13 columns</p>\n",
              "</div>\n",
              "      <button class=\"colab-df-convert\" onclick=\"convertToInteractive('df-b998c8bd-ca80-416a-bc92-e6ab530c14af')\"\n",
              "              title=\"Convert this dataframe to an interactive table.\"\n",
              "              style=\"display:none;\">\n",
              "        \n",
              "  <svg xmlns=\"http://www.w3.org/2000/svg\" height=\"24px\"viewBox=\"0 0 24 24\"\n",
              "       width=\"24px\">\n",
              "    <path d=\"M0 0h24v24H0V0z\" fill=\"none\"/>\n",
              "    <path d=\"M18.56 5.44l.94 2.06.94-2.06 2.06-.94-2.06-.94-.94-2.06-.94 2.06-2.06.94zm-11 1L8.5 8.5l.94-2.06 2.06-.94-2.06-.94L8.5 2.5l-.94 2.06-2.06.94zm10 10l.94 2.06.94-2.06 2.06-.94-2.06-.94-.94-2.06-.94 2.06-2.06.94z\"/><path d=\"M17.41 7.96l-1.37-1.37c-.4-.4-.92-.59-1.43-.59-.52 0-1.04.2-1.43.59L10.3 9.45l-7.72 7.72c-.78.78-.78 2.05 0 2.83L4 21.41c.39.39.9.59 1.41.59.51 0 1.02-.2 1.41-.59l7.78-7.78 2.81-2.81c.8-.78.8-2.07 0-2.86zM5.41 20L4 18.59l7.72-7.72 1.47 1.35L5.41 20z\"/>\n",
              "  </svg>\n",
              "      </button>\n",
              "      \n",
              "  <style>\n",
              "    .colab-df-container {\n",
              "      display:flex;\n",
              "      flex-wrap:wrap;\n",
              "      gap: 12px;\n",
              "    }\n",
              "\n",
              "    .colab-df-convert {\n",
              "      background-color: #E8F0FE;\n",
              "      border: none;\n",
              "      border-radius: 50%;\n",
              "      cursor: pointer;\n",
              "      display: none;\n",
              "      fill: #1967D2;\n",
              "      height: 32px;\n",
              "      padding: 0 0 0 0;\n",
              "      width: 32px;\n",
              "    }\n",
              "\n",
              "    .colab-df-convert:hover {\n",
              "      background-color: #E2EBFA;\n",
              "      box-shadow: 0px 1px 2px rgba(60, 64, 67, 0.3), 0px 1px 3px 1px rgba(60, 64, 67, 0.15);\n",
              "      fill: #174EA6;\n",
              "    }\n",
              "\n",
              "    [theme=dark] .colab-df-convert {\n",
              "      background-color: #3B4455;\n",
              "      fill: #D2E3FC;\n",
              "    }\n",
              "\n",
              "    [theme=dark] .colab-df-convert:hover {\n",
              "      background-color: #434B5C;\n",
              "      box-shadow: 0px 1px 3px 1px rgba(0, 0, 0, 0.15);\n",
              "      filter: drop-shadow(0px 1px 2px rgba(0, 0, 0, 0.3));\n",
              "      fill: #FFFFFF;\n",
              "    }\n",
              "  </style>\n",
              "\n",
              "      <script>\n",
              "        const buttonEl =\n",
              "          document.querySelector('#df-b998c8bd-ca80-416a-bc92-e6ab530c14af button.colab-df-convert');\n",
              "        buttonEl.style.display =\n",
              "          google.colab.kernel.accessAllowed ? 'block' : 'none';\n",
              "\n",
              "        async function convertToInteractive(key) {\n",
              "          const element = document.querySelector('#df-b998c8bd-ca80-416a-bc92-e6ab530c14af');\n",
              "          const dataTable =\n",
              "            await google.colab.kernel.invokeFunction('convertToInteractive',\n",
              "                                                     [key], {});\n",
              "          if (!dataTable) return;\n",
              "\n",
              "          const docLinkHtml = 'Like what you see? Visit the ' +\n",
              "            '<a target=\"_blank\" href=https://colab.research.google.com/notebooks/data_table.ipynb>data table notebook</a>'\n",
              "            + ' to learn more about interactive tables.';\n",
              "          element.innerHTML = '';\n",
              "          dataTable['output_type'] = 'display_data';\n",
              "          await google.colab.output.renderOutput(dataTable, element);\n",
              "          const docLink = document.createElement('div');\n",
              "          docLink.innerHTML = docLinkHtml;\n",
              "          element.appendChild(docLink);\n",
              "        }\n",
              "      </script>\n",
              "    </div>\n",
              "  </div>\n",
              "  "
            ]
          },
          "metadata": {},
          "execution_count": 27
        }
      ]
    },
    {
      "cell_type": "code",
      "execution_count": null,
      "metadata": {
        "colab": {
          "base_uri": "https://localhost:8080/"
        },
        "id": "dH1ZguIzLfIl",
        "outputId": "6f3713cb-f174-4719-d11e-801fb88f77fb"
      },
      "outputs": [
        {
          "output_type": "stream",
          "name": "stdout",
          "text": [
            "Best CV params {'C': 0.01, 'gamma': 'auto', 'kernel': 'poly'}\n",
            "Best CV scores 0.943494667014556\n"
          ]
        }
      ],
      "source": [
        "from sklearn.model_selection import GridSearchCV\n",
        "svm = SVC()\n",
        "svm.fit(X_train,y_train)\n",
        "\n",
        "parameters = [{'kernel': ['linear'], 'C': [0.01, 0.1, 1, 10]},\n",
        "              {'kernel': ['poly', 'rbf'], 'C': [0.01, 0.1, 1, 10], 'gamma': ['scale', 'auto']}]\n",
        "\n",
        "searcher = GridSearchCV(svm, parameters, cv = 3, scoring = 'f1_weighted')\n",
        "searcher.fit(X_train, y_train)\n",
        "\n",
        "print(\"Best CV params\", searcher.best_params_)\n",
        "print(\"Best CV scores\", searcher.best_score_)"
      ]
    },
    {
      "cell_type": "code",
      "source": [
        "for i in range(len(searcher.cv_results_['params'])):\n",
        "    print(f\"Parametry: {searcher.cv_results_['params'][i]}\")\n",
        "\n",
        "    for key in searcher.cv_results_.keys():\n",
        "\n",
        "        if key != 'params':\n",
        "            print(f\"{key}: {searcher.cv_results_[key][i]}\")\n",
        "            \n",
        "    print(\"\\n---\\n\")"
      ],
      "metadata": {
        "colab": {
          "base_uri": "https://localhost:8080/"
        },
        "id": "h4Cki4_OVSeO",
        "outputId": "7e481847-2173-437b-88b4-6acea60940f8"
      },
      "execution_count": null,
      "outputs": [
        {
          "output_type": "stream",
          "name": "stdout",
          "text": [
            "Parametry: {'C': 0.01, 'kernel': 'linear'}\n",
            "mean_fit_time: 0.0080717404683431\n",
            "std_fit_time: 0.0049762651365465775\n",
            "mean_score_time: 0.0024995803833007812\n",
            "std_score_time: 0.0003877447514131271\n",
            "param_C: 0.01\n",
            "param_kernel: linear\n",
            "param_gamma: --\n",
            "split0_test_score: 0.8947174358289365\n",
            "split1_test_score: 0.9154625099556263\n",
            "split2_test_score: 0.8710789672861828\n",
            "mean_test_score: 0.893752971023582\n",
            "std_test_score: 0.018132335007625695\n",
            "rank_test_score: 8\n",
            "\n",
            "---\n",
            "\n",
            "Parametry: {'C': 0.1, 'kernel': 'linear'}\n",
            "mean_fit_time: 0.028966506322224934\n",
            "std_fit_time: 0.010227086060652675\n",
            "mean_score_time: 0.0027216275533040366\n",
            "std_score_time: 7.44309897424803e-05\n",
            "param_C: 0.1\n",
            "param_kernel: linear\n",
            "param_gamma: --\n",
            "split0_test_score: 0.958622311827957\n",
            "split1_test_score: 0.9574468085106383\n",
            "split2_test_score: 0.8919591047250622\n",
            "mean_test_score: 0.9360094083545526\n",
            "std_test_score: 0.03115196504663305\n",
            "rank_test_score: 5\n",
            "\n",
            "---\n",
            "\n",
            "Parametry: {'C': 1, 'kernel': 'linear'}\n",
            "mean_fit_time: 0.0403901735941569\n",
            "std_fit_time: 0.01845499042513053\n",
            "mean_score_time: 0.0027663707733154297\n",
            "std_score_time: 0.00011414449767837293\n",
            "param_C: 1\n",
            "param_kernel: linear\n",
            "param_gamma: --\n",
            "split0_test_score: 0.9365656565656565\n",
            "split1_test_score: 0.9139222007307114\n",
            "split2_test_score: 0.8919591047250622\n",
            "mean_test_score: 0.9141489873404768\n",
            "std_test_score: 0.018211254595289553\n",
            "rank_test_score: 7\n",
            "\n",
            "---\n",
            "\n",
            "Parametry: {'C': 10, 'kernel': 'linear'}\n",
            "mean_fit_time: 0.09153978029886882\n",
            "std_fit_time: 0.013795386271190969\n",
            "mean_score_time: 0.006154855092366536\n",
            "std_score_time: 0.003268682572946884\n",
            "param_C: 10\n",
            "param_kernel: linear\n",
            "param_gamma: --\n",
            "split0_test_score: 0.9370512820512821\n",
            "split1_test_score: 0.9139222007307114\n",
            "split2_test_score: 0.8919591047250622\n",
            "mean_test_score: 0.9143108625023518\n",
            "std_test_score: 0.018410855628937413\n",
            "rank_test_score: 6\n",
            "\n",
            "---\n",
            "\n",
            "Parametry: {'C': 0.01, 'gamma': 'scale', 'kernel': 'poly'}\n",
            "mean_fit_time: 0.005926609039306641\n",
            "std_fit_time: 0.0034110926032097527\n",
            "mean_score_time: 0.004409392674763997\n",
            "std_score_time: 0.001015435603994325\n",
            "param_C: 0.01\n",
            "param_kernel: poly\n",
            "param_gamma: scale\n",
            "split0_test_score: 0.5591991341991341\n",
            "split1_test_score: 0.491807287845439\n",
            "split2_test_score: 0.5493527748846898\n",
            "mean_test_score: 0.5334530656430877\n",
            "std_test_score: 0.02972110141763066\n",
            "rank_test_score: 15\n",
            "\n",
            "---\n",
            "\n",
            "Parametry: {'C': 0.01, 'gamma': 'scale', 'kernel': 'rbf'}\n",
            "mean_fit_time: 0.011642694473266602\n",
            "std_fit_time: 0.0027522664539548487\n",
            "mean_score_time: 0.008553028106689453\n",
            "std_score_time: 0.0037693766131483837\n",
            "param_C: 0.01\n",
            "param_kernel: rbf\n",
            "param_gamma: scale\n",
            "split0_test_score: 0.22450248756218905\n",
            "split1_test_score: 0.23275306254029654\n",
            "split2_test_score: 0.23275306254029654\n",
            "mean_test_score: 0.23000287088092738\n",
            "std_test_score: 0.0038893583438052402\n",
            "rank_test_score: 18\n",
            "\n",
            "---\n",
            "\n",
            "Parametry: {'C': 0.01, 'gamma': 'auto', 'kernel': 'poly'}\n",
            "mean_fit_time: 0.19015169143676758\n",
            "std_fit_time: 0.08272365141363894\n",
            "mean_score_time: 0.007150888442993164\n",
            "std_score_time: 0.0033337508576783436\n",
            "param_C: 0.01\n",
            "param_kernel: poly\n",
            "param_gamma: auto\n",
            "split0_test_score: 0.9583333333333334\n",
            "split1_test_score: 0.978533646433739\n",
            "split2_test_score: 0.8936170212765957\n",
            "mean_test_score: 0.943494667014556\n",
            "std_test_score: 0.03622014007528323\n",
            "rank_test_score: 1\n",
            "\n",
            "---\n",
            "\n",
            "Parametry: {'C': 0.01, 'gamma': 'auto', 'kernel': 'rbf'}\n",
            "mean_fit_time: 0.0042506059010823565\n",
            "std_fit_time: 0.0004309515166350254\n",
            "mean_score_time: 0.0057570139567057295\n",
            "std_score_time: 0.0024910592028188436\n",
            "param_C: 0.01\n",
            "param_kernel: rbf\n",
            "param_gamma: auto\n",
            "split0_test_score: 0.22450248756218905\n",
            "split1_test_score: 0.23275306254029654\n",
            "split2_test_score: 0.23275306254029654\n",
            "mean_test_score: 0.23000287088092738\n",
            "std_test_score: 0.0038893583438052402\n",
            "rank_test_score: 18\n",
            "\n",
            "---\n",
            "\n",
            "Parametry: {'C': 0.1, 'gamma': 'scale', 'kernel': 'poly'}\n",
            "mean_fit_time: 0.005914449691772461\n",
            "std_fit_time: 0.0031683016511795483\n",
            "mean_score_time: 0.006242593129475911\n",
            "std_score_time: 0.0033539426726040666\n",
            "param_C: 0.1\n",
            "param_kernel: poly\n",
            "param_gamma: scale\n",
            "split0_test_score: 0.5773999574286931\n",
            "split1_test_score: 0.5762692783969379\n",
            "split2_test_score: 0.524822695035461\n",
            "mean_test_score: 0.5594973102870306\n",
            "std_test_score: 0.02452300030449651\n",
            "rank_test_score: 14\n",
            "\n",
            "---\n",
            "\n",
            "Parametry: {'C': 0.1, 'gamma': 'scale', 'kernel': 'rbf'}\n",
            "mean_fit_time: 0.003285964330037435\n",
            "std_fit_time: 0.00018341568132455223\n",
            "mean_score_time: 0.004053672154744466\n",
            "std_score_time: 0.0010843888617060608\n",
            "param_C: 0.1\n",
            "param_kernel: rbf\n",
            "param_gamma: scale\n",
            "split0_test_score: 0.5903380893300249\n",
            "split1_test_score: 0.57087488392749\n",
            "split2_test_score: 0.542566918325326\n",
            "mean_test_score: 0.5679266305276136\n",
            "std_test_score: 0.01961360655892497\n",
            "rank_test_score: 13\n",
            "\n",
            "---\n",
            "\n",
            "Parametry: {'C': 0.1, 'gamma': 'auto', 'kernel': 'poly'}\n",
            "mean_fit_time: 0.2606949806213379\n",
            "std_fit_time: 0.11569748927320361\n",
            "mean_score_time: 0.00840600331624349\n",
            "std_score_time: 0.0056000678895919585\n",
            "param_C: 0.1\n",
            "param_kernel: poly\n",
            "param_gamma: auto\n",
            "split0_test_score: 0.9583333333333334\n",
            "split1_test_score: 0.978533646433739\n",
            "split2_test_score: 0.8936170212765957\n",
            "mean_test_score: 0.943494667014556\n",
            "std_test_score: 0.03622014007528323\n",
            "rank_test_score: 1\n",
            "\n",
            "---\n",
            "\n",
            "Parametry: {'C': 0.1, 'gamma': 'auto', 'kernel': 'rbf'}\n",
            "mean_fit_time: 0.006378889083862305\n",
            "std_fit_time: 0.002685895533894732\n",
            "mean_score_time: 0.005576769510904948\n",
            "std_score_time: 0.001947797304401932\n",
            "param_C: 0.1\n",
            "param_kernel: rbf\n",
            "param_gamma: auto\n",
            "split0_test_score: 0.22450248756218905\n",
            "split1_test_score: 0.23275306254029654\n",
            "split2_test_score: 0.23275306254029654\n",
            "mean_test_score: 0.23000287088092738\n",
            "std_test_score: 0.0038893583438052402\n",
            "rank_test_score: 18\n",
            "\n",
            "---\n",
            "\n",
            "Parametry: {'C': 1, 'gamma': 'scale', 'kernel': 'poly'}\n",
            "mean_fit_time: 0.003303050994873047\n",
            "std_fit_time: 0.0004974038236080706\n",
            "mean_score_time: 0.0067139466603597\n",
            "std_score_time: 0.0026407862064899046\n",
            "param_C: 1\n",
            "param_kernel: poly\n",
            "param_gamma: scale\n",
            "split0_test_score: 0.5903380893300249\n",
            "split1_test_score: 0.6810999129028245\n",
            "split2_test_score: 0.581435068730724\n",
            "mean_test_score: 0.6176243569878578\n",
            "std_test_score: 0.04503091969586704\n",
            "rank_test_score: 12\n",
            "\n",
            "---\n",
            "\n",
            "Parametry: {'C': 1, 'gamma': 'scale', 'kernel': 'rbf'}\n",
            "mean_fit_time: 0.010329246520996094\n",
            "std_fit_time: 0.00704036185399827\n",
            "mean_score_time: 0.01172312100728353\n",
            "std_score_time: 0.00654623418701509\n",
            "param_C: 1\n",
            "param_kernel: rbf\n",
            "param_gamma: scale\n",
            "split0_test_score: 0.5903380893300249\n",
            "split1_test_score: 0.6785243979731572\n",
            "split2_test_score: 0.6709110441347618\n",
            "mean_test_score: 0.6465911771459814\n",
            "std_test_score: 0.039898188812605116\n",
            "rank_test_score: 10\n",
            "\n",
            "---\n",
            "\n",
            "Parametry: {'C': 1, 'gamma': 'auto', 'kernel': 'poly'}\n",
            "mean_fit_time: 0.4064309597015381\n",
            "std_fit_time: 0.26931817219626264\n",
            "mean_score_time: 0.0174862543741862\n",
            "std_score_time: 0.01877771516073152\n",
            "param_C: 1\n",
            "param_kernel: poly\n",
            "param_gamma: auto\n",
            "split0_test_score: 0.9583333333333334\n",
            "split1_test_score: 0.978533646433739\n",
            "split2_test_score: 0.8936170212765957\n",
            "mean_test_score: 0.943494667014556\n",
            "std_test_score: 0.03622014007528323\n",
            "rank_test_score: 1\n",
            "\n",
            "---\n",
            "\n",
            "Parametry: {'C': 1, 'gamma': 'auto', 'kernel': 'rbf'}\n",
            "mean_fit_time: 0.007796843846638997\n",
            "std_fit_time: 0.004767163351421212\n",
            "mean_score_time: 0.007268826166788737\n",
            "std_score_time: 0.002938832553650801\n",
            "param_C: 1\n",
            "param_kernel: rbf\n",
            "param_gamma: auto\n",
            "split0_test_score: 0.3054843304843305\n",
            "split1_test_score: 0.3156767139479905\n",
            "split2_test_score: 0.23275306254029654\n",
            "mean_test_score: 0.28463803565753915\n",
            "std_test_score: 0.03692342523566231\n",
            "rank_test_score: 17\n",
            "\n",
            "---\n",
            "\n",
            "Parametry: {'C': 10, 'gamma': 'scale', 'kernel': 'poly'}\n",
            "mean_fit_time: 0.013525009155273438\n",
            "std_fit_time: 0.008701611271219954\n",
            "mean_score_time: 0.0119322141011556\n",
            "std_score_time: 0.008070425454959843\n",
            "param_C: 10\n",
            "param_kernel: poly\n",
            "param_gamma: scale\n",
            "split0_test_score: 0.5903380893300249\n",
            "split1_test_score: 0.6613001099859672\n",
            "split2_test_score: 0.6617969081936137\n",
            "mean_test_score: 0.6378117025032018\n",
            "std_test_score: 0.03356952648759605\n",
            "rank_test_score: 11\n",
            "\n",
            "---\n",
            "\n",
            "Parametry: {'C': 10, 'gamma': 'scale', 'kernel': 'rbf'}\n",
            "mean_fit_time: 0.008401950200398764\n",
            "std_fit_time: 0.0034937473652530714\n",
            "mean_score_time: 0.012931108474731445\n",
            "std_score_time: 0.009055320363513659\n",
            "param_C: 10\n",
            "param_kernel: rbf\n",
            "param_gamma: scale\n",
            "split0_test_score: 0.7572343453510436\n",
            "split1_test_score: 0.6977265719171363\n",
            "split2_test_score: 0.6575525422471201\n",
            "mean_test_score: 0.7041711531717666\n",
            "std_test_score: 0.04094927706462385\n",
            "rank_test_score: 9\n",
            "\n",
            "---\n",
            "\n",
            "Parametry: {'C': 10, 'gamma': 'auto', 'kernel': 'poly'}\n",
            "mean_fit_time: 0.36272311210632324\n",
            "std_fit_time: 0.24928412449035334\n",
            "mean_score_time: 0.01765759785970052\n",
            "std_score_time: 0.003826724208090828\n",
            "param_C: 10\n",
            "param_kernel: poly\n",
            "param_gamma: auto\n",
            "split0_test_score: 0.9583333333333334\n",
            "split1_test_score: 0.978533646433739\n",
            "split2_test_score: 0.8936170212765957\n",
            "mean_test_score: 0.943494667014556\n",
            "std_test_score: 0.03622014007528323\n",
            "rank_test_score: 1\n",
            "\n",
            "---\n",
            "\n",
            "Parametry: {'C': 10, 'gamma': 'auto', 'kernel': 'rbf'}\n",
            "mean_fit_time: 0.010819276173909506\n",
            "std_fit_time: 0.003667795059370795\n",
            "mean_score_time: 0.0069857438405354815\n",
            "std_score_time: 0.0026906939227105903\n",
            "param_C: 10\n",
            "param_kernel: rbf\n",
            "param_gamma: auto\n",
            "split0_test_score: 0.4013376856118791\n",
            "split1_test_score: 0.3456772970915225\n",
            "split2_test_score: 0.393666045690754\n",
            "mean_test_score: 0.3802270094647185\n",
            "std_test_score: 0.024630272478839\n",
            "rank_test_score: 16\n",
            "\n",
            "---\n",
            "\n"
          ]
        }
      ]
    },
    {
      "cell_type": "code",
      "source": [
        "model = searcher.best_estimator_"
      ],
      "metadata": {
        "id": "ZU6RJ9NyYbCx"
      },
      "execution_count": null,
      "outputs": []
    },
    {
      "cell_type": "code",
      "source": [
        "y_pred = model.predict(X_test)"
      ],
      "metadata": {
        "id": "nHWLmjmbYrSa"
      },
      "execution_count": null,
      "outputs": []
    },
    {
      "cell_type": "code",
      "source": [
        "print_results(calculate_metric(y_test, y_pred), classifier_id = 'Best SVM')"
      ],
      "metadata": {
        "colab": {
          "base_uri": "https://localhost:8080/"
        },
        "id": "XdWysabsZDo2",
        "outputId": "b91081c6-3411-441a-d637-2abb24122177"
      },
      "execution_count": null,
      "outputs": [
        {
          "output_type": "stream",
          "name": "stdout",
          "text": [
            "Result for Best SVM\n",
            "----\n",
            "Accuracy: 0.9722\n",
            "Precision: 0.9741\n",
            "Recall: 0.9722\n",
            "F1 Score: 0.972\n",
            "Mislabeled: 1 out of 36\n",
            "\n",
            "\n"
          ]
        }
      ]
    },
    {
      "cell_type": "code",
      "source": [
        "final_model = SVC(C= 0.01, gamma='auto', kernel= 'poly')\n",
        "model.fit(X,y)"
      ],
      "metadata": {
        "colab": {
          "base_uri": "https://localhost:8080/",
          "height": 75
        },
        "id": "XFBC1dknZex9",
        "outputId": "1680950a-15b1-48fd-cd62-cca9d6a2d79f"
      },
      "execution_count": null,
      "outputs": [
        {
          "output_type": "execute_result",
          "data": {
            "text/plain": [
              "SVC(C=0.01, gamma='auto', kernel='poly')"
            ],
            "text/html": [
              "<style>#sk-container-id-3 {color: black;background-color: white;}#sk-container-id-3 pre{padding: 0;}#sk-container-id-3 div.sk-toggleable {background-color: white;}#sk-container-id-3 label.sk-toggleable__label {cursor: pointer;display: block;width: 100%;margin-bottom: 0;padding: 0.3em;box-sizing: border-box;text-align: center;}#sk-container-id-3 label.sk-toggleable__label-arrow:before {content: \"▸\";float: left;margin-right: 0.25em;color: #696969;}#sk-container-id-3 label.sk-toggleable__label-arrow:hover:before {color: black;}#sk-container-id-3 div.sk-estimator:hover label.sk-toggleable__label-arrow:before {color: black;}#sk-container-id-3 div.sk-toggleable__content {max-height: 0;max-width: 0;overflow: hidden;text-align: left;background-color: #f0f8ff;}#sk-container-id-3 div.sk-toggleable__content pre {margin: 0.2em;color: black;border-radius: 0.25em;background-color: #f0f8ff;}#sk-container-id-3 input.sk-toggleable__control:checked~div.sk-toggleable__content {max-height: 200px;max-width: 100%;overflow: auto;}#sk-container-id-3 input.sk-toggleable__control:checked~label.sk-toggleable__label-arrow:before {content: \"▾\";}#sk-container-id-3 div.sk-estimator input.sk-toggleable__control:checked~label.sk-toggleable__label {background-color: #d4ebff;}#sk-container-id-3 div.sk-label input.sk-toggleable__control:checked~label.sk-toggleable__label {background-color: #d4ebff;}#sk-container-id-3 input.sk-hidden--visually {border: 0;clip: rect(1px 1px 1px 1px);clip: rect(1px, 1px, 1px, 1px);height: 1px;margin: -1px;overflow: hidden;padding: 0;position: absolute;width: 1px;}#sk-container-id-3 div.sk-estimator {font-family: monospace;background-color: #f0f8ff;border: 1px dotted black;border-radius: 0.25em;box-sizing: border-box;margin-bottom: 0.5em;}#sk-container-id-3 div.sk-estimator:hover {background-color: #d4ebff;}#sk-container-id-3 div.sk-parallel-item::after {content: \"\";width: 100%;border-bottom: 1px solid gray;flex-grow: 1;}#sk-container-id-3 div.sk-label:hover label.sk-toggleable__label {background-color: #d4ebff;}#sk-container-id-3 div.sk-serial::before {content: \"\";position: absolute;border-left: 1px solid gray;box-sizing: border-box;top: 0;bottom: 0;left: 50%;z-index: 0;}#sk-container-id-3 div.sk-serial {display: flex;flex-direction: column;align-items: center;background-color: white;padding-right: 0.2em;padding-left: 0.2em;position: relative;}#sk-container-id-3 div.sk-item {position: relative;z-index: 1;}#sk-container-id-3 div.sk-parallel {display: flex;align-items: stretch;justify-content: center;background-color: white;position: relative;}#sk-container-id-3 div.sk-item::before, #sk-container-id-3 div.sk-parallel-item::before {content: \"\";position: absolute;border-left: 1px solid gray;box-sizing: border-box;top: 0;bottom: 0;left: 50%;z-index: -1;}#sk-container-id-3 div.sk-parallel-item {display: flex;flex-direction: column;z-index: 1;position: relative;background-color: white;}#sk-container-id-3 div.sk-parallel-item:first-child::after {align-self: flex-end;width: 50%;}#sk-container-id-3 div.sk-parallel-item:last-child::after {align-self: flex-start;width: 50%;}#sk-container-id-3 div.sk-parallel-item:only-child::after {width: 0;}#sk-container-id-3 div.sk-dashed-wrapped {border: 1px dashed gray;margin: 0 0.4em 0.5em 0.4em;box-sizing: border-box;padding-bottom: 0.4em;background-color: white;}#sk-container-id-3 div.sk-label label {font-family: monospace;font-weight: bold;display: inline-block;line-height: 1.2em;}#sk-container-id-3 div.sk-label-container {text-align: center;}#sk-container-id-3 div.sk-container {/* jupyter's `normalize.less` sets `[hidden] { display: none; }` but bootstrap.min.css set `[hidden] { display: none !important; }` so we also need the `!important` here to be able to override the default hidden behavior on the sphinx rendered scikit-learn.org. See: https://github.com/scikit-learn/scikit-learn/issues/21755 */display: inline-block !important;position: relative;}#sk-container-id-3 div.sk-text-repr-fallback {display: none;}</style><div id=\"sk-container-id-3\" class=\"sk-top-container\"><div class=\"sk-text-repr-fallback\"><pre>SVC(C=0.01, gamma=&#x27;auto&#x27;, kernel=&#x27;poly&#x27;)</pre><b>In a Jupyter environment, please rerun this cell to show the HTML representation or trust the notebook. <br />On GitHub, the HTML representation is unable to render, please try loading this page with nbviewer.org.</b></div><div class=\"sk-container\" hidden><div class=\"sk-item\"><div class=\"sk-estimator sk-toggleable\"><input class=\"sk-toggleable__control sk-hidden--visually\" id=\"sk-estimator-id-3\" type=\"checkbox\" checked><label for=\"sk-estimator-id-3\" class=\"sk-toggleable__label sk-toggleable__label-arrow\">SVC</label><div class=\"sk-toggleable__content\"><pre>SVC(C=0.01, gamma=&#x27;auto&#x27;, kernel=&#x27;poly&#x27;)</pre></div></div></div></div></div>"
            ]
          },
          "metadata": {},
          "execution_count": 44
        }
      ]
    },
    {
      "cell_type": "code",
      "source": [],
      "metadata": {
        "id": "-uJLEgibZ1OO"
      },
      "execution_count": null,
      "outputs": []
    },
    {
      "cell_type": "markdown",
      "metadata": {
        "id": "Jtmj5qnzmpTG"
      },
      "source": [
        "No dobrze, ale co w przypadku, gdy nasze dane nie są liniowo separowalne? Trzeba dokonać transofmracji. Do tego służy nam Kernel SVM"
      ]
    },
    {
      "cell_type": "code",
      "source": [
        "from sklearn.datasets import make_moons\n",
        "import matplotlib.pyplot as plt\n",
        "\n",
        "X,y = make_moons(n_samples = 1000, noise = 0, random_state=30)"
      ],
      "metadata": {
        "id": "XuSsNkbfZC8E"
      },
      "execution_count": null,
      "outputs": []
    },
    {
      "cell_type": "code",
      "source": [
        "plt.plot(X[:,0][y==1],X[:,1][y==1], 'o', color ='red')\n",
        "plt.plot(X[:,0][y==0],X[:,1][y==0], 'g^', color ='blue')"
      ],
      "metadata": {
        "colab": {
          "base_uri": "https://localhost:8080/",
          "height": 484
        },
        "id": "6JVrLTC7fPVf",
        "outputId": "c0e443b8-4454-427c-a577-93ecc59d0643"
      },
      "execution_count": null,
      "outputs": [
        {
          "output_type": "stream",
          "name": "stderr",
          "text": [
            "<ipython-input-65-e3821c715961>:2: UserWarning: color is redundantly defined by the 'color' keyword argument and the fmt string \"g^\" (-> color='g'). The keyword argument will take precedence.\n",
            "  plt.plot(X[:,0][y==0],X[:,1][y==0], 'g^', color ='blue')\n"
          ]
        },
        {
          "output_type": "execute_result",
          "data": {
            "text/plain": [
              "[<matplotlib.lines.Line2D at 0x7fbd65340b80>]"
            ]
          },
          "metadata": {},
          "execution_count": 65
        },
        {
          "output_type": "display_data",
          "data": {
            "text/plain": [
              "<Figure size 640x480 with 1 Axes>"
            ],
            "image/png": "[encoded data removed]"
          },
          "metadata": {}
        }
      ]
    },
    {
      "cell_type": "code",
      "source": [
        "X_train, X_test, y_train, y_test = train_test_split(X,y, stratify = y, test_size = 0.2, random_state = 30)"
      ],
      "metadata": {
        "id": "itsLH5EZgBmv"
      },
      "execution_count": null,
      "outputs": []
    },
    {
      "cell_type": "markdown",
      "metadata": {
        "id": "y9EYc_W4mpTG"
      },
      "source": [
        "Porównajmy sobie różne wartości regularyzacji i przekształceń gamma"
      ]
    },
    {
      "cell_type": "code",
      "execution_count": null,
      "metadata": {
        "colab": {
          "base_uri": "https://localhost:8080/"
        },
        "id": "XaYG5EkyLfI1",
        "outputId": "5ef1e90b-eaaf-4fb9-fc59-24ff072f72d0"
      },
      "outputs": [
        {
          "output_type": "stream",
          "name": "stdout",
          "text": [
            "Best CV params {'C': 0.1, 'gamma': 'scale', 'kernel': 'rbf'}\n",
            "Best CV scores 1.0\n"
          ]
        }
      ],
      "source": [
        "from sklearn.model_selection import GridSearchCV\n",
        "svm = SVC()\n",
        "svm.fit(X_train,y_train)\n",
        "\n",
        "parameters = [{'kernel': ['linear'], 'C': [0.01, 0.1, 1, 10]},\n",
        "              {'kernel': ['poly', 'rbf'], 'C': [0.01, 0.1, 1, 10], 'gamma': ['scale', 'auto']}]\n",
        "\n",
        "searcher = GridSearchCV(svm, parameters, cv = 3, scoring = 'f1_weighted')\n",
        "searcher.fit(X_train, y_train)\n",
        "\n",
        "print(\"Best CV params\", searcher.best_params_)\n",
        "print(\"Best CV scores\", searcher.best_score_)"
      ]
    },
    {
      "cell_type": "code",
      "execution_count": null,
      "metadata": {
        "colab": {
          "base_uri": "https://localhost:8080/"
        },
        "id": "czkzP9tRLfI2",
        "outputId": "35d5ce7d-94bf-487d-c4e9-5eba59b1077c"
      },
      "outputs": [
        {
          "output_type": "stream",
          "name": "stdout",
          "text": [
            "Parametry: {'C': 0.01, 'kernel': 'linear'}\n",
            "mean_fit_time: 0.003953774770100911\n",
            "std_fit_time: 0.0006433397549541236\n",
            "mean_score_time: 0.0024427572886149087\n",
            "std_score_time: 8.757923562372035e-05\n",
            "param_C: 0.01\n",
            "param_kernel: linear\n",
            "param_gamma: --\n",
            "split0_test_score: 0.8277105223229128\n",
            "split1_test_score: 0.8052270520435314\n",
            "split2_test_score: 0.8570135234538561\n",
            "mean_test_score: 0.8299836992734334\n",
            "std_test_score: 0.02120275383638294\n",
            "rank_test_score: 17\n",
            "\n",
            "---\n",
            "\n",
            "Parametry: {'C': 0.1, 'kernel': 'linear'}\n",
            "mean_fit_time: 0.002713362375895182\n",
            "std_fit_time: 0.00015130814361894793\n",
            "mean_score_time: 0.0020400683085123696\n",
            "std_score_time: 0.00014183872853755738\n",
            "param_C: 0.1\n",
            "param_kernel: linear\n",
            "param_gamma: --\n",
            "split0_test_score: 0.8538464849972018\n",
            "split1_test_score: 0.8614193330091611\n",
            "split2_test_score: 0.8871606334841629\n",
            "mean_test_score: 0.8674754838301753\n",
            "std_test_score: 0.01425870130664021\n",
            "rank_test_score: 15\n",
            "\n",
            "---\n",
            "\n",
            "Parametry: {'C': 1, 'kernel': 'linear'}\n",
            "mean_fit_time: 0.0027884642283121743\n",
            "std_fit_time: 0.00023840430005017855\n",
            "mean_score_time: 0.0017232894897460938\n",
            "std_score_time: 2.4944098758031016e-05\n",
            "param_C: 1\n",
            "param_kernel: linear\n",
            "param_gamma: --\n",
            "split0_test_score: 0.8575660267450639\n",
            "split1_test_score: 0.8801498127340824\n",
            "split2_test_score: 0.8984258984258984\n",
            "mean_test_score: 0.878713912635015\n",
            "std_test_score: 0.016711844806692085\n",
            "rank_test_score: 14\n",
            "\n",
            "---\n",
            "\n",
            "Parametry: {'C': 10, 'kernel': 'linear'}\n",
            "mean_fit_time: 0.003604412078857422\n",
            "std_fit_time: 0.00018684392139604986\n",
            "mean_score_time: 0.0017690658569335938\n",
            "std_score_time: 0.00011274064806698908\n",
            "param_C: 10\n",
            "param_kernel: linear\n",
            "param_gamma: --\n",
            "split0_test_score: 0.8688770734419865\n",
            "split1_test_score: 0.8801498127340824\n",
            "split2_test_score: 0.8984258984258984\n",
            "mean_test_score: 0.8824842615339891\n",
            "std_test_score: 0.012175672544928892\n",
            "rank_test_score: 12\n",
            "\n",
            "---\n",
            "\n",
            "Parametry: {'C': 0.01, 'gamma': 'scale', 'kernel': 'poly'}\n",
            "mean_fit_time: 0.003898143768310547\n",
            "std_fit_time: 4.206044319531199e-05\n",
            "mean_score_time: 0.0023956298828125\n",
            "std_score_time: 1.129577476476169e-05\n",
            "param_C: 0.01\n",
            "param_kernel: poly\n",
            "param_gamma: scale\n",
            "split0_test_score: 0.7678937581243909\n",
            "split1_test_score: 0.7938225865331818\n",
            "split2_test_score: 0.797931397183428\n",
            "mean_test_score: 0.7865492472803336\n",
            "std_test_score: 0.013297644853519879\n",
            "rank_test_score: 19\n",
            "\n",
            "---\n",
            "\n",
            "Parametry: {'C': 0.01, 'gamma': 'scale', 'kernel': 'rbf'}\n",
            "mean_fit_time: 0.006808360417683919\n",
            "std_fit_time: 7.580094528390729e-05\n",
            "mean_score_time: 0.0059553782145182295\n",
            "std_score_time: 0.0007840477372390741\n",
            "param_C: 0.01\n",
            "param_kernel: rbf\n",
            "param_gamma: scale\n",
            "split0_test_score: 0.8575660267450639\n",
            "split1_test_score: 0.8801498127340824\n",
            "split2_test_score: 0.898460363913984\n",
            "mean_test_score: 0.8787254011310434\n",
            "std_test_score: 0.0167253981404028\n",
            "rank_test_score: 13\n",
            "\n",
            "---\n",
            "\n",
            "Parametry: {'C': 0.01, 'gamma': 'auto', 'kernel': 'poly'}\n",
            "mean_fit_time: 0.004722992579142253\n",
            "std_fit_time: 0.0003128380252613557\n",
            "mean_score_time: 0.0028839906056722007\n",
            "std_score_time: 5.139467501108344e-05\n",
            "param_C: 0.01\n",
            "param_kernel: poly\n",
            "param_gamma: auto\n",
            "split0_test_score: 0.6761585974743441\n",
            "split1_test_score: 0.7227716924135089\n",
            "split2_test_score: 0.7079241139510766\n",
            "mean_test_score: 0.7022848012796432\n",
            "std_test_score: 0.01944302000730234\n",
            "rank_test_score: 20\n",
            "\n",
            "---\n",
            "\n",
            "Parametry: {'C': 0.01, 'gamma': 'auto', 'kernel': 'rbf'}\n",
            "mean_fit_time: 0.006539503733317058\n",
            "std_fit_time: 7.203775272547646e-05\n",
            "mean_score_time: 0.005184332529703776\n",
            "std_score_time: 0.00011143517641448562\n",
            "param_C: 0.01\n",
            "param_kernel: rbf\n",
            "param_gamma: auto\n",
            "split0_test_score: 0.8314464883404405\n",
            "split1_test_score: 0.8089566041129717\n",
            "split2_test_score: 0.8570135234538561\n",
            "mean_test_score: 0.8324722053024227\n",
            "std_test_score: 0.019632557068954636\n",
            "rank_test_score: 16\n",
            "\n",
            "---\n",
            "\n",
            "Parametry: {'C': 0.1, 'gamma': 'scale', 'kernel': 'poly'}\n",
            "mean_fit_time: 0.002981424331665039\n",
            "std_fit_time: 6.970064301251328e-05\n",
            "mean_score_time: 0.001916964848836263\n",
            "std_score_time: 3.1045317625402784e-05\n",
            "param_C: 0.1\n",
            "param_kernel: poly\n",
            "param_gamma: scale\n",
            "split0_test_score: 0.9436304094773486\n",
            "split1_test_score: 0.9398725250984395\n",
            "split2_test_score: 0.9358281181262151\n",
            "mean_test_score: 0.9397770175673344\n",
            "std_test_score: 0.0031859879523068067\n",
            "rank_test_score: 8\n",
            "\n",
            "---\n",
            "\n",
            "Parametry: {'C': 0.1, 'gamma': 'scale', 'kernel': 'rbf'}\n",
            "mean_fit_time: 0.003692150115966797\n",
            "std_fit_time: 0.00021827747184802337\n",
            "mean_score_time: 0.002550363540649414\n",
            "std_score_time: 9.780006448691788e-06\n",
            "param_C: 0.1\n",
            "param_kernel: rbf\n",
            "param_gamma: scale\n",
            "split0_test_score: 1.0\n",
            "split1_test_score: 1.0\n",
            "split2_test_score: 1.0\n",
            "mean_test_score: 1.0\n",
            "std_test_score: 0.0\n",
            "rank_test_score: 1\n",
            "\n",
            "---\n",
            "\n",
            "Parametry: {'C': 0.1, 'gamma': 'auto', 'kernel': 'poly'}\n",
            "mean_fit_time: 0.003730297088623047\n",
            "std_fit_time: 0.00016114309453760839\n",
            "mean_score_time: 0.0024291674296061196\n",
            "std_score_time: 0.00014123241725540151\n",
            "param_C: 0.1\n",
            "param_kernel: poly\n",
            "param_gamma: auto\n",
            "split0_test_score: 0.772717505422376\n",
            "split1_test_score: 0.8114728260690531\n",
            "split2_test_score: 0.8113065508505247\n",
            "mean_test_score: 0.7984989607806513\n",
            "std_test_score: 0.018230368293137122\n",
            "rank_test_score: 18\n",
            "\n",
            "---\n",
            "\n",
            "Parametry: {'C': 0.1, 'gamma': 'auto', 'kernel': 'rbf'}\n",
            "mean_fit_time: 0.004000743230183919\n",
            "std_fit_time: 0.00017879913410113324\n",
            "mean_score_time: 0.002942959467569987\n",
            "std_score_time: 4.1715454705217594e-05\n",
            "param_C: 0.1\n",
            "param_kernel: rbf\n",
            "param_gamma: auto\n",
            "split0_test_score: 0.928836954788488\n",
            "split1_test_score: 0.9550435664445038\n",
            "split2_test_score: 0.9661649353402586\n",
            "mean_test_score: 0.9500151521910835\n",
            "std_test_score: 0.015648391726656573\n",
            "rank_test_score: 6\n",
            "\n",
            "---\n",
            "\n",
            "Parametry: {'C': 1, 'gamma': 'scale', 'kernel': 'poly'}\n",
            "mean_fit_time: 0.00253446896870931\n",
            "std_fit_time: 6.250458314845095e-05\n",
            "mean_score_time: 0.0016601085662841797\n",
            "std_score_time: 4.093214901658633e-05\n",
            "param_C: 1\n",
            "param_kernel: poly\n",
            "param_gamma: scale\n",
            "split0_test_score: 0.9324363948888411\n",
            "split1_test_score: 0.9398725250984395\n",
            "split2_test_score: 0.9396312056737588\n",
            "mean_test_score: 0.9373133752203465\n",
            "std_test_score: 0.00344995281432464\n",
            "rank_test_score: 10\n",
            "\n",
            "---\n",
            "\n",
            "Parametry: {'C': 1, 'gamma': 'scale', 'kernel': 'rbf'}\n",
            "mean_fit_time: 0.002550522486368815\n",
            "std_fit_time: 0.00014929703820913925\n",
            "mean_score_time: 0.0014934539794921875\n",
            "std_score_time: 1.4173377940847253e-05\n",
            "param_C: 1\n",
            "param_kernel: rbf\n",
            "param_gamma: scale\n",
            "split0_test_score: 1.0\n",
            "split1_test_score: 1.0\n",
            "split2_test_score: 1.0\n",
            "mean_test_score: 1.0\n",
            "std_test_score: 0.0\n",
            "rank_test_score: 1\n",
            "\n",
            "---\n",
            "\n",
            "Parametry: {'C': 1, 'gamma': 'auto', 'kernel': 'poly'}\n",
            "mean_fit_time: 0.002986431121826172\n",
            "std_fit_time: 0.00014504369524098558\n",
            "mean_score_time: 0.0020848910013834634\n",
            "std_score_time: 0.00013219793639444923\n",
            "param_C: 1\n",
            "param_kernel: poly\n",
            "param_gamma: auto\n",
            "split0_test_score: 0.9398453341773488\n",
            "split1_test_score: 0.9360857808822411\n",
            "split2_test_score: 0.9358281181262151\n",
            "mean_test_score: 0.9372530777286018\n",
            "std_test_score: 0.0018360179095012546\n",
            "rank_test_score: 11\n",
            "\n",
            "---\n",
            "\n",
            "Parametry: {'C': 1, 'gamma': 'auto', 'kernel': 'rbf'}\n",
            "mean_fit_time: 0.0023796558380126953\n",
            "std_fit_time: 0.0001913211672472267\n",
            "mean_score_time: 0.0017074743906656902\n",
            "std_score_time: 9.125200967411883e-05\n",
            "param_C: 1\n",
            "param_kernel: rbf\n",
            "param_gamma: auto\n",
            "split0_test_score: 1.0\n",
            "split1_test_score: 1.0\n",
            "split2_test_score: 1.0\n",
            "mean_test_score: 1.0\n",
            "std_test_score: 0.0\n",
            "rank_test_score: 1\n",
            "\n",
            "---\n",
            "\n",
            "Parametry: {'C': 10, 'gamma': 'scale', 'kernel': 'poly'}\n",
            "mean_fit_time: 0.004148403803507487\n",
            "std_fit_time: 0.00029203731616342393\n",
            "mean_score_time: 0.0018331209818522136\n",
            "std_score_time: 0.00018955564888335243\n",
            "param_C: 10\n",
            "param_kernel: poly\n",
            "param_gamma: scale\n",
            "split0_test_score: 0.9362114561099701\n",
            "split1_test_score: 0.9474313604057921\n",
            "split2_test_score: 0.9434291304532759\n",
            "mean_test_score: 0.942357315656346\n",
            "std_test_score: 0.004642783168247215\n",
            "rank_test_score: 7\n",
            "\n",
            "---\n",
            "\n",
            "Parametry: {'C': 10, 'gamma': 'scale', 'kernel': 'rbf'}\n",
            "mean_fit_time: 0.0023736953735351562\n",
            "std_fit_time: 0.0001075478347778782\n",
            "mean_score_time: 0.0012830098470052083\n",
            "std_score_time: 1.731815549590894e-05\n",
            "param_C: 10\n",
            "param_kernel: rbf\n",
            "param_gamma: scale\n",
            "split0_test_score: 1.0\n",
            "split1_test_score: 1.0\n",
            "split2_test_score: 1.0\n",
            "mean_test_score: 1.0\n",
            "std_test_score: 0.0\n",
            "rank_test_score: 1\n",
            "\n",
            "---\n",
            "\n",
            "Parametry: {'C': 10, 'gamma': 'auto', 'kernel': 'poly'}\n",
            "mean_fit_time: 0.0025167465209960938\n",
            "std_fit_time: 0.00013537599233703763\n",
            "mean_score_time: 0.0015451908111572266\n",
            "std_score_time: 5.553054822672934e-05\n",
            "param_C: 10\n",
            "param_kernel: poly\n",
            "param_gamma: auto\n",
            "split0_test_score: 0.9362114561099701\n",
            "split1_test_score: 0.9398725250984395\n",
            "split2_test_score: 0.9396312056737588\n",
            "mean_test_score: 0.9385717289607228\n",
            "std_test_score: 0.0016718701531881844\n",
            "rank_test_score: 9\n",
            "\n",
            "---\n",
            "\n",
            "Parametry: {'C': 10, 'gamma': 'auto', 'kernel': 'rbf'}\n",
            "mean_fit_time: 0.0019313494364420574\n",
            "std_fit_time: 0.00019987406834922803\n",
            "mean_score_time: 0.0012031396230061848\n",
            "std_score_time: 2.9651152483245717e-05\n",
            "param_C: 10\n",
            "param_kernel: rbf\n",
            "param_gamma: auto\n",
            "split0_test_score: 1.0\n",
            "split1_test_score: 1.0\n",
            "split2_test_score: 1.0\n",
            "mean_test_score: 1.0\n",
            "std_test_score: 0.0\n",
            "rank_test_score: 1\n",
            "\n",
            "---\n",
            "\n"
          ]
        }
      ],
      "source": [
        "for i in range(len(searcher.cv_results_['params'])):\n",
        "    print(f\"Parametry: {searcher.cv_results_['params'][i]}\")\n",
        "\n",
        "    for key in searcher.cv_results_.keys():\n",
        "\n",
        "        if key != 'params':\n",
        "            print(f\"{key}: {searcher.cv_results_[key][i]}\")\n",
        "            \n",
        "    print(\"\\n---\\n\")"
      ]
    },
    {
      "cell_type": "code",
      "execution_count": null,
      "metadata": {
        "id": "V5xP5C8TLfI3"
      },
      "outputs": [],
      "source": []
    },
    {
      "cell_type": "markdown",
      "metadata": {
        "id": "ULyxoBvlmpTG"
      },
      "source": [
        "ZADANIE DOMOWE: Na zbiorze breast_cancer wytrenuj trzy wybrane modele, dobierz wartości parametrów i porównaj wyniki."
      ]
    },
    {
      "cell_type": "code",
      "execution_count": null,
      "metadata": {
        "id": "VWEtTgNOLfI5"
      },
      "outputs": [],
      "source": []
    },
    {
      "cell_type": "code",
      "execution_count": null,
      "metadata": {
        "id": "Q5mDJEcvLfI6"
      },
      "outputs": [],
      "source": []
    },
    {
      "cell_type": "markdown",
      "metadata": {
        "id": "XKY8mt9tLfI7"
      },
      "source": [
        "ZADANIE DOMOWE: Przeprowadź analogiczny eksperyment używając walidacji krzyżowej."
      ]
    },
    {
      "cell_type": "code",
      "execution_count": null,
      "metadata": {
        "id": "m6YaLZAXLfI8"
      },
      "outputs": [],
      "source": []
    }
  ],
  "metadata": {
    "colab": {
      "provenance": []
    },
    "kernelspec": {
      "display_name": "Python 3 (ipykernel)",
      "language": "python",
      "name": "python3"
    },
    "language_info": {
      "codemirror_mode": {
        "name": "ipython",
        "version": 3
      },
      "file_extension": ".py",
      "mimetype": "text/x-python",
      "name": "python",
      "nbconvert_exporter": "python",
      "pygments_lexer": "ipython3",
      "version": "3.10.9"
    }
  },
  "nbformat": 4,
  "nbformat_minor": 0
}
