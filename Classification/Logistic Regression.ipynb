{
 "cells": [
  {
   "cell_type": "markdown",
   "metadata": {
    "id": "DN1V1CgEgq_a"
   },
   "source": [
    "Sklonujmy sobie najpierw repozytorium z danymi"
   ]
  },
  {
   "cell_type": "code",
   "execution_count": null,
   "metadata": {
    "colab": {
     "base_uri": "https://localhost:8080/"
    },
    "executionInfo": {
     "elapsed": 4751,
     "status": "ok",
     "timestamp": 1616243756945,
     "user": {
      "displayName": "Oskar Duda",
      "photoUrl": "",
      "userId": "06088257986685215787"
     },
     "user_tz": -60
    },
    "id": "wBFyDWHqgq_a",
    "outputId": "b756a76a-0bf5-425f-9abe-e15d844e8fdb"
   },
   "outputs": [],
   "source": [
    "!git clone https://github.com/matzim95/ML-datasets"
   ]
  },
  {
   "cell_type": "markdown",
   "metadata": {
    "colab": {
     "base_uri": "https://localhost:8080/"
    },
    "executionInfo": {
     "elapsed": 582,
     "status": "ok",
     "timestamp": 1616243763563,
     "user": {
      "displayName": "Oskar Duda",
      "photoUrl": "",
      "userId": "06088257986685215787"
     },
     "user_tz": -60
    },
    "id": "WG8QguNaonip",
    "outputId": "33b5a52f-c626-4e63-d5b2-400390e027bc"
   },
   "source": [
    "!ls ML-datasets "
   ]
  },
  {
   "cell_type": "markdown",
   "metadata": {
    "id": "X7AbBWrXgq_h"
   },
   "source": [
    "# Budowa modelu na danych rzeczywistych"
   ]
  },
  {
   "cell_type": "code",
   "execution_count": 1,
   "metadata": {
    "executionInfo": {
     "elapsed": 736,
     "status": "ok",
     "timestamp": 1616244862738,
     "user": {
      "displayName": "Oskar Duda",
      "photoUrl": "",
      "userId": "06088257986685215787"
     },
     "user_tz": -60
    },
    "id": "OFU1eEkjgq_h"
   },
   "outputs": [],
   "source": [
    "import pandas as pd\n",
    "import numpy as np\n",
    "import matplotlib.pyplot as plt\n",
    "\n",
    "def load_dataset(filename, class_column, index_col=None):\n",
    "    dataset = pd.read_csv(f'ML-datasets/{filename}.csv', index_col=index_col)\n",
    "    dataset['class'] = dataset[class_column].astype('category').cat.codes\n",
    "    classes = dataset.pop(class_column).unique()\n",
    "    return dataset, classes\n",
    "\n",
    "def prepare_dataset(dataset_name):\n",
    "    params = {'iris': {'class_column': 'species', 'index_col': None},\n",
    "              'wine': {'class_column': 'Class', 'index_col': None},\n",
    "              'glass': {'class_column': 'Type', 'index_col': 'ID'},\n",
    "              'diabetes': {'class_column': 'Class', 'index_col': None}}\n",
    "    dataset, classes = load_dataset(dataset_name,\n",
    "                                    **params[dataset_name])\n",
    "    y = dataset.pop('class')\n",
    "    X = dataset\n",
    "    return X, y, classes"
   ]
  },
  {
   "cell_type": "markdown",
   "metadata": {},
   "source": [
    "Skorzystamy ze zbioru diabets"
   ]
  },
  {
   "cell_type": "code",
   "execution_count": 2,
   "metadata": {},
   "outputs": [],
   "source": [
    "X,y,classes = prepare_dataset('diabetes')"
   ]
  },
  {
   "cell_type": "code",
   "execution_count": 3,
   "metadata": {},
   "outputs": [
    {
     "data": {
      "text/html": [
       "<div>\n",
       "<style scoped>\n",
       "    .dataframe tbody tr th:only-of-type {\n",
       "        vertical-align: middle;\n",
       "    }\n",
       "\n",
       "    .dataframe tbody tr th {\n",
       "        vertical-align: top;\n",
       "    }\n",
       "\n",
       "    .dataframe thead th {\n",
       "        text-align: right;\n",
       "    }\n",
       "</style>\n",
       "<table border=\"1\" class=\"dataframe\">\n",
       "  <thead>\n",
       "    <tr style=\"text-align: right;\">\n",
       "      <th></th>\n",
       "      <th>Number of times pregnant</th>\n",
       "      <th>Plasma glucose concentration</th>\n",
       "      <th>Diastolic blood pressure</th>\n",
       "      <th>Triceps skin fold thickness</th>\n",
       "      <th>2-Hour serum insulin</th>\n",
       "      <th>Body mass index</th>\n",
       "      <th>Diabetes pedigree function</th>\n",
       "      <th>Age</th>\n",
       "    </tr>\n",
       "  </thead>\n",
       "  <tbody>\n",
       "    <tr>\n",
       "      <th>0</th>\n",
       "      <td>6</td>\n",
       "      <td>148</td>\n",
       "      <td>72</td>\n",
       "      <td>35</td>\n",
       "      <td>0</td>\n",
       "      <td>33.6</td>\n",
       "      <td>0.627</td>\n",
       "      <td>50</td>\n",
       "    </tr>\n",
       "    <tr>\n",
       "      <th>1</th>\n",
       "      <td>1</td>\n",
       "      <td>85</td>\n",
       "      <td>66</td>\n",
       "      <td>29</td>\n",
       "      <td>0</td>\n",
       "      <td>26.6</td>\n",
       "      <td>0.351</td>\n",
       "      <td>31</td>\n",
       "    </tr>\n",
       "    <tr>\n",
       "      <th>2</th>\n",
       "      <td>8</td>\n",
       "      <td>183</td>\n",
       "      <td>64</td>\n",
       "      <td>0</td>\n",
       "      <td>0</td>\n",
       "      <td>23.3</td>\n",
       "      <td>0.672</td>\n",
       "      <td>32</td>\n",
       "    </tr>\n",
       "    <tr>\n",
       "      <th>3</th>\n",
       "      <td>1</td>\n",
       "      <td>89</td>\n",
       "      <td>66</td>\n",
       "      <td>23</td>\n",
       "      <td>94</td>\n",
       "      <td>28.1</td>\n",
       "      <td>0.167</td>\n",
       "      <td>21</td>\n",
       "    </tr>\n",
       "    <tr>\n",
       "      <th>4</th>\n",
       "      <td>0</td>\n",
       "      <td>137</td>\n",
       "      <td>40</td>\n",
       "      <td>35</td>\n",
       "      <td>168</td>\n",
       "      <td>43.1</td>\n",
       "      <td>2.288</td>\n",
       "      <td>33</td>\n",
       "    </tr>\n",
       "  </tbody>\n",
       "</table>\n",
       "</div>"
      ],
      "text/plain": [
       "   Number of times pregnant  Plasma glucose concentration  \\\n",
       "0                         6                           148   \n",
       "1                         1                            85   \n",
       "2                         8                           183   \n",
       "3                         1                            89   \n",
       "4                         0                           137   \n",
       "\n",
       "   Diastolic blood pressure  Triceps skin fold thickness  \\\n",
       "0                        72                           35   \n",
       "1                        66                           29   \n",
       "2                        64                            0   \n",
       "3                        66                           23   \n",
       "4                        40                           35   \n",
       "\n",
       "   2-Hour serum insulin  Body mass index  Diabetes pedigree function  Age  \n",
       "0                     0             33.6                       0.627   50  \n",
       "1                     0             26.6                       0.351   31  \n",
       "2                     0             23.3                       0.672   32  \n",
       "3                    94             28.1                       0.167   21  \n",
       "4                   168             43.1                       2.288   33  "
      ]
     },
     "execution_count": 3,
     "metadata": {},
     "output_type": "execute_result"
    }
   ],
   "source": [
    "X.head()"
   ]
  },
  {
   "cell_type": "code",
   "execution_count": 4,
   "metadata": {},
   "outputs": [
    {
     "data": {
      "text/plain": [
       "0    500\n",
       "1    268\n",
       "Name: class, dtype: int64"
      ]
     },
     "execution_count": 4,
     "metadata": {},
     "output_type": "execute_result"
    }
   ],
   "source": [
    "y.value_counts()"
   ]
  },
  {
   "cell_type": "markdown",
   "metadata": {},
   "source": [
    "Podejrzyjmy co to za zbór"
   ]
  },
  {
   "cell_type": "code",
   "execution_count": 5,
   "metadata": {},
   "outputs": [
    {
     "data": {
      "text/plain": [
       "array(['positive', 'negative'], dtype=object)"
      ]
     },
     "execution_count": 5,
     "metadata": {},
     "output_type": "execute_result"
    }
   ],
   "source": [
    "classes"
   ]
  },
  {
   "cell_type": "code",
   "execution_count": 6,
   "metadata": {},
   "outputs": [
    {
     "data": {
      "text/html": [
       "<div>\n",
       "<style scoped>\n",
       "    .dataframe tbody tr th:only-of-type {\n",
       "        vertical-align: middle;\n",
       "    }\n",
       "\n",
       "    .dataframe tbody tr th {\n",
       "        vertical-align: top;\n",
       "    }\n",
       "\n",
       "    .dataframe thead th {\n",
       "        text-align: right;\n",
       "    }\n",
       "</style>\n",
       "<table border=\"1\" class=\"dataframe\">\n",
       "  <thead>\n",
       "    <tr style=\"text-align: right;\">\n",
       "      <th></th>\n",
       "      <th>Number of times pregnant</th>\n",
       "      <th>Plasma glucose concentration</th>\n",
       "      <th>Diastolic blood pressure</th>\n",
       "      <th>Triceps skin fold thickness</th>\n",
       "      <th>2-Hour serum insulin</th>\n",
       "      <th>Body mass index</th>\n",
       "      <th>Diabetes pedigree function</th>\n",
       "      <th>Age</th>\n",
       "    </tr>\n",
       "  </thead>\n",
       "  <tbody>\n",
       "    <tr>\n",
       "      <th>count</th>\n",
       "      <td>768.000000</td>\n",
       "      <td>768.000000</td>\n",
       "      <td>768.000000</td>\n",
       "      <td>768.000000</td>\n",
       "      <td>768.000000</td>\n",
       "      <td>768.000000</td>\n",
       "      <td>768.000000</td>\n",
       "      <td>768.000000</td>\n",
       "    </tr>\n",
       "    <tr>\n",
       "      <th>mean</th>\n",
       "      <td>3.845052</td>\n",
       "      <td>120.894531</td>\n",
       "      <td>69.105469</td>\n",
       "      <td>20.536458</td>\n",
       "      <td>79.799479</td>\n",
       "      <td>31.992578</td>\n",
       "      <td>0.471876</td>\n",
       "      <td>33.240885</td>\n",
       "    </tr>\n",
       "    <tr>\n",
       "      <th>std</th>\n",
       "      <td>3.369578</td>\n",
       "      <td>31.972618</td>\n",
       "      <td>19.355807</td>\n",
       "      <td>15.952218</td>\n",
       "      <td>115.244002</td>\n",
       "      <td>7.884160</td>\n",
       "      <td>0.331329</td>\n",
       "      <td>11.760232</td>\n",
       "    </tr>\n",
       "    <tr>\n",
       "      <th>min</th>\n",
       "      <td>0.000000</td>\n",
       "      <td>0.000000</td>\n",
       "      <td>0.000000</td>\n",
       "      <td>0.000000</td>\n",
       "      <td>0.000000</td>\n",
       "      <td>0.000000</td>\n",
       "      <td>0.078000</td>\n",
       "      <td>21.000000</td>\n",
       "    </tr>\n",
       "    <tr>\n",
       "      <th>25%</th>\n",
       "      <td>1.000000</td>\n",
       "      <td>99.000000</td>\n",
       "      <td>62.000000</td>\n",
       "      <td>0.000000</td>\n",
       "      <td>0.000000</td>\n",
       "      <td>27.300000</td>\n",
       "      <td>0.243750</td>\n",
       "      <td>24.000000</td>\n",
       "    </tr>\n",
       "    <tr>\n",
       "      <th>50%</th>\n",
       "      <td>3.000000</td>\n",
       "      <td>117.000000</td>\n",
       "      <td>72.000000</td>\n",
       "      <td>23.000000</td>\n",
       "      <td>30.500000</td>\n",
       "      <td>32.000000</td>\n",
       "      <td>0.372500</td>\n",
       "      <td>29.000000</td>\n",
       "    </tr>\n",
       "    <tr>\n",
       "      <th>75%</th>\n",
       "      <td>6.000000</td>\n",
       "      <td>140.250000</td>\n",
       "      <td>80.000000</td>\n",
       "      <td>32.000000</td>\n",
       "      <td>127.250000</td>\n",
       "      <td>36.600000</td>\n",
       "      <td>0.626250</td>\n",
       "      <td>41.000000</td>\n",
       "    </tr>\n",
       "    <tr>\n",
       "      <th>max</th>\n",
       "      <td>17.000000</td>\n",
       "      <td>199.000000</td>\n",
       "      <td>122.000000</td>\n",
       "      <td>99.000000</td>\n",
       "      <td>846.000000</td>\n",
       "      <td>67.100000</td>\n",
       "      <td>2.420000</td>\n",
       "      <td>81.000000</td>\n",
       "    </tr>\n",
       "  </tbody>\n",
       "</table>\n",
       "</div>"
      ],
      "text/plain": [
       "       Number of times pregnant  Plasma glucose concentration  \\\n",
       "count                768.000000                    768.000000   \n",
       "mean                   3.845052                    120.894531   \n",
       "std                    3.369578                     31.972618   \n",
       "min                    0.000000                      0.000000   \n",
       "25%                    1.000000                     99.000000   \n",
       "50%                    3.000000                    117.000000   \n",
       "75%                    6.000000                    140.250000   \n",
       "max                   17.000000                    199.000000   \n",
       "\n",
       "       Diastolic blood pressure  Triceps skin fold thickness  \\\n",
       "count                768.000000                   768.000000   \n",
       "mean                  69.105469                    20.536458   \n",
       "std                   19.355807                    15.952218   \n",
       "min                    0.000000                     0.000000   \n",
       "25%                   62.000000                     0.000000   \n",
       "50%                   72.000000                    23.000000   \n",
       "75%                   80.000000                    32.000000   \n",
       "max                  122.000000                    99.000000   \n",
       "\n",
       "       2-Hour serum insulin  Body mass index  Diabetes pedigree function  \\\n",
       "count            768.000000       768.000000                  768.000000   \n",
       "mean              79.799479        31.992578                    0.471876   \n",
       "std              115.244002         7.884160                    0.331329   \n",
       "min                0.000000         0.000000                    0.078000   \n",
       "25%                0.000000        27.300000                    0.243750   \n",
       "50%               30.500000        32.000000                    0.372500   \n",
       "75%              127.250000        36.600000                    0.626250   \n",
       "max              846.000000        67.100000                    2.420000   \n",
       "\n",
       "              Age  \n",
       "count  768.000000  \n",
       "mean    33.240885  \n",
       "std     11.760232  \n",
       "min     21.000000  \n",
       "25%     24.000000  \n",
       "50%     29.000000  \n",
       "75%     41.000000  \n",
       "max     81.000000  "
      ]
     },
     "execution_count": 6,
     "metadata": {},
     "output_type": "execute_result"
    }
   ],
   "source": [
    "X.describe()"
   ]
  },
  {
   "cell_type": "code",
   "execution_count": 7,
   "metadata": {},
   "outputs": [
    {
     "data": {
      "text/plain": [
       "Number of times pregnant        0\n",
       "Plasma glucose concentration    0\n",
       "Diastolic blood pressure        0\n",
       "Triceps skin fold thickness     0\n",
       "2-Hour serum insulin            0\n",
       "Body mass index                 0\n",
       "Diabetes pedigree function      0\n",
       "Age                             0\n",
       "dtype: int64"
      ]
     },
     "execution_count": 7,
     "metadata": {},
     "output_type": "execute_result"
    }
   ],
   "source": [
    "X.isna().sum()"
   ]
  },
  {
   "cell_type": "markdown",
   "metadata": {
    "id": "1oF3uBDMgq_h"
   },
   "source": [
    "Dzielimy dataset na zbiory treningowy i testowy"
   ]
  },
  {
   "cell_type": "code",
   "execution_count": 8,
   "metadata": {},
   "outputs": [],
   "source": [
    "from sklearn.model_selection import train_test_split\n",
    "\n",
    "X_train, X_test, y_train, y_test = train_test_split(X,y, stratify = y)"
   ]
  },
  {
   "cell_type": "code",
   "execution_count": 9,
   "metadata": {},
   "outputs": [
    {
     "name": "stdout",
     "output_type": "stream",
     "text": [
      "0    375\n",
      "1    201\n",
      "Name: class, dtype: int64\n",
      "0    125\n",
      "1     67\n",
      "Name: class, dtype: int64\n"
     ]
    }
   ],
   "source": [
    "print(y_train.value_counts())\n",
    "print(y_test.value_counts())"
   ]
  },
  {
   "cell_type": "code",
   "execution_count": 10,
   "metadata": {},
   "outputs": [
    {
     "data": {
      "text/plain": [
       "0.536"
      ]
     },
     "execution_count": 10,
     "metadata": {},
     "output_type": "execute_result"
    }
   ],
   "source": [
    "67/125"
   ]
  },
  {
   "cell_type": "code",
   "execution_count": 11,
   "metadata": {},
   "outputs": [
    {
     "data": {
      "text/plain": [
       "0.536"
      ]
     },
     "execution_count": 11,
     "metadata": {},
     "output_type": "execute_result"
    }
   ],
   "source": [
    "201/375"
   ]
  },
  {
   "cell_type": "markdown",
   "metadata": {
    "id": "IekQwULKgq_h"
   },
   "source": [
    "Trenujemy model na danych treningowych"
   ]
  },
  {
   "cell_type": "code",
   "execution_count": null,
   "metadata": {},
   "outputs": [],
   "source": [
    "from sklearn.linear_model import LogisticRegression\n",
    "\n",
    "model = LogisticRegression(random_state=30, max_iter=500)\n",
    "model.fit(X_train, y_train)"
   ]
  },
  {
   "cell_type": "code",
   "execution_count": 13,
   "metadata": {},
   "outputs": [],
   "source": [
    "y_pred = model.predict(X_test)\n",
    "y_pred_train = model.predict(X_train)"
   ]
  },
  {
   "cell_type": "markdown",
   "metadata": {},
   "source": [
    "Stwórzmy następnie macierz pomyłek i wyliczmy miary jakości klasyfikacji"
   ]
  },
  {
   "cell_type": "code",
   "execution_count": 14,
   "metadata": {},
   "outputs": [
    {
     "data": {
      "image/png": "[encoded data removed]",
      "text/plain": [
       "<Figure size 640x480 with 2 Axes>"
      ]
     },
     "metadata": {},
     "output_type": "display_data"
    },
    {
     "data": {
      "image/png": "[encoded data removed]",
      "text/plain": [
       "<Figure size 640x480 with 2 Axes>"
      ]
     },
     "metadata": {},
     "output_type": "display_data"
    }
   ],
   "source": [
    "from sklearn.metrics import confusion_matrix\n",
    "\n",
    "cm = confusion_matrix(y_test, y_pred)\n",
    "cm_train = confusion_matrix(y_train, y_pred_train)\n",
    "\n",
    "import matplotlib.pyplot as plt\n",
    "import seaborn as sns\n",
    "\n",
    "sns.heatmap(cm_train, annot = True, fmt = 'd')\n",
    "plt.show()\n",
    "\n",
    "sns.heatmap(cm, annot = True, fmt = 'd')\n",
    "plt.show()"
   ]
  },
  {
   "cell_type": "code",
   "execution_count": 15,
   "metadata": {},
   "outputs": [
    {
     "name": "stdout",
     "output_type": "stream",
     "text": [
      "F-Score train: 0.6106442577030812, F-Score test: 0.7017543859649124\n"
     ]
    }
   ],
   "source": [
    "from sklearn.metrics import f1_score\n",
    "print(f'F-Score train: {f1_score(y_train, y_pred_train)}, F-Score test: {f1_score(y_test, y_pred)}')"
   ]
  },
  {
   "cell_type": "markdown",
   "metadata": {
    "id": "DbdpY_8wgq_j"
   },
   "source": [
    "Możemy też obliczyć wartości pozostałych metryk klasyfikacji korzystając z wbudowanych funkcji."
   ]
  },
  {
   "cell_type": "markdown",
   "metadata": {},
   "source": [
    "Sprawdzenie też czy model jest przetrenowany:"
   ]
  },
  {
   "cell_type": "code",
   "execution_count": 16,
   "metadata": {},
   "outputs": [],
   "source": [
    "from sklearn.metrics import accuracy_score, recall_score, precision_score\n",
    "\n",
    "accuracy_train = accuracy_score(y_train, y_pred_train)\n",
    "accuracy_test = accuracy_score(y_test, y_pred)\n",
    "\n",
    "recall_train = recall_score(y_train, y_pred_train)\n",
    "recall_test = recall_score(y_test, y_pred)\n",
    "\n",
    "precision_train = precision_score(y_train, y_pred_train)\n",
    "precision_test = precision_score(y_test, y_pred)\n",
    "\n",
    "f1_train = f1_score(y_train, y_pred_train)\n",
    "f1_test = f1_score(y_test, y_pred)"
   ]
  },
  {
   "cell_type": "code",
   "execution_count": 17,
   "metadata": {},
   "outputs": [],
   "source": [
    "df_dict = {'train':[accuracy_train, precision_train, recall_train, f1_train],\n",
    "          'test': [accuracy_test, precision_test, recall_test, f1_test]}\n",
    "\n",
    "df = pd.DataFrame\\\n",
    ".from_dict(df_dict,\n",
    "           orient = 'index',\n",
    "           columns = ['accuracy', 'precision', 'recall', 'f-score'])\\\n",
    ".reset_index()\\\n",
    ".melt(id_vars = 'index', var_name = 'metric')"
   ]
  },
  {
   "cell_type": "code",
   "execution_count": 18,
   "metadata": {},
   "outputs": [
    {
     "data": {
      "text/html": [
       "<div>\n",
       "<style scoped>\n",
       "    .dataframe tbody tr th:only-of-type {\n",
       "        vertical-align: middle;\n",
       "    }\n",
       "\n",
       "    .dataframe tbody tr th {\n",
       "        vertical-align: top;\n",
       "    }\n",
       "\n",
       "    .dataframe thead th {\n",
       "        text-align: right;\n",
       "    }\n",
       "</style>\n",
       "<table border=\"1\" class=\"dataframe\">\n",
       "  <thead>\n",
       "    <tr style=\"text-align: right;\">\n",
       "      <th></th>\n",
       "      <th>index</th>\n",
       "      <th>metric</th>\n",
       "      <th>value</th>\n",
       "    </tr>\n",
       "  </thead>\n",
       "  <tbody>\n",
       "    <tr>\n",
       "      <th>0</th>\n",
       "      <td>train</td>\n",
       "      <td>accuracy</td>\n",
       "      <td>0.758681</td>\n",
       "    </tr>\n",
       "    <tr>\n",
       "      <th>1</th>\n",
       "      <td>test</td>\n",
       "      <td>accuracy</td>\n",
       "      <td>0.822917</td>\n",
       "    </tr>\n",
       "    <tr>\n",
       "      <th>2</th>\n",
       "      <td>train</td>\n",
       "      <td>precision</td>\n",
       "      <td>0.698718</td>\n",
       "    </tr>\n",
       "    <tr>\n",
       "      <th>3</th>\n",
       "      <td>test</td>\n",
       "      <td>precision</td>\n",
       "      <td>0.851064</td>\n",
       "    </tr>\n",
       "    <tr>\n",
       "      <th>4</th>\n",
       "      <td>train</td>\n",
       "      <td>recall</td>\n",
       "      <td>0.542289</td>\n",
       "    </tr>\n",
       "    <tr>\n",
       "      <th>5</th>\n",
       "      <td>test</td>\n",
       "      <td>recall</td>\n",
       "      <td>0.597015</td>\n",
       "    </tr>\n",
       "    <tr>\n",
       "      <th>6</th>\n",
       "      <td>train</td>\n",
       "      <td>f-score</td>\n",
       "      <td>0.610644</td>\n",
       "    </tr>\n",
       "    <tr>\n",
       "      <th>7</th>\n",
       "      <td>test</td>\n",
       "      <td>f-score</td>\n",
       "      <td>0.701754</td>\n",
       "    </tr>\n",
       "  </tbody>\n",
       "</table>\n",
       "</div>"
      ],
      "text/plain": [
       "   index     metric     value\n",
       "0  train   accuracy  0.758681\n",
       "1   test   accuracy  0.822917\n",
       "2  train  precision  0.698718\n",
       "3   test  precision  0.851064\n",
       "4  train     recall  0.542289\n",
       "5   test     recall  0.597015\n",
       "6  train    f-score  0.610644\n",
       "7   test    f-score  0.701754"
      ]
     },
     "execution_count": 18,
     "metadata": {},
     "output_type": "execute_result"
    }
   ],
   "source": [
    "df"
   ]
  },
  {
   "cell_type": "markdown",
   "metadata": {
    "id": "qDd9Padsgq_k"
   },
   "source": [
    "Możemy jeszcze spróbować wyświetlić to w formie wykresu."
   ]
  },
  {
   "cell_type": "code",
   "execution_count": 19,
   "metadata": {},
   "outputs": [
    {
     "data": {
      "image/png": "[encoded data removed]",
      "text/plain": [
       "<Figure size 640x480 with 1 Axes>"
      ]
     },
     "metadata": {},
     "output_type": "display_data"
    }
   ],
   "source": [
    "sns.barplot(x='metric', y = 'value', hue = 'index', data =df);"
   ]
  },
  {
   "cell_type": "markdown",
   "metadata": {
    "id": "9APIzov6gq_l"
   },
   "source": [
    "Możemy też regresję logistyczną zastosować dla zbiorów o wielu etykietach. Stosujemy wówczas strategię One versus Rest (trenujemy tyle klasyfikatorów, ile mamy klas) - sklearn robi to automatycznie."
   ]
  },
  {
   "cell_type": "code",
   "execution_count": 20,
   "metadata": {},
   "outputs": [],
   "source": [
    "X, y, classes = prepare_dataset('iris')\n",
    "X_train, X_test, y_train, y_test = train_test_split(X,y, stratify=y, test_size=0.3, random_state=30)"
   ]
  },
  {
   "cell_type": "code",
   "execution_count": 21,
   "metadata": {},
   "outputs": [
    {
     "data": {
      "text/plain": [
       "0    50\n",
       "1    50\n",
       "2    50\n",
       "Name: class, dtype: int64"
      ]
     },
     "execution_count": 21,
     "metadata": {},
     "output_type": "execute_result"
    }
   ],
   "source": [
    "y.value_counts()"
   ]
  },
  {
   "cell_type": "code",
   "execution_count": 22,
   "metadata": {},
   "outputs": [
    {
     "data": {
      "text/html": [
       "<div>\n",
       "<style scoped>\n",
       "    .dataframe tbody tr th:only-of-type {\n",
       "        vertical-align: middle;\n",
       "    }\n",
       "\n",
       "    .dataframe tbody tr th {\n",
       "        vertical-align: top;\n",
       "    }\n",
       "\n",
       "    .dataframe thead th {\n",
       "        text-align: right;\n",
       "    }\n",
       "</style>\n",
       "<table border=\"1\" class=\"dataframe\">\n",
       "  <thead>\n",
       "    <tr style=\"text-align: right;\">\n",
       "      <th></th>\n",
       "      <th>sepal length</th>\n",
       "      <th>sepal width</th>\n",
       "      <th>petal length</th>\n",
       "      <th>petal width</th>\n",
       "    </tr>\n",
       "  </thead>\n",
       "  <tbody>\n",
       "    <tr>\n",
       "      <th>0</th>\n",
       "      <td>5.1</td>\n",
       "      <td>3.5</td>\n",
       "      <td>1.4</td>\n",
       "      <td>0.2</td>\n",
       "    </tr>\n",
       "    <tr>\n",
       "      <th>1</th>\n",
       "      <td>4.9</td>\n",
       "      <td>3.0</td>\n",
       "      <td>1.4</td>\n",
       "      <td>0.2</td>\n",
       "    </tr>\n",
       "    <tr>\n",
       "      <th>2</th>\n",
       "      <td>4.7</td>\n",
       "      <td>3.2</td>\n",
       "      <td>1.3</td>\n",
       "      <td>0.2</td>\n",
       "    </tr>\n",
       "    <tr>\n",
       "      <th>3</th>\n",
       "      <td>4.6</td>\n",
       "      <td>3.1</td>\n",
       "      <td>1.5</td>\n",
       "      <td>0.2</td>\n",
       "    </tr>\n",
       "    <tr>\n",
       "      <th>4</th>\n",
       "      <td>5.0</td>\n",
       "      <td>3.6</td>\n",
       "      <td>1.4</td>\n",
       "      <td>0.2</td>\n",
       "    </tr>\n",
       "  </tbody>\n",
       "</table>\n",
       "</div>"
      ],
      "text/plain": [
       "   sepal length  sepal width  petal length  petal width\n",
       "0           5.1          3.5           1.4          0.2\n",
       "1           4.9          3.0           1.4          0.2\n",
       "2           4.7          3.2           1.3          0.2\n",
       "3           4.6          3.1           1.5          0.2\n",
       "4           5.0          3.6           1.4          0.2"
      ]
     },
     "execution_count": 22,
     "metadata": {},
     "output_type": "execute_result"
    }
   ],
   "source": [
    "X.head()"
   ]
  },
  {
   "cell_type": "code",
   "execution_count": 23,
   "metadata": {},
   "outputs": [
    {
     "data": {
      "text/html": [
       "<style>#sk-container-id-2 {color: black;background-color: white;}#sk-container-id-2 pre{padding: 0;}#sk-container-id-2 div.sk-toggleable {background-color: white;}#sk-container-id-2 label.sk-toggleable__label {cursor: pointer;display: block;width: 100%;margin-bottom: 0;padding: 0.3em;box-sizing: border-box;text-align: center;}#sk-container-id-2 label.sk-toggleable__label-arrow:before {content: \"▸\";float: left;margin-right: 0.25em;color: #696969;}#sk-container-id-2 label.sk-toggleable__label-arrow:hover:before {color: black;}#sk-container-id-2 div.sk-estimator:hover label.sk-toggleable__label-arrow:before {color: black;}#sk-container-id-2 div.sk-toggleable__content {max-height: 0;max-width: 0;overflow: hidden;text-align: left;background-color: #f0f8ff;}#sk-container-id-2 div.sk-toggleable__content pre {margin: 0.2em;color: black;border-radius: 0.25em;background-color: #f0f8ff;}#sk-container-id-2 input.sk-toggleable__control:checked~div.sk-toggleable__content {max-height: 200px;max-width: 100%;overflow: auto;}#sk-container-id-2 input.sk-toggleable__control:checked~label.sk-toggleable__label-arrow:before {content: \"▾\";}#sk-container-id-2 div.sk-estimator input.sk-toggleable__control:checked~label.sk-toggleable__label {background-color: #d4ebff;}#sk-container-id-2 div.sk-label input.sk-toggleable__control:checked~label.sk-toggleable__label {background-color: #d4ebff;}#sk-container-id-2 input.sk-hidden--visually {border: 0;clip: rect(1px 1px 1px 1px);clip: rect(1px, 1px, 1px, 1px);height: 1px;margin: -1px;overflow: hidden;padding: 0;position: absolute;width: 1px;}#sk-container-id-2 div.sk-estimator {font-family: monospace;background-color: #f0f8ff;border: 1px dotted black;border-radius: 0.25em;box-sizing: border-box;margin-bottom: 0.5em;}#sk-container-id-2 div.sk-estimator:hover {background-color: #d4ebff;}#sk-container-id-2 div.sk-parallel-item::after {content: \"\";width: 100%;border-bottom: 1px solid gray;flex-grow: 1;}#sk-container-id-2 div.sk-label:hover label.sk-toggleable__label {background-color: #d4ebff;}#sk-container-id-2 div.sk-serial::before {content: \"\";position: absolute;border-left: 1px solid gray;box-sizing: border-box;top: 0;bottom: 0;left: 50%;z-index: 0;}#sk-container-id-2 div.sk-serial {display: flex;flex-direction: column;align-items: center;background-color: white;padding-right: 0.2em;padding-left: 0.2em;position: relative;}#sk-container-id-2 div.sk-item {position: relative;z-index: 1;}#sk-container-id-2 div.sk-parallel {display: flex;align-items: stretch;justify-content: center;background-color: white;position: relative;}#sk-container-id-2 div.sk-item::before, #sk-container-id-2 div.sk-parallel-item::before {content: \"\";position: absolute;border-left: 1px solid gray;box-sizing: border-box;top: 0;bottom: 0;left: 50%;z-index: -1;}#sk-container-id-2 div.sk-parallel-item {display: flex;flex-direction: column;z-index: 1;position: relative;background-color: white;}#sk-container-id-2 div.sk-parallel-item:first-child::after {align-self: flex-end;width: 50%;}#sk-container-id-2 div.sk-parallel-item:last-child::after {align-self: flex-start;width: 50%;}#sk-container-id-2 div.sk-parallel-item:only-child::after {width: 0;}#sk-container-id-2 div.sk-dashed-wrapped {border: 1px dashed gray;margin: 0 0.4em 0.5em 0.4em;box-sizing: border-box;padding-bottom: 0.4em;background-color: white;}#sk-container-id-2 div.sk-label label {font-family: monospace;font-weight: bold;display: inline-block;line-height: 1.2em;}#sk-container-id-2 div.sk-label-container {text-align: center;}#sk-container-id-2 div.sk-container {/* jupyter's `normalize.less` sets `[hidden] { display: none; }` but bootstrap.min.css set `[hidden] { display: none !important; }` so we also need the `!important` here to be able to override the default hidden behavior on the sphinx rendered scikit-learn.org. See: https://github.com/scikit-learn/scikit-learn/issues/21755 */display: inline-block !important;position: relative;}#sk-container-id-2 div.sk-text-repr-fallback {display: none;}</style><div id=\"sk-container-id-2\" class=\"sk-top-container\"><div class=\"sk-text-repr-fallback\"><pre>LogisticRegression()</pre><b>In a Jupyter environment, please rerun this cell to show the HTML representation or trust the notebook. <br />On GitHub, the HTML representation is unable to render, please try loading this page with nbviewer.org.</b></div><div class=\"sk-container\" hidden><div class=\"sk-item\"><div class=\"sk-estimator sk-toggleable\"><input class=\"sk-toggleable__control sk-hidden--visually\" id=\"sk-estimator-id-2\" type=\"checkbox\" checked><label for=\"sk-estimator-id-2\" class=\"sk-toggleable__label sk-toggleable__label-arrow\">LogisticRegression</label><div class=\"sk-toggleable__content\"><pre>LogisticRegression()</pre></div></div></div></div></div>"
      ],
      "text/plain": [
       "LogisticRegression()"
      ]
     },
     "execution_count": 23,
     "metadata": {},
     "output_type": "execute_result"
    }
   ],
   "source": [
    "model = LogisticRegression()\n",
    "model.fit(X_train, y_train)"
   ]
  },
  {
   "cell_type": "code",
   "execution_count": 24,
   "metadata": {},
   "outputs": [],
   "source": [
    "y_pred = model.predict(X_test)\n",
    "y_pred_train = model.predict(X_train)"
   ]
  },
  {
   "cell_type": "code",
   "execution_count": 25,
   "metadata": {},
   "outputs": [
    {
     "data": {
      "image/png": "[encoded data removed]",
      "text/plain": [
       "<Figure size 640x480 with 2 Axes>"
      ]
     },
     "metadata": {},
     "output_type": "display_data"
    },
    {
     "data": {
      "image/png": "[encoded data removed]",
      "text/plain": [
       "<Figure size 640x480 with 2 Axes>"
      ]
     },
     "metadata": {},
     "output_type": "display_data"
    }
   ],
   "source": [
    "from sklearn.metrics import confusion_matrix\n",
    "\n",
    "cm = confusion_matrix(y_test, y_pred)\n",
    "cm_train = confusion_matrix(y_train, y_pred_train)\n",
    "\n",
    "import matplotlib.pyplot as plt\n",
    "import seaborn as sns\n",
    "\n",
    "sns.heatmap(cm_train, annot = True, fmt = 'd')\n",
    "plt.show()\n",
    "\n",
    "sns.heatmap(cm, annot = True, fmt = 'd')\n",
    "plt.show()"
   ]
  },
  {
   "cell_type": "code",
   "execution_count": 26,
   "metadata": {},
   "outputs": [
    {
     "data": {
      "text/plain": [
       "array(['Iris-setosa', 'Iris-versicolor', 'Iris-virginica'], dtype=object)"
      ]
     },
     "execution_count": 26,
     "metadata": {},
     "output_type": "execute_result"
    }
   ],
   "source": [
    "classes"
   ]
  },
  {
   "cell_type": "code",
   "execution_count": 27,
   "metadata": {},
   "outputs": [],
   "source": [
    "accuracy_train = accuracy_score(y_train, y_pred_train)\n",
    "accuracy_test = accuracy_score(y_test, y_pred)\n",
    "\n",
    "recall_train = recall_score(y_train, y_pred_train, average='macro')\n",
    "recall_test = recall_score(y_test, y_pred, average='macro')\n",
    "\n",
    "precision_train = precision_score(y_train, y_pred_train, average='macro')\n",
    "precision_test = precision_score(y_test, y_pred, average='macro')\n",
    "\n",
    "f1_train = f1_score(y_train, y_pred_train, average='macro')\n",
    "f1_test = f1_score(y_test, y_pred, average='macro')"
   ]
  },
  {
   "cell_type": "code",
   "execution_count": 28,
   "metadata": {},
   "outputs": [],
   "source": [
    "df_dict = {'train':[accuracy_train, precision_train, recall_train, f1_train],\n",
    "          'test': [accuracy_test, precision_test, recall_test, f1_test]}\n",
    "\n",
    "df = pd.DataFrame\\\n",
    ".from_dict(df_dict,\n",
    "           orient = 'index',\n",
    "           columns = ['accuracy', 'precision', 'recall', 'f-score'])\\\n",
    ".reset_index()\\\n",
    ".melt(id_vars = 'index', var_name = 'metric')"
   ]
  },
  {
   "cell_type": "code",
   "execution_count": 29,
   "metadata": {},
   "outputs": [
    {
     "data": {
      "image/png": "[encoded data removed]",
      "text/plain": [
       "<Figure size 640x480 with 1 Axes>"
      ]
     },
     "metadata": {},
     "output_type": "display_data"
    }
   ],
   "source": [
    "sns.barplot(x='metric', y = 'value', hue = 'index', data =df);"
   ]
  },
  {
   "cell_type": "markdown",
   "metadata": {
    "id": "S4p6LlSLgq_l"
   },
   "source": [
    "**Zadanie:**\n",
    "\n",
    "Dla zbioru danych diabets wytrenuj model regresji logistycznej i narysuj krzywą ROC. Zwróć uwagę na różnice w funkcjach:\n",
    "* predict()\n",
    "* predict_proba()\n",
    "\n",
    "Patrząc na krzywą ROC zastanów się czy model jest dobrze wytrenowany, przetrenowany czy wytrenowany niewystarczająco dobrze."
   ]
  },
  {
   "cell_type": "code",
   "execution_count": 90,
   "metadata": {},
   "outputs": [],
   "source": [
    "X,y,classes = prepare_dataset('diabetes')"
   ]
  },
  {
   "cell_type": "code",
   "execution_count": 53,
   "metadata": {},
   "outputs": [
    {
     "data": {
      "text/html": [
       "<div>\n",
       "<style scoped>\n",
       "    .dataframe tbody tr th:only-of-type {\n",
       "        vertical-align: middle;\n",
       "    }\n",
       "\n",
       "    .dataframe tbody tr th {\n",
       "        vertical-align: top;\n",
       "    }\n",
       "\n",
       "    .dataframe thead th {\n",
       "        text-align: right;\n",
       "    }\n",
       "</style>\n",
       "<table border=\"1\" class=\"dataframe\">\n",
       "  <thead>\n",
       "    <tr style=\"text-align: right;\">\n",
       "      <th></th>\n",
       "      <th>Number of times pregnant</th>\n",
       "      <th>Plasma glucose concentration</th>\n",
       "      <th>Diastolic blood pressure</th>\n",
       "      <th>Triceps skin fold thickness</th>\n",
       "      <th>2-Hour serum insulin</th>\n",
       "      <th>Body mass index</th>\n",
       "      <th>Diabetes pedigree function</th>\n",
       "      <th>Age</th>\n",
       "    </tr>\n",
       "  </thead>\n",
       "  <tbody>\n",
       "    <tr>\n",
       "      <th>0</th>\n",
       "      <td>6</td>\n",
       "      <td>148</td>\n",
       "      <td>72</td>\n",
       "      <td>35</td>\n",
       "      <td>0</td>\n",
       "      <td>33.6</td>\n",
       "      <td>0.627</td>\n",
       "      <td>50</td>\n",
       "    </tr>\n",
       "    <tr>\n",
       "      <th>1</th>\n",
       "      <td>1</td>\n",
       "      <td>85</td>\n",
       "      <td>66</td>\n",
       "      <td>29</td>\n",
       "      <td>0</td>\n",
       "      <td>26.6</td>\n",
       "      <td>0.351</td>\n",
       "      <td>31</td>\n",
       "    </tr>\n",
       "    <tr>\n",
       "      <th>2</th>\n",
       "      <td>8</td>\n",
       "      <td>183</td>\n",
       "      <td>64</td>\n",
       "      <td>0</td>\n",
       "      <td>0</td>\n",
       "      <td>23.3</td>\n",
       "      <td>0.672</td>\n",
       "      <td>32</td>\n",
       "    </tr>\n",
       "    <tr>\n",
       "      <th>3</th>\n",
       "      <td>1</td>\n",
       "      <td>89</td>\n",
       "      <td>66</td>\n",
       "      <td>23</td>\n",
       "      <td>94</td>\n",
       "      <td>28.1</td>\n",
       "      <td>0.167</td>\n",
       "      <td>21</td>\n",
       "    </tr>\n",
       "    <tr>\n",
       "      <th>4</th>\n",
       "      <td>0</td>\n",
       "      <td>137</td>\n",
       "      <td>40</td>\n",
       "      <td>35</td>\n",
       "      <td>168</td>\n",
       "      <td>43.1</td>\n",
       "      <td>2.288</td>\n",
       "      <td>33</td>\n",
       "    </tr>\n",
       "  </tbody>\n",
       "</table>\n",
       "</div>"
      ],
      "text/plain": [
       "   Number of times pregnant  Plasma glucose concentration  \\\n",
       "0                         6                           148   \n",
       "1                         1                            85   \n",
       "2                         8                           183   \n",
       "3                         1                            89   \n",
       "4                         0                           137   \n",
       "\n",
       "   Diastolic blood pressure  Triceps skin fold thickness  \\\n",
       "0                        72                           35   \n",
       "1                        66                           29   \n",
       "2                        64                            0   \n",
       "3                        66                           23   \n",
       "4                        40                           35   \n",
       "\n",
       "   2-Hour serum insulin  Body mass index  Diabetes pedigree function  Age  \n",
       "0                     0             33.6                       0.627   50  \n",
       "1                     0             26.6                       0.351   31  \n",
       "2                     0             23.3                       0.672   32  \n",
       "3                    94             28.1                       0.167   21  \n",
       "4                   168             43.1                       2.288   33  "
      ]
     },
     "execution_count": 53,
     "metadata": {},
     "output_type": "execute_result"
    }
   ],
   "source": [
    "X.head()"
   ]
  },
  {
   "cell_type": "code",
   "execution_count": 54,
   "metadata": {},
   "outputs": [
    {
     "data": {
      "text/plain": [
       "0    1\n",
       "1    0\n",
       "2    1\n",
       "3    0\n",
       "4    1\n",
       "Name: class, dtype: int8"
      ]
     },
     "execution_count": 54,
     "metadata": {},
     "output_type": "execute_result"
    }
   ],
   "source": [
    "y.head()"
   ]
  },
  {
   "cell_type": "code",
   "execution_count": 55,
   "metadata": {},
   "outputs": [],
   "source": [
    "from sklearn.model_selection import train_test_split\n",
    "\n",
    "X_train, X_test, y_train, y_test = train_test_split(X,y, stratify = y)"
   ]
  },
  {
   "cell_type": "code",
   "execution_count": 56,
   "metadata": {},
   "outputs": [
    {
     "data": {
      "text/plain": [
       "576"
      ]
     },
     "execution_count": 56,
     "metadata": {},
     "output_type": "execute_result"
    }
   ],
   "source": [
    "len(X_train)"
   ]
  },
  {
   "cell_type": "code",
   "execution_count": 57,
   "metadata": {},
   "outputs": [
    {
     "data": {
      "text/plain": [
       "192"
      ]
     },
     "execution_count": 57,
     "metadata": {},
     "output_type": "execute_result"
    }
   ],
   "source": [
    "len(X_test)"
   ]
  },
  {
   "cell_type": "code",
   "execution_count": 40,
   "metadata": {},
   "outputs": [
    {
     "data": {
      "text/html": [
       "<div>\n",
       "<style scoped>\n",
       "    .dataframe tbody tr th:only-of-type {\n",
       "        vertical-align: middle;\n",
       "    }\n",
       "\n",
       "    .dataframe tbody tr th {\n",
       "        vertical-align: top;\n",
       "    }\n",
       "\n",
       "    .dataframe thead th {\n",
       "        text-align: right;\n",
       "    }\n",
       "</style>\n",
       "<table border=\"1\" class=\"dataframe\">\n",
       "  <thead>\n",
       "    <tr style=\"text-align: right;\">\n",
       "      <th></th>\n",
       "      <th>Number of times pregnant</th>\n",
       "      <th>Plasma glucose concentration</th>\n",
       "      <th>Diastolic blood pressure</th>\n",
       "      <th>Triceps skin fold thickness</th>\n",
       "      <th>2-Hour serum insulin</th>\n",
       "      <th>Body mass index</th>\n",
       "      <th>Diabetes pedigree function</th>\n",
       "      <th>Age</th>\n",
       "    </tr>\n",
       "  </thead>\n",
       "  <tbody>\n",
       "    <tr>\n",
       "      <th>596</th>\n",
       "      <td>0</td>\n",
       "      <td>67</td>\n",
       "      <td>76</td>\n",
       "      <td>0</td>\n",
       "      <td>0</td>\n",
       "      <td>45.3</td>\n",
       "      <td>0.194</td>\n",
       "      <td>46</td>\n",
       "    </tr>\n",
       "    <tr>\n",
       "      <th>226</th>\n",
       "      <td>0</td>\n",
       "      <td>101</td>\n",
       "      <td>76</td>\n",
       "      <td>0</td>\n",
       "      <td>0</td>\n",
       "      <td>35.7</td>\n",
       "      <td>0.198</td>\n",
       "      <td>26</td>\n",
       "    </tr>\n",
       "    <tr>\n",
       "      <th>20</th>\n",
       "      <td>3</td>\n",
       "      <td>126</td>\n",
       "      <td>88</td>\n",
       "      <td>41</td>\n",
       "      <td>235</td>\n",
       "      <td>39.3</td>\n",
       "      <td>0.704</td>\n",
       "      <td>27</td>\n",
       "    </tr>\n",
       "    <tr>\n",
       "      <th>64</th>\n",
       "      <td>7</td>\n",
       "      <td>114</td>\n",
       "      <td>66</td>\n",
       "      <td>0</td>\n",
       "      <td>0</td>\n",
       "      <td>32.8</td>\n",
       "      <td>0.258</td>\n",
       "      <td>42</td>\n",
       "    </tr>\n",
       "    <tr>\n",
       "      <th>399</th>\n",
       "      <td>3</td>\n",
       "      <td>193</td>\n",
       "      <td>70</td>\n",
       "      <td>31</td>\n",
       "      <td>0</td>\n",
       "      <td>34.9</td>\n",
       "      <td>0.241</td>\n",
       "      <td>25</td>\n",
       "    </tr>\n",
       "  </tbody>\n",
       "</table>\n",
       "</div>"
      ],
      "text/plain": [
       "     Number of times pregnant  Plasma glucose concentration  \\\n",
       "596                         0                            67   \n",
       "226                         0                           101   \n",
       "20                          3                           126   \n",
       "64                          7                           114   \n",
       "399                         3                           193   \n",
       "\n",
       "     Diastolic blood pressure  Triceps skin fold thickness  \\\n",
       "596                        76                            0   \n",
       "226                        76                            0   \n",
       "20                         88                           41   \n",
       "64                         66                            0   \n",
       "399                        70                           31   \n",
       "\n",
       "     2-Hour serum insulin  Body mass index  Diabetes pedigree function  Age  \n",
       "596                     0             45.3                       0.194   46  \n",
       "226                     0             35.7                       0.198   26  \n",
       "20                    235             39.3                       0.704   27  \n",
       "64                      0             32.8                       0.258   42  \n",
       "399                     0             34.9                       0.241   25  "
      ]
     },
     "execution_count": 40,
     "metadata": {},
     "output_type": "execute_result"
    }
   ],
   "source": [
    "X_train.head()"
   ]
  },
  {
   "cell_type": "code",
   "execution_count": 41,
   "metadata": {},
   "outputs": [
    {
     "data": {
      "text/plain": [
       "596    0\n",
       "226    0\n",
       "20     0\n",
       "64     1\n",
       "399    1\n",
       "Name: class, dtype: int8"
      ]
     },
     "execution_count": 41,
     "metadata": {},
     "output_type": "execute_result"
    }
   ],
   "source": [
    "y_train.head()"
   ]
  },
  {
   "cell_type": "code",
   "execution_count": 59,
   "metadata": {},
   "outputs": [
    {
     "data": {
      "text/html": [
       "<style>#sk-container-id-6 {color: black;background-color: white;}#sk-container-id-6 pre{padding: 0;}#sk-container-id-6 div.sk-toggleable {background-color: white;}#sk-container-id-6 label.sk-toggleable__label {cursor: pointer;display: block;width: 100%;margin-bottom: 0;padding: 0.3em;box-sizing: border-box;text-align: center;}#sk-container-id-6 label.sk-toggleable__label-arrow:before {content: \"▸\";float: left;margin-right: 0.25em;color: #696969;}#sk-container-id-6 label.sk-toggleable__label-arrow:hover:before {color: black;}#sk-container-id-6 div.sk-estimator:hover label.sk-toggleable__label-arrow:before {color: black;}#sk-container-id-6 div.sk-toggleable__content {max-height: 0;max-width: 0;overflow: hidden;text-align: left;background-color: #f0f8ff;}#sk-container-id-6 div.sk-toggleable__content pre {margin: 0.2em;color: black;border-radius: 0.25em;background-color: #f0f8ff;}#sk-container-id-6 input.sk-toggleable__control:checked~div.sk-toggleable__content {max-height: 200px;max-width: 100%;overflow: auto;}#sk-container-id-6 input.sk-toggleable__control:checked~label.sk-toggleable__label-arrow:before {content: \"▾\";}#sk-container-id-6 div.sk-estimator input.sk-toggleable__control:checked~label.sk-toggleable__label {background-color: #d4ebff;}#sk-container-id-6 div.sk-label input.sk-toggleable__control:checked~label.sk-toggleable__label {background-color: #d4ebff;}#sk-container-id-6 input.sk-hidden--visually {border: 0;clip: rect(1px 1px 1px 1px);clip: rect(1px, 1px, 1px, 1px);height: 1px;margin: -1px;overflow: hidden;padding: 0;position: absolute;width: 1px;}#sk-container-id-6 div.sk-estimator {font-family: monospace;background-color: #f0f8ff;border: 1px dotted black;border-radius: 0.25em;box-sizing: border-box;margin-bottom: 0.5em;}#sk-container-id-6 div.sk-estimator:hover {background-color: #d4ebff;}#sk-container-id-6 div.sk-parallel-item::after {content: \"\";width: 100%;border-bottom: 1px solid gray;flex-grow: 1;}#sk-container-id-6 div.sk-label:hover label.sk-toggleable__label {background-color: #d4ebff;}#sk-container-id-6 div.sk-serial::before {content: \"\";position: absolute;border-left: 1px solid gray;box-sizing: border-box;top: 0;bottom: 0;left: 50%;z-index: 0;}#sk-container-id-6 div.sk-serial {display: flex;flex-direction: column;align-items: center;background-color: white;padding-right: 0.2em;padding-left: 0.2em;position: relative;}#sk-container-id-6 div.sk-item {position: relative;z-index: 1;}#sk-container-id-6 div.sk-parallel {display: flex;align-items: stretch;justify-content: center;background-color: white;position: relative;}#sk-container-id-6 div.sk-item::before, #sk-container-id-6 div.sk-parallel-item::before {content: \"\";position: absolute;border-left: 1px solid gray;box-sizing: border-box;top: 0;bottom: 0;left: 50%;z-index: -1;}#sk-container-id-6 div.sk-parallel-item {display: flex;flex-direction: column;z-index: 1;position: relative;background-color: white;}#sk-container-id-6 div.sk-parallel-item:first-child::after {align-self: flex-end;width: 50%;}#sk-container-id-6 div.sk-parallel-item:last-child::after {align-self: flex-start;width: 50%;}#sk-container-id-6 div.sk-parallel-item:only-child::after {width: 0;}#sk-container-id-6 div.sk-dashed-wrapped {border: 1px dashed gray;margin: 0 0.4em 0.5em 0.4em;box-sizing: border-box;padding-bottom: 0.4em;background-color: white;}#sk-container-id-6 div.sk-label label {font-family: monospace;font-weight: bold;display: inline-block;line-height: 1.2em;}#sk-container-id-6 div.sk-label-container {text-align: center;}#sk-container-id-6 div.sk-container {/* jupyter's `normalize.less` sets `[hidden] { display: none; }` but bootstrap.min.css set `[hidden] { display: none !important; }` so we also need the `!important` here to be able to override the default hidden behavior on the sphinx rendered scikit-learn.org. See: https://github.com/scikit-learn/scikit-learn/issues/21755 */display: inline-block !important;position: relative;}#sk-container-id-6 div.sk-text-repr-fallback {display: none;}</style><div id=\"sk-container-id-6\" class=\"sk-top-container\"><div class=\"sk-text-repr-fallback\"><pre>LogisticRegression(max_iter=500, random_state=30)</pre><b>In a Jupyter environment, please rerun this cell to show the HTML representation or trust the notebook. <br />On GitHub, the HTML representation is unable to render, please try loading this page with nbviewer.org.</b></div><div class=\"sk-container\" hidden><div class=\"sk-item\"><div class=\"sk-estimator sk-toggleable\"><input class=\"sk-toggleable__control sk-hidden--visually\" id=\"sk-estimator-id-6\" type=\"checkbox\" checked><label for=\"sk-estimator-id-6\" class=\"sk-toggleable__label sk-toggleable__label-arrow\">LogisticRegression</label><div class=\"sk-toggleable__content\"><pre>LogisticRegression(max_iter=500, random_state=30)</pre></div></div></div></div></div>"
      ],
      "text/plain": [
       "LogisticRegression(max_iter=500, random_state=30)"
      ]
     },
     "execution_count": 59,
     "metadata": {},
     "output_type": "execute_result"
    }
   ],
   "source": [
    "from sklearn.linear_model import LogisticRegression\n",
    "\n",
    "model = LogisticRegression(random_state=30, max_iter = 500)\n",
    "model.fit(X_train, y_train)"
   ]
  },
  {
   "cell_type": "code",
   "execution_count": 44,
   "metadata": {
    "scrolled": true
   },
   "outputs": [
    {
     "data": {
      "text/html": [
       "<div>\n",
       "<style scoped>\n",
       "    .dataframe tbody tr th:only-of-type {\n",
       "        vertical-align: middle;\n",
       "    }\n",
       "\n",
       "    .dataframe tbody tr th {\n",
       "        vertical-align: top;\n",
       "    }\n",
       "\n",
       "    .dataframe thead th {\n",
       "        text-align: right;\n",
       "    }\n",
       "</style>\n",
       "<table border=\"1\" class=\"dataframe\">\n",
       "  <thead>\n",
       "    <tr style=\"text-align: right;\">\n",
       "      <th></th>\n",
       "      <th>Number of times pregnant</th>\n",
       "      <th>Plasma glucose concentration</th>\n",
       "      <th>Diastolic blood pressure</th>\n",
       "      <th>Triceps skin fold thickness</th>\n",
       "      <th>2-Hour serum insulin</th>\n",
       "      <th>Body mass index</th>\n",
       "      <th>Diabetes pedigree function</th>\n",
       "      <th>Age</th>\n",
       "    </tr>\n",
       "  </thead>\n",
       "  <tbody>\n",
       "    <tr>\n",
       "      <th>462</th>\n",
       "      <td>8</td>\n",
       "      <td>74</td>\n",
       "      <td>70</td>\n",
       "      <td>40</td>\n",
       "      <td>49</td>\n",
       "      <td>35.3</td>\n",
       "      <td>0.705</td>\n",
       "      <td>39</td>\n",
       "    </tr>\n",
       "    <tr>\n",
       "      <th>456</th>\n",
       "      <td>1</td>\n",
       "      <td>135</td>\n",
       "      <td>54</td>\n",
       "      <td>0</td>\n",
       "      <td>0</td>\n",
       "      <td>26.7</td>\n",
       "      <td>0.687</td>\n",
       "      <td>62</td>\n",
       "    </tr>\n",
       "    <tr>\n",
       "      <th>384</th>\n",
       "      <td>1</td>\n",
       "      <td>125</td>\n",
       "      <td>70</td>\n",
       "      <td>24</td>\n",
       "      <td>110</td>\n",
       "      <td>24.3</td>\n",
       "      <td>0.221</td>\n",
       "      <td>25</td>\n",
       "    </tr>\n",
       "    <tr>\n",
       "      <th>746</th>\n",
       "      <td>1</td>\n",
       "      <td>147</td>\n",
       "      <td>94</td>\n",
       "      <td>41</td>\n",
       "      <td>0</td>\n",
       "      <td>49.3</td>\n",
       "      <td>0.358</td>\n",
       "      <td>27</td>\n",
       "    </tr>\n",
       "    <tr>\n",
       "      <th>403</th>\n",
       "      <td>9</td>\n",
       "      <td>72</td>\n",
       "      <td>78</td>\n",
       "      <td>25</td>\n",
       "      <td>0</td>\n",
       "      <td>31.6</td>\n",
       "      <td>0.280</td>\n",
       "      <td>38</td>\n",
       "    </tr>\n",
       "  </tbody>\n",
       "</table>\n",
       "</div>"
      ],
      "text/plain": [
       "     Number of times pregnant  Plasma glucose concentration  \\\n",
       "462                         8                            74   \n",
       "456                         1                           135   \n",
       "384                         1                           125   \n",
       "746                         1                           147   \n",
       "403                         9                            72   \n",
       "\n",
       "     Diastolic blood pressure  Triceps skin fold thickness  \\\n",
       "462                        70                           40   \n",
       "456                        54                            0   \n",
       "384                        70                           24   \n",
       "746                        94                           41   \n",
       "403                        78                           25   \n",
       "\n",
       "     2-Hour serum insulin  Body mass index  Diabetes pedigree function  Age  \n",
       "462                    49             35.3                       0.705   39  \n",
       "456                     0             26.7                       0.687   62  \n",
       "384                   110             24.3                       0.221   25  \n",
       "746                     0             49.3                       0.358   27  \n",
       "403                     0             31.6                       0.280   38  "
      ]
     },
     "execution_count": 44,
     "metadata": {},
     "output_type": "execute_result"
    }
   ],
   "source": [
    "X_test.head()"
   ]
  },
  {
   "cell_type": "code",
   "execution_count": 60,
   "metadata": {},
   "outputs": [],
   "source": [
    "y_pred = model.predict(X_test)"
   ]
  },
  {
   "cell_type": "code",
   "execution_count": 61,
   "metadata": {},
   "outputs": [
    {
     "data": {
      "text/plain": [
       "array([0, 0, 1, 0, 0, 0, 0, 0, 0, 1, 0, 1, 0, 1, 1, 0, 0, 1, 1, 0, 0, 0,\n",
       "       0, 0, 1, 0, 0, 0, 1, 0, 1, 1, 0, 0, 0, 1, 0, 0, 0, 0, 0, 1, 0, 1,\n",
       "       0, 0, 1, 0, 1, 1, 1, 1, 1, 0, 1, 0, 0, 0, 0, 0, 0, 0, 0, 0, 1, 0,\n",
       "       0, 0, 0, 1, 0, 0, 0, 0, 0, 1, 0, 0, 0, 0, 1, 1, 0, 0, 0, 0, 1, 1,\n",
       "       0, 1, 1, 0, 0, 0, 0, 1, 0, 1, 0, 1, 1, 0, 0, 0, 0, 0, 0, 0, 1, 0,\n",
       "       0, 0, 0, 0, 0, 1, 0, 0, 0, 1, 1, 1, 1, 1, 1, 0, 1, 0, 0, 0, 1, 1,\n",
       "       0, 0, 1, 1, 0, 0, 0, 1, 0, 0, 0, 0, 0, 0, 1, 0, 1, 1, 0, 0, 0, 0,\n",
       "       0, 0, 1, 0, 0, 1, 0, 0, 0, 0, 1, 0, 1, 0, 0, 1, 0, 0, 0, 0, 1, 0,\n",
       "       1, 1, 0, 0, 0, 0, 0, 0, 1, 0, 0, 1, 0, 0, 0, 0], dtype=int8)"
      ]
     },
     "execution_count": 61,
     "metadata": {},
     "output_type": "execute_result"
    }
   ],
   "source": [
    "y_pred"
   ]
  },
  {
   "cell_type": "code",
   "execution_count": 68,
   "metadata": {},
   "outputs": [],
   "source": [
    "y_pred_proba = model.predict_proba(X_test)\n",
    "y_pred_proba_train = model.predict_proba(X_train)"
   ]
  },
  {
   "cell_type": "code",
   "execution_count": 67,
   "metadata": {},
   "outputs": [
    {
     "data": {
      "text/plain": [
       "array([[0.68463279, 0.31536721],\n",
       "       [0.94533559, 0.05466441],\n",
       "       [0.21818164, 0.78181836],\n",
       "       [0.90677078, 0.09322922],\n",
       "       [0.70243348, 0.29756652],\n",
       "       [0.8203267 , 0.1796733 ],\n",
       "       [0.70108422, 0.29891578],\n",
       "       [0.64585808, 0.35414192],\n",
       "       [0.76940763, 0.23059237],\n",
       "       [0.18080025, 0.81919975],\n",
       "       [0.9397258 , 0.0602742 ],\n",
       "       [0.12327373, 0.87672627],\n",
       "       [0.76901555, 0.23098445],\n",
       "       [0.08648947, 0.91351053],\n",
       "       [0.16351284, 0.83648716],\n",
       "       [0.747486  , 0.252514  ],\n",
       "       [0.80934462, 0.19065538],\n",
       "       [0.18581515, 0.81418485],\n",
       "       [0.370599  , 0.629401  ],\n",
       "       [0.80894025, 0.19105975],\n",
       "       [0.88907186, 0.11092814],\n",
       "       [0.8543101 , 0.1456899 ],\n",
       "       [0.77386851, 0.22613149],\n",
       "       [0.88035931, 0.11964069],\n",
       "       [0.10547097, 0.89452903],\n",
       "       [0.75656056, 0.24343944],\n",
       "       [0.9067135 , 0.0932865 ],\n",
       "       [0.70448588, 0.29551412],\n",
       "       [0.1215819 , 0.8784181 ],\n",
       "       [0.79968602, 0.20031398],\n",
       "       [0.31127995, 0.68872005],\n",
       "       [0.48506516, 0.51493484],\n",
       "       [0.87195394, 0.12804606],\n",
       "       [0.66341776, 0.33658224],\n",
       "       [0.90037513, 0.09962487],\n",
       "       [0.35574881, 0.64425119],\n",
       "       [0.69644555, 0.30355445],\n",
       "       [0.63922465, 0.36077535],\n",
       "       [0.66573324, 0.33426676],\n",
       "       [0.52392727, 0.47607273],\n",
       "       [0.84943332, 0.15056668],\n",
       "       [0.15747623, 0.84252377],\n",
       "       [0.78828112, 0.21171888],\n",
       "       [0.11831522, 0.88168478],\n",
       "       [0.8404957 , 0.1595043 ],\n",
       "       [0.53299645, 0.46700355],\n",
       "       [0.08327137, 0.91672863],\n",
       "       [0.9808279 , 0.0191721 ],\n",
       "       [0.17853017, 0.82146983],\n",
       "       [0.28590773, 0.71409227],\n",
       "       [0.36588856, 0.63411144],\n",
       "       [0.34326358, 0.65673642],\n",
       "       [0.28469475, 0.71530525],\n",
       "       [0.86756756, 0.13243244],\n",
       "       [0.33606921, 0.66393079],\n",
       "       [0.91193683, 0.08806317],\n",
       "       [0.89478386, 0.10521614],\n",
       "       [0.73180645, 0.26819355],\n",
       "       [0.75734053, 0.24265947],\n",
       "       [0.78101073, 0.21898927],\n",
       "       [0.91574475, 0.08425525],\n",
       "       [0.73305172, 0.26694828],\n",
       "       [0.68653862, 0.31346138],\n",
       "       [0.62376766, 0.37623234],\n",
       "       [0.47615853, 0.52384147],\n",
       "       [0.80842335, 0.19157665],\n",
       "       [0.64048559, 0.35951441],\n",
       "       [0.54046843, 0.45953157],\n",
       "       [0.89696717, 0.10303283],\n",
       "       [0.23806925, 0.76193075],\n",
       "       [0.66484956, 0.33515044],\n",
       "       [0.94859112, 0.05140888],\n",
       "       [0.88996377, 0.11003623],\n",
       "       [0.93082671, 0.06917329],\n",
       "       [0.92660757, 0.07339243],\n",
       "       [0.05959715, 0.94040285],\n",
       "       [0.58187175, 0.41812825],\n",
       "       [0.76388304, 0.23611696],\n",
       "       [0.54744591, 0.45255409],\n",
       "       [0.86442668, 0.13557332],\n",
       "       [0.3473418 , 0.6526582 ],\n",
       "       [0.06654043, 0.93345957],\n",
       "       [0.82737407, 0.17262593],\n",
       "       [0.64309149, 0.35690851],\n",
       "       [0.89682848, 0.10317152],\n",
       "       [0.95184995, 0.04815005],\n",
       "       [0.49720029, 0.50279971],\n",
       "       [0.02920934, 0.97079066],\n",
       "       [0.7377521 , 0.2622479 ],\n",
       "       [0.21849548, 0.78150452],\n",
       "       [0.37305557, 0.62694443],\n",
       "       [0.8251989 , 0.1748011 ],\n",
       "       [0.78511237, 0.21488763],\n",
       "       [0.53755339, 0.46244661],\n",
       "       [0.90406234, 0.09593766],\n",
       "       [0.09969264, 0.90030736],\n",
       "       [0.94672153, 0.05327847],\n",
       "       [0.39307727, 0.60692273],\n",
       "       [0.69773128, 0.30226872],\n",
       "       [0.30426101, 0.69573899],\n",
       "       [0.48047765, 0.51952235],\n",
       "       [0.69861648, 0.30138352],\n",
       "       [0.98681052, 0.01318948],\n",
       "       [0.51598919, 0.48401081],\n",
       "       [0.85773078, 0.14226922],\n",
       "       [0.65632413, 0.34367587],\n",
       "       [0.89863819, 0.10136181],\n",
       "       [0.87345743, 0.12654257],\n",
       "       [0.05486629, 0.94513371],\n",
       "       [0.8239732 , 0.1760268 ],\n",
       "       [0.74844465, 0.25155535],\n",
       "       [0.50296228, 0.49703772],\n",
       "       [0.88134634, 0.11865366],\n",
       "       [0.93058115, 0.06941885],\n",
       "       [0.772681  , 0.227319  ],\n",
       "       [0.02115587, 0.97884413],\n",
       "       [0.65677708, 0.34322292],\n",
       "       [0.89650079, 0.10349921],\n",
       "       [0.56807883, 0.43192117],\n",
       "       [0.20014603, 0.79985397],\n",
       "       [0.25030577, 0.74969423],\n",
       "       [0.27089414, 0.72910586],\n",
       "       [0.43188084, 0.56811916],\n",
       "       [0.16177316, 0.83822684],\n",
       "       [0.34719023, 0.65280977],\n",
       "       [0.59539134, 0.40460866],\n",
       "       [0.31956221, 0.68043779],\n",
       "       [0.521468  , 0.478532  ],\n",
       "       [0.72808161, 0.27191839],\n",
       "       [0.82361829, 0.17638171],\n",
       "       [0.03228757, 0.96771243],\n",
       "       [0.21037525, 0.78962475],\n",
       "       [0.72163444, 0.27836556],\n",
       "       [0.80635082, 0.19364918],\n",
       "       [0.44739371, 0.55260629],\n",
       "       [0.10039967, 0.89960033],\n",
       "       [0.9364403 , 0.0635597 ],\n",
       "       [0.76415748, 0.23584252],\n",
       "       [0.87940563, 0.12059437],\n",
       "       [0.16917824, 0.83082176],\n",
       "       [0.52906686, 0.47093314],\n",
       "       [0.94099061, 0.05900939],\n",
       "       [0.72881368, 0.27118632],\n",
       "       [0.96382422, 0.03617578],\n",
       "       [0.52892266, 0.47107734],\n",
       "       [0.72685656, 0.27314344],\n",
       "       [0.13791787, 0.86208213],\n",
       "       [0.73721444, 0.26278556],\n",
       "       [0.47613327, 0.52386673],\n",
       "       [0.39227642, 0.60772358],\n",
       "       [0.78999978, 0.21000022],\n",
       "       [0.79338398, 0.20661602],\n",
       "       [0.87416377, 0.12583623],\n",
       "       [0.59922699, 0.40077301],\n",
       "       [0.64982687, 0.35017313],\n",
       "       [0.84891508, 0.15108492],\n",
       "       [0.21485061, 0.78514939],\n",
       "       [0.89113252, 0.10886748],\n",
       "       [0.92165349, 0.07834651],\n",
       "       [0.1769462 , 0.8230538 ],\n",
       "       [0.80710351, 0.19289649],\n",
       "       [0.86739574, 0.13260426],\n",
       "       [0.87627458, 0.12372542],\n",
       "       [0.93324846, 0.06675154],\n",
       "       [0.45553162, 0.54446838],\n",
       "       [0.87194257, 0.12805743],\n",
       "       [0.49230651, 0.50769349],\n",
       "       [0.6667873 , 0.3332127 ],\n",
       "       [0.93703271, 0.06296729],\n",
       "       [0.2639561 , 0.7360439 ],\n",
       "       [0.81232693, 0.18767307],\n",
       "       [0.93581322, 0.06418678],\n",
       "       [0.59912991, 0.40087009],\n",
       "       [0.60567583, 0.39432417],\n",
       "       [0.29146357, 0.70853643],\n",
       "       [0.93961275, 0.06038725],\n",
       "       [0.18380577, 0.81619423],\n",
       "       [0.131184  , 0.868816  ],\n",
       "       [0.87540413, 0.12459587],\n",
       "       [0.69261211, 0.30738789],\n",
       "       [0.87345396, 0.12654604],\n",
       "       [0.73869803, 0.26130197],\n",
       "       [0.738942  , 0.261058  ],\n",
       "       [0.93165239, 0.06834761],\n",
       "       [0.32431983, 0.67568017],\n",
       "       [0.87672425, 0.12327575],\n",
       "       [0.86255768, 0.13744232],\n",
       "       [0.22437272, 0.77562728],\n",
       "       [0.98776692, 0.01223308],\n",
       "       [0.81445194, 0.18554806],\n",
       "       [0.6666506 , 0.3333494 ],\n",
       "       [0.92018617, 0.07981383]])"
      ]
     },
     "execution_count": 67,
     "metadata": {},
     "output_type": "execute_result"
    }
   ],
   "source": [
    "y_pred_proba"
   ]
  },
  {
   "cell_type": "markdown",
   "metadata": {},
   "source": [
    "Korzystając z wbudwanej funkcji sklearn roc_auc_score importowanej podobnie jak accuracy_score, precision_score, recall_score, f1_score z modułu sklearn.metrics oblicz pole pod krzywą ROC:"
   ]
  },
  {
   "cell_type": "code",
   "execution_count": 69,
   "metadata": {},
   "outputs": [],
   "source": [
    "from sklearn.metrics import roc_curve\n",
    "\n",
    "fpr, tpr, treshold = roc_curve(y_test, y_pred_proba[:,1], drop_intermediate=False)\n",
    "fpr_t, tpr_t, treshold_t = roc_curve(y_train, y_pred_proba_train[:,1], drop_intermediate=False)"
   ]
  },
  {
   "cell_type": "code",
   "execution_count": 74,
   "metadata": {},
   "outputs": [],
   "source": [
    "import matplotlib.pyplot as plt\n",
    "\n",
    "def plot_roc(fpr_t, tpr_t, fpr, tpr):\n",
    "    plt.figure(figsize = (10,6))\n",
    "    plt.plot(fpr_t, tpr_t, c = 'red', label = 'Train')\n",
    "    plt.plot(fpr, tpr, c = 'blue', label = 'Test')\n",
    "    plt.axis([0,1,0,1])\n",
    "    plt.plot([0,1], [0,1], 'k--', c ='black')\n",
    "    plt.title('ROC')\n",
    "    plt.legend()"
   ]
  },
  {
   "cell_type": "code",
   "execution_count": 75,
   "metadata": {},
   "outputs": [
    {
     "name": "stderr",
     "output_type": "stream",
     "text": [
      "C:\\Users\\kacpe\\AppData\\Local\\Temp\\ipykernel_14724\\2915646692.py:8: UserWarning: color is redundantly defined by the 'color' keyword argument and the fmt string \"k--\" (-> color='k'). The keyword argument will take precedence.\n",
      "  plt.plot([0,1], [0,1], 'k--', c ='black')\n"
     ]
    },
    {
     "data": {
      "image/png": "[encoded data removed]",
      "text/plain": [
       "<Figure size 1000x600 with 1 Axes>"
      ]
     },
     "metadata": {},
     "output_type": "display_data"
    }
   ],
   "source": [
    "plot_roc(fpr_t, tpr_t, fpr, tpr)"
   ]
  },
  {
   "cell_type": "code",
   "execution_count": 78,
   "metadata": {
    "scrolled": true
   },
   "outputs": [
    {
     "data": {
      "image/png": "[encoded data removed]",
      "text/plain": [
       "<Figure size 640x480 with 2 Axes>"
      ]
     },
     "metadata": {},
     "output_type": "display_data"
    },
    {
     "data": {
      "image/png": "[encoded data removed]",
      "text/plain": [
       "<Figure size 640x480 with 2 Axes>"
      ]
     },
     "metadata": {},
     "output_type": "display_data"
    },
    {
     "data": {
      "image/png": "[encoded data removed]",
      "text/plain": [
       "<Figure size 640x480 with 2 Axes>"
      ]
     },
     "metadata": {},
     "output_type": "display_data"
    },
    {
     "data": {
      "image/png": "[encoded data removed]",
      "text/plain": [
       "<Figure size 640x480 with 2 Axes>"
      ]
     },
     "metadata": {},
     "output_type": "display_data"
    },
    {
     "data": {
      "image/png": "[encoded data removed]",
      "text/plain": [
       "<Figure size 640x480 with 2 Axes>"
      ]
     },
     "metadata": {},
     "output_type": "display_data"
    }
   ],
   "source": [
    "tresholds = [0.2, 0.4, 0.5, 0.6, 0.8]\n",
    "\n",
    "for treshold in tresholds:\n",
    "    y_pred = []\n",
    "    for y in y_pred_proba[:,1]:\n",
    "        if y > treshold:\n",
    "            y_pred.append(1)\n",
    "        else:\n",
    "            y_pred.append(0)\n",
    "            \n",
    "    cm = confusion_matrix(y_test, y_pred)\n",
    "    f = f1_score(y_test, y_pred)\n",
    "    sns.heatmap(cm, annot = True, fmt = 'd')\n",
    "    title = f'treshold: {treshold}, f-score: {f}'\n",
    "    plt.title(title)\n",
    "    plt.show()\n",
    "    "
   ]
  },
  {
   "cell_type": "code",
   "execution_count": 84,
   "metadata": {},
   "outputs": [
    {
     "name": "stdout",
     "output_type": "stream",
     "text": [
      "Pole pod krzywą ROC dla zestawu treningowego: 0.83\n",
      "Pole pod krzywą ROC dla zestawu testowego: 0.86\n"
     ]
    }
   ],
   "source": [
    "from sklearn.metrics import roc_auc_score\n",
    "\n",
    "auc_train = roc_auc_score(y_train, y_pred_proba_train[:,1])\n",
    "auc_test = roc_auc_score(y_test, y_pred_proba[:,1])\n",
    "\n",
    "print(f'Pole pod krzywą ROC dla zestawu treningowego: {round(auc_train,2)}')\n",
    "print(f'Pole pod krzywą ROC dla zestawu testowego: {round(auc_test,2)}')"
   ]
  },
  {
   "cell_type": "markdown",
   "metadata": {},
   "source": [
    "**Zadanie:** Przetestuj walidację krzyżową na analizowanym wcześniej zbiorze:"
   ]
  },
  {
   "cell_type": "code",
   "execution_count": 86,
   "metadata": {},
   "outputs": [],
   "source": [
    "from sklearn.model_selection import cross_val_score"
   ]
  },
  {
   "cell_type": "markdown",
   "metadata": {},
   "source": [
    "iteracja 1: trening: a,b,c,d, test: e <br>\n",
    "iteracja 2: trening: a,b,c,e, test: d <br>\n",
    "iteracja 3: trening: a,b,d,e, test: c <br>\n",
    "iteracja 4: trening: a,c,d,e, test: b <br>\n",
    "iteracja 5: trening: b,c,d,e, test: a <br>"
   ]
  },
  {
   "cell_type": "code",
   "execution_count": 91,
   "metadata": {},
   "outputs": [],
   "source": [
    "X_train, X_test, y_train, y_test = train_test_split(X,y, stratify=y, random_state=30)"
   ]
  },
  {
   "cell_type": "code",
   "execution_count": 92,
   "metadata": {},
   "outputs": [],
   "source": [
    "\n",
    "\n",
    "model = LogisticRegression(random_state = 30, max_iter = 500)\n",
    "\n",
    "scores = cross_val_score(model, X_train, y_train, cv=5, scoring = 'precision_macro',)"
   ]
  },
  {
   "cell_type": "code",
   "execution_count": 93,
   "metadata": {},
   "outputs": [
    {
     "data": {
      "text/plain": [
       "array([0.70767575, 0.64978214, 0.77505447, 0.80588235, 0.8331044 ])"
      ]
     },
     "execution_count": 93,
     "metadata": {},
     "output_type": "execute_result"
    }
   ],
   "source": [
    "scores"
   ]
  },
  {
   "cell_type": "markdown",
   "metadata": {},
   "source": [
    "# Regularyzacja, czyli jak przeciwdziałać overfittingowi. Czy to jest w ogóle problem? Sprawdźmy!"
   ]
  },
  {
   "cell_type": "code",
   "execution_count": 94,
   "metadata": {},
   "outputs": [],
   "source": [
    "wine, wine_classes = load_dataset('wine', 'Class')"
   ]
  },
  {
   "cell_type": "code",
   "execution_count": 95,
   "metadata": {},
   "outputs": [
    {
     "data": {
      "text/html": [
       "<div>\n",
       "<style scoped>\n",
       "    .dataframe tbody tr th:only-of-type {\n",
       "        vertical-align: middle;\n",
       "    }\n",
       "\n",
       "    .dataframe tbody tr th {\n",
       "        vertical-align: top;\n",
       "    }\n",
       "\n",
       "    .dataframe thead th {\n",
       "        text-align: right;\n",
       "    }\n",
       "</style>\n",
       "<table border=\"1\" class=\"dataframe\">\n",
       "  <thead>\n",
       "    <tr style=\"text-align: right;\">\n",
       "      <th></th>\n",
       "      <th>Alcohol</th>\n",
       "      <th>Malic acid</th>\n",
       "      <th>Ash</th>\n",
       "      <th>Alcalinity of ash</th>\n",
       "      <th>Magnesium</th>\n",
       "      <th>Total phenols</th>\n",
       "      <th>Flavanoids</th>\n",
       "      <th>Nonflavanoid phenols</th>\n",
       "      <th>Proanthocyanins</th>\n",
       "      <th>Color intensity</th>\n",
       "      <th>Hue</th>\n",
       "      <th>OD280/OD315 of diluted wines</th>\n",
       "      <th>Proline</th>\n",
       "      <th>class</th>\n",
       "    </tr>\n",
       "  </thead>\n",
       "  <tbody>\n",
       "    <tr>\n",
       "      <th>0</th>\n",
       "      <td>14.23</td>\n",
       "      <td>1.71</td>\n",
       "      <td>2.43</td>\n",
       "      <td>15.6</td>\n",
       "      <td>127</td>\n",
       "      <td>2.80</td>\n",
       "      <td>3.06</td>\n",
       "      <td>0.28</td>\n",
       "      <td>2.29</td>\n",
       "      <td>5.64</td>\n",
       "      <td>1.04</td>\n",
       "      <td>3.92</td>\n",
       "      <td>1065</td>\n",
       "      <td>0</td>\n",
       "    </tr>\n",
       "    <tr>\n",
       "      <th>1</th>\n",
       "      <td>13.20</td>\n",
       "      <td>1.78</td>\n",
       "      <td>2.14</td>\n",
       "      <td>11.2</td>\n",
       "      <td>100</td>\n",
       "      <td>2.65</td>\n",
       "      <td>2.76</td>\n",
       "      <td>0.26</td>\n",
       "      <td>1.28</td>\n",
       "      <td>4.38</td>\n",
       "      <td>1.05</td>\n",
       "      <td>3.40</td>\n",
       "      <td>1050</td>\n",
       "      <td>0</td>\n",
       "    </tr>\n",
       "    <tr>\n",
       "      <th>2</th>\n",
       "      <td>13.16</td>\n",
       "      <td>2.36</td>\n",
       "      <td>2.67</td>\n",
       "      <td>18.6</td>\n",
       "      <td>101</td>\n",
       "      <td>2.80</td>\n",
       "      <td>3.24</td>\n",
       "      <td>0.30</td>\n",
       "      <td>2.81</td>\n",
       "      <td>5.68</td>\n",
       "      <td>1.03</td>\n",
       "      <td>3.17</td>\n",
       "      <td>1185</td>\n",
       "      <td>0</td>\n",
       "    </tr>\n",
       "    <tr>\n",
       "      <th>3</th>\n",
       "      <td>14.37</td>\n",
       "      <td>1.95</td>\n",
       "      <td>2.50</td>\n",
       "      <td>16.8</td>\n",
       "      <td>113</td>\n",
       "      <td>3.85</td>\n",
       "      <td>3.49</td>\n",
       "      <td>0.24</td>\n",
       "      <td>2.18</td>\n",
       "      <td>7.80</td>\n",
       "      <td>0.86</td>\n",
       "      <td>3.45</td>\n",
       "      <td>1480</td>\n",
       "      <td>0</td>\n",
       "    </tr>\n",
       "    <tr>\n",
       "      <th>4</th>\n",
       "      <td>13.24</td>\n",
       "      <td>2.59</td>\n",
       "      <td>2.87</td>\n",
       "      <td>21.0</td>\n",
       "      <td>118</td>\n",
       "      <td>2.80</td>\n",
       "      <td>2.69</td>\n",
       "      <td>0.39</td>\n",
       "      <td>1.82</td>\n",
       "      <td>4.32</td>\n",
       "      <td>1.04</td>\n",
       "      <td>2.93</td>\n",
       "      <td>735</td>\n",
       "      <td>0</td>\n",
       "    </tr>\n",
       "  </tbody>\n",
       "</table>\n",
       "</div>"
      ],
      "text/plain": [
       "   Alcohol  Malic acid   Ash  Alcalinity of ash  Magnesium  Total phenols  \\\n",
       "0    14.23        1.71  2.43               15.6        127           2.80   \n",
       "1    13.20        1.78  2.14               11.2        100           2.65   \n",
       "2    13.16        2.36  2.67               18.6        101           2.80   \n",
       "3    14.37        1.95  2.50               16.8        113           3.85   \n",
       "4    13.24        2.59  2.87               21.0        118           2.80   \n",
       "\n",
       "   Flavanoids  Nonflavanoid phenols  Proanthocyanins  Color intensity   Hue  \\\n",
       "0        3.06                  0.28             2.29             5.64  1.04   \n",
       "1        2.76                  0.26             1.28             4.38  1.05   \n",
       "2        3.24                  0.30             2.81             5.68  1.03   \n",
       "3        3.49                  0.24             2.18             7.80  0.86   \n",
       "4        2.69                  0.39             1.82             4.32  1.04   \n",
       "\n",
       "   OD280/OD315 of diluted wines  Proline  class  \n",
       "0                          3.92     1065      0  \n",
       "1                          3.40     1050      0  \n",
       "2                          3.17     1185      0  \n",
       "3                          3.45     1480      0  \n",
       "4                          2.93      735      0  "
      ]
     },
     "execution_count": 95,
     "metadata": {},
     "output_type": "execute_result"
    }
   ],
   "source": [
    "wine.head()"
   ]
  },
  {
   "cell_type": "code",
   "execution_count": 96,
   "metadata": {},
   "outputs": [],
   "source": [
    "y = wine.pop('class')"
   ]
  },
  {
   "cell_type": "code",
   "execution_count": 99,
   "metadata": {},
   "outputs": [],
   "source": [
    "X = wine"
   ]
  },
  {
   "cell_type": "code",
   "execution_count": 100,
   "metadata": {},
   "outputs": [
    {
     "data": {
      "text/plain": [
       "2    71\n",
       "0    59\n",
       "1    48\n",
       "Name: class, dtype: int64"
      ]
     },
     "execution_count": 100,
     "metadata": {},
     "output_type": "execute_result"
    }
   ],
   "source": [
    "y.value_counts()"
   ]
  },
  {
   "cell_type": "code",
   "execution_count": 101,
   "metadata": {},
   "outputs": [],
   "source": [
    "X_train, X_test, y_train, y_test = train_test_split(X,y, test_size=30, stratify=y, random_state=30)\n",
    "model = LogisticRegression(random_state=30, max_iter=100)\n",
    "model.fit(X_train, y_train)"
   ]
  },
  {
   "cell_type": "code",
   "execution_count": 118,
   "metadata": {
    "collapsed": true
   },
   "outputs": [
    {
     "name": "stderr",
     "output_type": "stream",
     "text": [
      "C:\\Program Files\\anaconda\\lib\\site-packages\\sklearn\\linear_model\\_logistic.py:458: ConvergenceWarning: lbfgs failed to converge (status=1):\n",
      "STOP: TOTAL NO. of ITERATIONS REACHED LIMIT.\n",
      "\n",
      "Increase the number of iterations (max_iter) or scale the data as shown in:\n",
      "    https://scikit-learn.org/stable/modules/preprocessing.html\n",
      "Please also refer to the documentation for alternative solver options:\n",
      "    https://scikit-learn.org/stable/modules/linear_model.html#logistic-regression\n",
      "  n_iter_i = _check_optimize_result(\n",
      "C:\\Program Files\\anaconda\\lib\\site-packages\\sklearn\\linear_model\\_logistic.py:458: ConvergenceWarning: lbfgs failed to converge (status=1):\n",
      "STOP: TOTAL NO. of ITERATIONS REACHED LIMIT.\n",
      "\n",
      "Increase the number of iterations (max_iter) or scale the data as shown in:\n",
      "    https://scikit-learn.org/stable/modules/preprocessing.html\n",
      "Please also refer to the documentation for alternative solver options:\n",
      "    https://scikit-learn.org/stable/modules/linear_model.html#logistic-regression\n",
      "  n_iter_i = _check_optimize_result(\n",
      "C:\\Program Files\\anaconda\\lib\\site-packages\\sklearn\\linear_model\\_logistic.py:458: ConvergenceWarning: lbfgs failed to converge (status=1):\n",
      "STOP: TOTAL NO. of ITERATIONS REACHED LIMIT.\n",
      "\n",
      "Increase the number of iterations (max_iter) or scale the data as shown in:\n",
      "    https://scikit-learn.org/stable/modules/preprocessing.html\n",
      "Please also refer to the documentation for alternative solver options:\n",
      "    https://scikit-learn.org/stable/modules/linear_model.html#logistic-regression\n",
      "  n_iter_i = _check_optimize_result(\n",
      "C:\\Program Files\\anaconda\\lib\\site-packages\\sklearn\\linear_model\\_logistic.py:458: ConvergenceWarning: lbfgs failed to converge (status=1):\n",
      "STOP: TOTAL NO. of ITERATIONS REACHED LIMIT.\n",
      "\n",
      "Increase the number of iterations (max_iter) or scale the data as shown in:\n",
      "    https://scikit-learn.org/stable/modules/preprocessing.html\n",
      "Please also refer to the documentation for alternative solver options:\n",
      "    https://scikit-learn.org/stable/modules/linear_model.html#logistic-regression\n",
      "  n_iter_i = _check_optimize_result(\n",
      "C:\\Program Files\\anaconda\\lib\\site-packages\\sklearn\\linear_model\\_logistic.py:458: ConvergenceWarning: lbfgs failed to converge (status=1):\n",
      "STOP: TOTAL NO. of ITERATIONS REACHED LIMIT.\n",
      "\n",
      "Increase the number of iterations (max_iter) or scale the data as shown in:\n",
      "    https://scikit-learn.org/stable/modules/preprocessing.html\n",
      "Please also refer to the documentation for alternative solver options:\n",
      "    https://scikit-learn.org/stable/modules/linear_model.html#logistic-regression\n",
      "  n_iter_i = _check_optimize_result(\n",
      "C:\\Program Files\\anaconda\\lib\\site-packages\\sklearn\\linear_model\\_logistic.py:458: ConvergenceWarning: lbfgs failed to converge (status=1):\n",
      "STOP: TOTAL NO. of ITERATIONS REACHED LIMIT.\n",
      "\n",
      "Increase the number of iterations (max_iter) or scale the data as shown in:\n",
      "    https://scikit-learn.org/stable/modules/preprocessing.html\n",
      "Please also refer to the documentation for alternative solver options:\n",
      "    https://scikit-learn.org/stable/modules/linear_model.html#logistic-regression\n",
      "  n_iter_i = _check_optimize_result(\n",
      "C:\\Program Files\\anaconda\\lib\\site-packages\\sklearn\\linear_model\\_logistic.py:458: ConvergenceWarning: lbfgs failed to converge (status=1):\n",
      "STOP: TOTAL NO. of ITERATIONS REACHED LIMIT.\n",
      "\n",
      "Increase the number of iterations (max_iter) or scale the data as shown in:\n",
      "    https://scikit-learn.org/stable/modules/preprocessing.html\n",
      "Please also refer to the documentation for alternative solver options:\n",
      "    https://scikit-learn.org/stable/modules/linear_model.html#logistic-regression\n",
      "  n_iter_i = _check_optimize_result(\n",
      "C:\\Program Files\\anaconda\\lib\\site-packages\\sklearn\\linear_model\\_logistic.py:458: ConvergenceWarning: lbfgs failed to converge (status=1):\n",
      "STOP: TOTAL NO. of ITERATIONS REACHED LIMIT.\n",
      "\n",
      "Increase the number of iterations (max_iter) or scale the data as shown in:\n",
      "    https://scikit-learn.org/stable/modules/preprocessing.html\n",
      "Please also refer to the documentation for alternative solver options:\n",
      "    https://scikit-learn.org/stable/modules/linear_model.html#logistic-regression\n",
      "  n_iter_i = _check_optimize_result(\n",
      "C:\\Program Files\\anaconda\\lib\\site-packages\\sklearn\\linear_model\\_logistic.py:458: ConvergenceWarning: lbfgs failed to converge (status=1):\n",
      "STOP: TOTAL NO. of ITERATIONS REACHED LIMIT.\n",
      "\n",
      "Increase the number of iterations (max_iter) or scale the data as shown in:\n",
      "    https://scikit-learn.org/stable/modules/preprocessing.html\n",
      "Please also refer to the documentation for alternative solver options:\n",
      "    https://scikit-learn.org/stable/modules/linear_model.html#logistic-regression\n",
      "  n_iter_i = _check_optimize_result(\n",
      "C:\\Program Files\\anaconda\\lib\\site-packages\\sklearn\\linear_model\\_logistic.py:458: ConvergenceWarning: lbfgs failed to converge (status=1):\n",
      "STOP: TOTAL NO. of ITERATIONS REACHED LIMIT.\n",
      "\n",
      "Increase the number of iterations (max_iter) or scale the data as shown in:\n",
      "    https://scikit-learn.org/stable/modules/preprocessing.html\n",
      "Please also refer to the documentation for alternative solver options:\n",
      "    https://scikit-learn.org/stable/modules/linear_model.html#logistic-regression\n",
      "  n_iter_i = _check_optimize_result(\n"
     ]
    }
   ],
   "source": [
    "#from sklearn import make_scorer\n",
    "\n",
    "model = LogisticRegression(random_state = 30, max_iter = 1500)\n",
    "\n",
    "scores_precision = cross_val_score(model, X_train, y_train, cv=5, scoring='precision_macro')\n",
    "scores_recall = cross_val_score(model, X_train, y_train, cv=5, scoring='recall_macro')"
   ]
  },
  {
   "cell_type": "code",
   "execution_count": 119,
   "metadata": {},
   "outputs": [
    {
     "name": "stdout",
     "output_type": "stream",
     "text": [
      "[0.97435897 0.96296296 0.91538462 0.96296296 0.89469697]\n",
      "[0.96666667 0.97222222 0.89722222 0.97222222 0.89772727]\n"
     ]
    }
   ],
   "source": [
    "print(scores_precision)\n",
    "print(scores_recall)"
   ]
  },
  {
   "cell_type": "code",
   "execution_count": 109,
   "metadata": {},
   "outputs": [
    {
     "name": "stdout",
     "output_type": "stream",
     "text": [
      "f-score na zbiorze treningowym: 0.9729101954187864\n",
      "f-score na zbiorze testowym: 0.8997452788757135\n"
     ]
    }
   ],
   "source": [
    "y_pred_train = model.predict(X_train)\n",
    "y_pred = model.predict(X_test)\n",
    "\n",
    "f_train = f1_score(y_train, y_pred_train, average='weighted')\n",
    "f_test = f1_score(y_test, y_pred, average='weighted')\n",
    "\n",
    "print(f'f-score na zbiorze treningowym: {f_train}')\n",
    "print(f'f-score na zbiorze testowym: {f_test}')"
   ]
  },
  {
   "cell_type": "markdown",
   "metadata": {},
   "source": [
    "Regularyzacja:"
   ]
  },
  {
   "cell_type": "code",
   "execution_count": 120,
   "metadata": {},
   "outputs": [
    {
     "name": "stdout",
     "output_type": "stream",
     "text": [
      "f-score na zbiorze treningowym: 0.9594800986553564\n",
      "f-score na zbiorze testowym: 0.933015873015873\n"
     ]
    },
    {
     "name": "stderr",
     "output_type": "stream",
     "text": [
      "C:\\Program Files\\anaconda\\lib\\site-packages\\sklearn\\linear_model\\_logistic.py:458: ConvergenceWarning: lbfgs failed to converge (status=1):\n",
      "STOP: TOTAL NO. of ITERATIONS REACHED LIMIT.\n",
      "\n",
      "Increase the number of iterations (max_iter) or scale the data as shown in:\n",
      "    https://scikit-learn.org/stable/modules/preprocessing.html\n",
      "Please also refer to the documentation for alternative solver options:\n",
      "    https://scikit-learn.org/stable/modules/linear_model.html#logistic-regression\n",
      "  n_iter_i = _check_optimize_result(\n"
     ]
    }
   ],
   "source": [
    "model = LogisticRegression(random_state=30, max_iter=100, penalty = 'l2', C=0.1)\n",
    "model.fit(X_train, y_train)\n",
    "\n",
    "\n",
    "y_pred_train = model.predict(X_train)\n",
    "y_pred = model.predict(X_test)\n",
    "\n",
    "f_train = f1_score(y_train, y_pred_train, average='weighted')\n",
    "f_test = f1_score(y_test, y_pred, average='weighted')\n",
    "\n",
    "print(f'f-score na zbiorze treningowym: {f_train}')\n",
    "print(f'f-score na zbiorze testowym: {f_test}')"
   ]
  },
  {
   "cell_type": "markdown",
   "metadata": {},
   "source": [
    "Przetestujmy teraz jednocześnie wiele wartości parametru regularyzacji"
   ]
  },
  {
   "cell_type": "code",
   "execution_count": 123,
   "metadata": {},
   "outputs": [
    {
     "name": "stdout",
     "output_type": "stream",
     "text": [
      "[0.001, 0.01, 0.1, 1.0, 10.0]\n"
     ]
    }
   ],
   "source": [
    "import numpy as np\n",
    "\n",
    "C_values = [10.0**x for x in np.arange(-3,2,1)]\n",
    "\n",
    "print(C_values)"
   ]
  },
  {
   "cell_type": "code",
   "execution_count": 125,
   "metadata": {
    "collapsed": true
   },
   "outputs": [
    {
     "name": "stderr",
     "output_type": "stream",
     "text": [
      "C:\\Program Files\\anaconda\\lib\\site-packages\\sklearn\\linear_model\\_logistic.py:458: ConvergenceWarning: lbfgs failed to converge (status=1):\n",
      "STOP: TOTAL NO. of ITERATIONS REACHED LIMIT.\n",
      "\n",
      "Increase the number of iterations (max_iter) or scale the data as shown in:\n",
      "    https://scikit-learn.org/stable/modules/preprocessing.html\n",
      "Please also refer to the documentation for alternative solver options:\n",
      "    https://scikit-learn.org/stable/modules/linear_model.html#logistic-regression\n",
      "  n_iter_i = _check_optimize_result(\n",
      "C:\\Program Files\\anaconda\\lib\\site-packages\\sklearn\\linear_model\\_logistic.py:458: ConvergenceWarning: lbfgs failed to converge (status=1):\n",
      "STOP: TOTAL NO. of ITERATIONS REACHED LIMIT.\n",
      "\n",
      "Increase the number of iterations (max_iter) or scale the data as shown in:\n",
      "    https://scikit-learn.org/stable/modules/preprocessing.html\n",
      "Please also refer to the documentation for alternative solver options:\n",
      "    https://scikit-learn.org/stable/modules/linear_model.html#logistic-regression\n",
      "  n_iter_i = _check_optimize_result(\n",
      "C:\\Program Files\\anaconda\\lib\\site-packages\\sklearn\\linear_model\\_logistic.py:458: ConvergenceWarning: lbfgs failed to converge (status=1):\n",
      "STOP: TOTAL NO. of ITERATIONS REACHED LIMIT.\n",
      "\n",
      "Increase the number of iterations (max_iter) or scale the data as shown in:\n",
      "    https://scikit-learn.org/stable/modules/preprocessing.html\n",
      "Please also refer to the documentation for alternative solver options:\n",
      "    https://scikit-learn.org/stable/modules/linear_model.html#logistic-regression\n",
      "  n_iter_i = _check_optimize_result(\n",
      "C:\\Program Files\\anaconda\\lib\\site-packages\\sklearn\\linear_model\\_logistic.py:458: ConvergenceWarning: lbfgs failed to converge (status=1):\n",
      "STOP: TOTAL NO. of ITERATIONS REACHED LIMIT.\n",
      "\n",
      "Increase the number of iterations (max_iter) or scale the data as shown in:\n",
      "    https://scikit-learn.org/stable/modules/preprocessing.html\n",
      "Please also refer to the documentation for alternative solver options:\n",
      "    https://scikit-learn.org/stable/modules/linear_model.html#logistic-regression\n",
      "  n_iter_i = _check_optimize_result(\n",
      "C:\\Program Files\\anaconda\\lib\\site-packages\\sklearn\\linear_model\\_logistic.py:458: ConvergenceWarning: lbfgs failed to converge (status=1):\n",
      "STOP: TOTAL NO. of ITERATIONS REACHED LIMIT.\n",
      "\n",
      "Increase the number of iterations (max_iter) or scale the data as shown in:\n",
      "    https://scikit-learn.org/stable/modules/preprocessing.html\n",
      "Please also refer to the documentation for alternative solver options:\n",
      "    https://scikit-learn.org/stable/modules/linear_model.html#logistic-regression\n",
      "  n_iter_i = _check_optimize_result(\n"
     ]
    }
   ],
   "source": [
    "train_err = []\n",
    "valid_err = []\n",
    "\n",
    "for C_value in C_values:\n",
    "    model = LogisticRegression(random_state=30, max_iter=100, penalty = 'l2', C=C_value)\n",
    "    model.fit(X_train, y_train)\n",
    "    \n",
    "    train_err.append(model.score(X_train, y_train))\n",
    "    valid_err.append(model.score(X_test, y_test))"
   ]
  },
  {
   "cell_type": "code",
   "execution_count": 126,
   "metadata": {},
   "outputs": [
    {
     "data": {
      "text/plain": [
       "[0.8108108108108109,\n",
       " 0.9459459459459459,\n",
       " 0.9594594594594594,\n",
       " 0.972972972972973,\n",
       " 0.9797297297297297]"
      ]
     },
     "execution_count": 126,
     "metadata": {},
     "output_type": "execute_result"
    }
   ],
   "source": [
    "train_err"
   ]
  },
  {
   "cell_type": "code",
   "execution_count": 127,
   "metadata": {},
   "outputs": [
    {
     "data": {
      "image/png": "[encoded data removed]",
      "text/plain": [
       "<Figure size 640x480 with 1 Axes>"
      ]
     },
     "metadata": {},
     "output_type": "display_data"
    }
   ],
   "source": [
    "plt.semilogx(C_values, train_err, C_values, valid_err)\n",
    "plt.legend(('train', 'validation'))\n",
    "plt.show()"
   ]
  },
  {
   "cell_type": "markdown",
   "metadata": {},
   "source": [
    "Skorzystajmy teraz z metody Grid Search. Regularyzacja l1 udostępnia selekcję cech, o możemy zobaczyć tu:"
   ]
  },
  {
   "cell_type": "code",
   "execution_count": 128,
   "metadata": {},
   "outputs": [],
   "source": [
    "from sklearn.model_selection import GridSearchCV"
   ]
  },
  {
   "cell_type": "code",
   "execution_count": 129,
   "metadata": {},
   "outputs": [],
   "source": [
    "lr = LogisticRegression(solver ='liblinear', random_state=30)\n",
    "\n",
    "params = {'C':[10.0**x for x in np.arange(-3,2,1)],\n",
    "         'penalty': ['l1', 'l2'],\n",
    "         'max_iter': [100, 300, 500]}"
   ]
  },
  {
   "cell_type": "code",
   "execution_count": 131,
   "metadata": {},
   "outputs": [
    {
     "data": {
      "text/html": [
       "<style>#sk-container-id-11 {color: black;background-color: white;}#sk-container-id-11 pre{padding: 0;}#sk-container-id-11 div.sk-toggleable {background-color: white;}#sk-container-id-11 label.sk-toggleable__label {cursor: pointer;display: block;width: 100%;margin-bottom: 0;padding: 0.3em;box-sizing: border-box;text-align: center;}#sk-container-id-11 label.sk-toggleable__label-arrow:before {content: \"▸\";float: left;margin-right: 0.25em;color: #696969;}#sk-container-id-11 label.sk-toggleable__label-arrow:hover:before {color: black;}#sk-container-id-11 div.sk-estimator:hover label.sk-toggleable__label-arrow:before {color: black;}#sk-container-id-11 div.sk-toggleable__content {max-height: 0;max-width: 0;overflow: hidden;text-align: left;background-color: #f0f8ff;}#sk-container-id-11 div.sk-toggleable__content pre {margin: 0.2em;color: black;border-radius: 0.25em;background-color: #f0f8ff;}#sk-container-id-11 input.sk-toggleable__control:checked~div.sk-toggleable__content {max-height: 200px;max-width: 100%;overflow: auto;}#sk-container-id-11 input.sk-toggleable__control:checked~label.sk-toggleable__label-arrow:before {content: \"▾\";}#sk-container-id-11 div.sk-estimator input.sk-toggleable__control:checked~label.sk-toggleable__label {background-color: #d4ebff;}#sk-container-id-11 div.sk-label input.sk-toggleable__control:checked~label.sk-toggleable__label {background-color: #d4ebff;}#sk-container-id-11 input.sk-hidden--visually {border: 0;clip: rect(1px 1px 1px 1px);clip: rect(1px, 1px, 1px, 1px);height: 1px;margin: -1px;overflow: hidden;padding: 0;position: absolute;width: 1px;}#sk-container-id-11 div.sk-estimator {font-family: monospace;background-color: #f0f8ff;border: 1px dotted black;border-radius: 0.25em;box-sizing: border-box;margin-bottom: 0.5em;}#sk-container-id-11 div.sk-estimator:hover {background-color: #d4ebff;}#sk-container-id-11 div.sk-parallel-item::after {content: \"\";width: 100%;border-bottom: 1px solid gray;flex-grow: 1;}#sk-container-id-11 div.sk-label:hover label.sk-toggleable__label {background-color: #d4ebff;}#sk-container-id-11 div.sk-serial::before {content: \"\";position: absolute;border-left: 1px solid gray;box-sizing: border-box;top: 0;bottom: 0;left: 50%;z-index: 0;}#sk-container-id-11 div.sk-serial {display: flex;flex-direction: column;align-items: center;background-color: white;padding-right: 0.2em;padding-left: 0.2em;position: relative;}#sk-container-id-11 div.sk-item {position: relative;z-index: 1;}#sk-container-id-11 div.sk-parallel {display: flex;align-items: stretch;justify-content: center;background-color: white;position: relative;}#sk-container-id-11 div.sk-item::before, #sk-container-id-11 div.sk-parallel-item::before {content: \"\";position: absolute;border-left: 1px solid gray;box-sizing: border-box;top: 0;bottom: 0;left: 50%;z-index: -1;}#sk-container-id-11 div.sk-parallel-item {display: flex;flex-direction: column;z-index: 1;position: relative;background-color: white;}#sk-container-id-11 div.sk-parallel-item:first-child::after {align-self: flex-end;width: 50%;}#sk-container-id-11 div.sk-parallel-item:last-child::after {align-self: flex-start;width: 50%;}#sk-container-id-11 div.sk-parallel-item:only-child::after {width: 0;}#sk-container-id-11 div.sk-dashed-wrapped {border: 1px dashed gray;margin: 0 0.4em 0.5em 0.4em;box-sizing: border-box;padding-bottom: 0.4em;background-color: white;}#sk-container-id-11 div.sk-label label {font-family: monospace;font-weight: bold;display: inline-block;line-height: 1.2em;}#sk-container-id-11 div.sk-label-container {text-align: center;}#sk-container-id-11 div.sk-container {/* jupyter's `normalize.less` sets `[hidden] { display: none; }` but bootstrap.min.css set `[hidden] { display: none !important; }` so we also need the `!important` here to be able to override the default hidden behavior on the sphinx rendered scikit-learn.org. See: https://github.com/scikit-learn/scikit-learn/issues/21755 */display: inline-block !important;position: relative;}#sk-container-id-11 div.sk-text-repr-fallback {display: none;}</style><div id=\"sk-container-id-11\" class=\"sk-top-container\"><div class=\"sk-text-repr-fallback\"><pre>GridSearchCV(cv=3,\n",
       "             estimator=LogisticRegression(random_state=30, solver=&#x27;liblinear&#x27;),\n",
       "             n_jobs=-1,\n",
       "             param_grid={&#x27;C&#x27;: [0.001, 0.01, 0.1, 1.0, 10.0],\n",
       "                         &#x27;max_iter&#x27;: [100, 300, 500], &#x27;penalty&#x27;: [&#x27;l1&#x27;, &#x27;l2&#x27;]})</pre><b>In a Jupyter environment, please rerun this cell to show the HTML representation or trust the notebook. <br />On GitHub, the HTML representation is unable to render, please try loading this page with nbviewer.org.</b></div><div class=\"sk-container\" hidden><div class=\"sk-item sk-dashed-wrapped\"><div class=\"sk-label-container\"><div class=\"sk-label sk-toggleable\"><input class=\"sk-toggleable__control sk-hidden--visually\" id=\"sk-estimator-id-11\" type=\"checkbox\" ><label for=\"sk-estimator-id-11\" class=\"sk-toggleable__label sk-toggleable__label-arrow\">GridSearchCV</label><div class=\"sk-toggleable__content\"><pre>GridSearchCV(cv=3,\n",
       "             estimator=LogisticRegression(random_state=30, solver=&#x27;liblinear&#x27;),\n",
       "             n_jobs=-1,\n",
       "             param_grid={&#x27;C&#x27;: [0.001, 0.01, 0.1, 1.0, 10.0],\n",
       "                         &#x27;max_iter&#x27;: [100, 300, 500], &#x27;penalty&#x27;: [&#x27;l1&#x27;, &#x27;l2&#x27;]})</pre></div></div></div><div class=\"sk-parallel\"><div class=\"sk-parallel-item\"><div class=\"sk-item\"><div class=\"sk-label-container\"><div class=\"sk-label sk-toggleable\"><input class=\"sk-toggleable__control sk-hidden--visually\" id=\"sk-estimator-id-12\" type=\"checkbox\" ><label for=\"sk-estimator-id-12\" class=\"sk-toggleable__label sk-toggleable__label-arrow\">estimator: LogisticRegression</label><div class=\"sk-toggleable__content\"><pre>LogisticRegression(random_state=30, solver=&#x27;liblinear&#x27;)</pre></div></div></div><div class=\"sk-serial\"><div class=\"sk-item\"><div class=\"sk-estimator sk-toggleable\"><input class=\"sk-toggleable__control sk-hidden--visually\" id=\"sk-estimator-id-13\" type=\"checkbox\" ><label for=\"sk-estimator-id-13\" class=\"sk-toggleable__label sk-toggleable__label-arrow\">LogisticRegression</label><div class=\"sk-toggleable__content\"><pre>LogisticRegression(random_state=30, solver=&#x27;liblinear&#x27;)</pre></div></div></div></div></div></div></div></div></div></div>"
      ],
      "text/plain": [
       "GridSearchCV(cv=3,\n",
       "             estimator=LogisticRegression(random_state=30, solver='liblinear'),\n",
       "             n_jobs=-1,\n",
       "             param_grid={'C': [0.001, 0.01, 0.1, 1.0, 10.0],\n",
       "                         'max_iter': [100, 300, 500], 'penalty': ['l1', 'l2']})"
      ]
     },
     "execution_count": 131,
     "metadata": {},
     "output_type": "execute_result"
    }
   ],
   "source": [
    "searcher = GridSearchCV(lr, param_grid=params, cv = 3, n_jobs=-1)\n",
    "searcher.fit(X_train, y_train)"
   ]
  },
  {
   "cell_type": "code",
   "execution_count": 134,
   "metadata": {},
   "outputs": [],
   "source": [
    "best_lr = searcher.best_estimator_\n",
    "best_params = searcher.best_params_"
   ]
  },
  {
   "cell_type": "code",
   "execution_count": 136,
   "metadata": {},
   "outputs": [],
   "source": [
    "coefs = best_lr.coef_"
   ]
  },
  {
   "cell_type": "code",
   "execution_count": 137,
   "metadata": {},
   "outputs": [
    {
     "data": {
      "text/plain": [
       "array([[-1.41163964e-01,  1.39206235e-01,  1.31606370e-01,\n",
       "        -4.41857367e-01, -4.27735386e-02,  1.90438260e-01,\n",
       "         4.47679216e-01, -2.96643449e-02,  1.04343639e-01,\n",
       "        -1.08606529e-01, -1.23387479e-02,  2.98661852e-01,\n",
       "         1.51025533e-02],\n",
       "       [-1.52568737e-01,  3.74196920e-01,  1.46272868e-02,\n",
       "         6.24525880e-02,  3.72547303e-03, -3.28771945e-01,\n",
       "        -7.49339889e-01,  3.59374072e-05, -3.20350039e-01,\n",
       "         7.42968875e-01, -1.69847206e-01, -5.40153209e-01,\n",
       "        -2.24026805e-03],\n",
       "       [ 2.73268529e-01, -4.87516258e-01, -1.31775982e-01,\n",
       "         1.79426810e-01,  2.22246920e-02,  1.39446332e-01,\n",
       "         2.44629328e-01,  5.66099083e-02,  1.33228642e-01,\n",
       "        -9.40003948e-01,  2.04549988e-01,  2.65911888e-01,\n",
       "        -9.00409188e-03]])"
      ]
     },
     "execution_count": 137,
     "metadata": {},
     "output_type": "execute_result"
    }
   ],
   "source": [
    "coefs"
   ]
  },
  {
   "cell_type": "code",
   "execution_count": 135,
   "metadata": {},
   "outputs": [
    {
     "data": {
      "text/plain": [
       "{'C': 0.1, 'max_iter': 100, 'penalty': 'l2'}"
      ]
     },
     "execution_count": 135,
     "metadata": {},
     "output_type": "execute_result"
    }
   ],
   "source": [
    "best_params"
   ]
  },
  {
   "cell_type": "markdown",
   "metadata": {},
   "source": [
    "best_lr = model = LogisticRegression('C'= 0.1, 'max_iter'= 100, 'penalty'= 'l2', random_state=30, solver ='liblinear')"
   ]
  },
  {
   "cell_type": "markdown",
   "metadata": {},
   "source": [
    "# Granice decyzyjne na sztucznie wygenerowanym zbiorze:"
   ]
  },
  {
   "cell_type": "markdown",
   "metadata": {},
   "source": [
    "Zaczniemy od wygenerowania sztucznego zbioru do klasyfikacji, składającego się z dwóch zbiorów punktów z rozkładu normalnego."
   ]
  },
  {
   "cell_type": "code",
   "execution_count": 1,
   "metadata": {},
   "outputs": [],
   "source": [
    "import numpy as np\n",
    "import matplotlib.pyplot as plt\n",
    "%matplotlib inline\n",
    "\n",
    "# losowe dane dla dwóch klas, przy przesunięciu środka rozkładu\n",
    "train_data = np.vstack((np.random.normal(size=(100, 2)),\n",
    "                        np.random.normal(size=(100, 2), loc=2)))\n",
    "\n",
    "train_labels = np.hstack((np.zeros(100), np.ones(100)))\n",
    "\n",
    "\n",
    "# np.vstack - połaczenie tablic wertykalne\n",
    "# np.hstack - połączenie tablic horyzontalne"
   ]
  },
  {
   "cell_type": "code",
   "execution_count": 2,
   "metadata": {},
   "outputs": [
    {
     "data": {
      "text/plain": [
       "(200, 2)"
      ]
     },
     "execution_count": 2,
     "metadata": {},
     "output_type": "execute_result"
    }
   ],
   "source": [
    "train_data.shape"
   ]
  },
  {
   "cell_type": "code",
   "execution_count": 3,
   "metadata": {},
   "outputs": [
    {
     "data": {
      "text/plain": [
       "array([[-1.76315017,  0.60064286],\n",
       "       [-0.63829429, -0.19930924],\n",
       "       [ 2.06958294,  0.92963971],\n",
       "       [ 0.42650095, -0.33729354],\n",
       "       [-1.03386728,  0.30883137],\n",
       "       [-0.50495733, -0.19299474],\n",
       "       [-0.32481732,  0.47871613],\n",
       "       [-0.41703205,  1.09252773],\n",
       "       [ 0.62237026, -1.65892294],\n",
       "       [ 0.77067265,  0.23048158]])"
      ]
     },
     "execution_count": 3,
     "metadata": {},
     "output_type": "execute_result"
    }
   ],
   "source": [
    "train_data[:10]"
   ]
  },
  {
   "cell_type": "code",
   "execution_count": 4,
   "metadata": {},
   "outputs": [
    {
     "data": {
      "text/plain": [
       "(200, 2)"
      ]
     },
     "execution_count": 4,
     "metadata": {},
     "output_type": "execute_result"
    }
   ],
   "source": [
    "train_data.shape"
   ]
  },
  {
   "cell_type": "code",
   "execution_count": 5,
   "metadata": {},
   "outputs": [
    {
     "data": {
      "text/plain": [
       "array([0., 0., 0., 0., 0., 0., 0., 0., 0., 0.])"
      ]
     },
     "execution_count": 5,
     "metadata": {},
     "output_type": "execute_result"
    }
   ],
   "source": [
    "train_labels[:10]"
   ]
  },
  {
   "cell_type": "markdown",
   "metadata": {},
   "source": [
    "Wyświetlimy je w postaci wykresu punktowego, wraz z linią dokładnie pomiędzy środkami obu rozkładów:"
   ]
  },
  {
   "cell_type": "code",
   "execution_count": 6,
   "metadata": {},
   "outputs": [
    {
     "data": {
      "text/plain": [
       "<matplotlib.collections.PathCollection at 0x242a0e5c2e0>"
      ]
     },
     "execution_count": 6,
     "metadata": {},
     "output_type": "execute_result"
    },
    {
     "data": {
      "image/png": "[encoded data removed]",
      "text/plain": [
       "<Figure size 640x480 with 1 Axes>"
      ]
     },
     "metadata": {},
     "output_type": "display_data"
    }
   ],
   "source": [
    "fig, ax = plt.subplots()\n",
    "\n",
    "ax.scatter(train_data[:,0], train_data[:,1], c =train_labels)"
   ]
  },
  {
   "cell_type": "markdown",
   "metadata": {},
   "source": [
    "Na tak utworzonym zbiorze wytrenujemy model regresji logistycznej"
   ]
  },
  {
   "cell_type": "code",
   "execution_count": 7,
   "metadata": {},
   "outputs": [
    {
     "data": {
      "text/html": [
       "<style>#sk-container-id-1 {color: black;background-color: white;}#sk-container-id-1 pre{padding: 0;}#sk-container-id-1 div.sk-toggleable {background-color: white;}#sk-container-id-1 label.sk-toggleable__label {cursor: pointer;display: block;width: 100%;margin-bottom: 0;padding: 0.3em;box-sizing: border-box;text-align: center;}#sk-container-id-1 label.sk-toggleable__label-arrow:before {content: \"▸\";float: left;margin-right: 0.25em;color: #696969;}#sk-container-id-1 label.sk-toggleable__label-arrow:hover:before {color: black;}#sk-container-id-1 div.sk-estimator:hover label.sk-toggleable__label-arrow:before {color: black;}#sk-container-id-1 div.sk-toggleable__content {max-height: 0;max-width: 0;overflow: hidden;text-align: left;background-color: #f0f8ff;}#sk-container-id-1 div.sk-toggleable__content pre {margin: 0.2em;color: black;border-radius: 0.25em;background-color: #f0f8ff;}#sk-container-id-1 input.sk-toggleable__control:checked~div.sk-toggleable__content {max-height: 200px;max-width: 100%;overflow: auto;}#sk-container-id-1 input.sk-toggleable__control:checked~label.sk-toggleable__label-arrow:before {content: \"▾\";}#sk-container-id-1 div.sk-estimator input.sk-toggleable__control:checked~label.sk-toggleable__label {background-color: #d4ebff;}#sk-container-id-1 div.sk-label input.sk-toggleable__control:checked~label.sk-toggleable__label {background-color: #d4ebff;}#sk-container-id-1 input.sk-hidden--visually {border: 0;clip: rect(1px 1px 1px 1px);clip: rect(1px, 1px, 1px, 1px);height: 1px;margin: -1px;overflow: hidden;padding: 0;position: absolute;width: 1px;}#sk-container-id-1 div.sk-estimator {font-family: monospace;background-color: #f0f8ff;border: 1px dotted black;border-radius: 0.25em;box-sizing: border-box;margin-bottom: 0.5em;}#sk-container-id-1 div.sk-estimator:hover {background-color: #d4ebff;}#sk-container-id-1 div.sk-parallel-item::after {content: \"\";width: 100%;border-bottom: 1px solid gray;flex-grow: 1;}#sk-container-id-1 div.sk-label:hover label.sk-toggleable__label {background-color: #d4ebff;}#sk-container-id-1 div.sk-serial::before {content: \"\";position: absolute;border-left: 1px solid gray;box-sizing: border-box;top: 0;bottom: 0;left: 50%;z-index: 0;}#sk-container-id-1 div.sk-serial {display: flex;flex-direction: column;align-items: center;background-color: white;padding-right: 0.2em;padding-left: 0.2em;position: relative;}#sk-container-id-1 div.sk-item {position: relative;z-index: 1;}#sk-container-id-1 div.sk-parallel {display: flex;align-items: stretch;justify-content: center;background-color: white;position: relative;}#sk-container-id-1 div.sk-item::before, #sk-container-id-1 div.sk-parallel-item::before {content: \"\";position: absolute;border-left: 1px solid gray;box-sizing: border-box;top: 0;bottom: 0;left: 50%;z-index: -1;}#sk-container-id-1 div.sk-parallel-item {display: flex;flex-direction: column;z-index: 1;position: relative;background-color: white;}#sk-container-id-1 div.sk-parallel-item:first-child::after {align-self: flex-end;width: 50%;}#sk-container-id-1 div.sk-parallel-item:last-child::after {align-self: flex-start;width: 50%;}#sk-container-id-1 div.sk-parallel-item:only-child::after {width: 0;}#sk-container-id-1 div.sk-dashed-wrapped {border: 1px dashed gray;margin: 0 0.4em 0.5em 0.4em;box-sizing: border-box;padding-bottom: 0.4em;background-color: white;}#sk-container-id-1 div.sk-label label {font-family: monospace;font-weight: bold;display: inline-block;line-height: 1.2em;}#sk-container-id-1 div.sk-label-container {text-align: center;}#sk-container-id-1 div.sk-container {/* jupyter's `normalize.less` sets `[hidden] { display: none; }` but bootstrap.min.css set `[hidden] { display: none !important; }` so we also need the `!important` here to be able to override the default hidden behavior on the sphinx rendered scikit-learn.org. See: https://github.com/scikit-learn/scikit-learn/issues/21755 */display: inline-block !important;position: relative;}#sk-container-id-1 div.sk-text-repr-fallback {display: none;}</style><div id=\"sk-container-id-1\" class=\"sk-top-container\"><div class=\"sk-text-repr-fallback\"><pre>LogisticRegression()</pre><b>In a Jupyter environment, please rerun this cell to show the HTML representation or trust the notebook. <br />On GitHub, the HTML representation is unable to render, please try loading this page with nbviewer.org.</b></div><div class=\"sk-container\" hidden><div class=\"sk-item\"><div class=\"sk-estimator sk-toggleable\"><input class=\"sk-toggleable__control sk-hidden--visually\" id=\"sk-estimator-id-1\" type=\"checkbox\" checked><label for=\"sk-estimator-id-1\" class=\"sk-toggleable__label sk-toggleable__label-arrow\">LogisticRegression</label><div class=\"sk-toggleable__content\"><pre>LogisticRegression()</pre></div></div></div></div></div>"
      ],
      "text/plain": [
       "LogisticRegression()"
      ]
     },
     "execution_count": 7,
     "metadata": {},
     "output_type": "execute_result"
    }
   ],
   "source": [
    "from sklearn.linear_model import LogisticRegression\n",
    "model = LogisticRegression()\n",
    "model.fit(train_data, train_labels)"
   ]
  },
  {
   "cell_type": "markdown",
   "metadata": {},
   "source": [
    "Stwórzmy zbiór testowy poprzez rozszerzenie zakresu zbioru treningowego."
   ]
  },
  {
   "cell_type": "code",
   "execution_count": 8,
   "metadata": {},
   "outputs": [],
   "source": [
    "x_min, x_max = train_data[:,0].min() -1, train_data[:,0].max() +1\n",
    "y_min, y_max = train_data[:,1].min() -1, train_data[:,1].max() +1"
   ]
  },
  {
   "cell_type": "markdown",
   "metadata": {},
   "source": [
    "Funkcja ta zwraca meshgrid (czyli listę indeksów punktów z zadanego przedziału) na podstawie wygenerowanego zbioru danych."
   ]
  },
  {
   "cell_type": "code",
   "execution_count": 12,
   "metadata": {},
   "outputs": [],
   "source": [
    "xs, ys = np.meshgrid(np.arange(x_min, x_max, 0.01), np.arange(y_min, y_max, 0.01))"
   ]
  },
  {
   "cell_type": "code",
   "execution_count": 24,
   "metadata": {},
   "outputs": [
    {
     "name": "stdout",
     "output_type": "stream",
     "text": [
      "(956, 974)\n",
      "(956, 974)\n"
     ]
    }
   ],
   "source": [
    "print(xs.shape)\n",
    "print(ys.shape)"
   ]
  },
  {
   "cell_type": "code",
   "execution_count": 16,
   "metadata": {},
   "outputs": [],
   "source": [
    "y_pred = model.predict(np.column_stack((xs.flatten(),\n",
    "                                       ys.flatten())))"
   ]
  },
  {
   "cell_type": "code",
   "execution_count": 17,
   "metadata": {},
   "outputs": [
    {
     "data": {
      "text/plain": [
       "(931144,)"
      ]
     },
     "execution_count": 17,
     "metadata": {},
     "output_type": "execute_result"
    }
   ],
   "source": [
    "print(y_pred.shape)"
   ]
  },
  {
   "cell_type": "code",
   "execution_count": 19,
   "metadata": {},
   "outputs": [],
   "source": [
    "y_pred_matrix = y_pred.reshape(xs.shape)"
   ]
  },
  {
   "cell_type": "code",
   "execution_count": 21,
   "metadata": {},
   "outputs": [
    {
     "data": {
      "text/plain": [
       "array([[0., 0., 0., ..., 1., 1., 1.],\n",
       "       [0., 0., 0., ..., 1., 1., 1.],\n",
       "       [0., 0., 0., ..., 1., 1., 1.],\n",
       "       ...,\n",
       "       [0., 0., 0., ..., 1., 1., 1.],\n",
       "       [0., 0., 0., ..., 1., 1., 1.],\n",
       "       [0., 0., 0., ..., 1., 1., 1.]])"
      ]
     },
     "execution_count": 21,
     "metadata": {},
     "output_type": "execute_result"
    }
   ],
   "source": [
    "y_pred_matrix"
   ]
  },
  {
   "cell_type": "markdown",
   "metadata": {},
   "source": [
    "Dokonujemy predykcji oraz wyświetlamy wszystkie punkty pcolormeshem, żeby zobaczyć w jaki sposób regresja logistyczna dokonała podziału przestrzeni."
   ]
  },
  {
   "cell_type": "code",
   "execution_count": 22,
   "metadata": {},
   "outputs": [
    {
     "name": "stdout",
     "output_type": "stream",
     "text": [
      "[-3.01463357e+00 -3.00463357e+00 -2.99463357e+00 -2.98463357e+00\n",
      " -2.97463357e+00 -2.96463357e+00 -2.95463357e+00 -2.94463357e+00\n",
      " -2.93463357e+00 -2.92463357e+00 -2.91463357e+00 -2.90463357e+00\n",
      " -2.89463357e+00 -2.88463357e+00 -2.87463357e+00 -2.86463357e+00\n",
      " -2.85463357e+00 -2.84463357e+00 -2.83463357e+00 -2.82463357e+00\n",
      " -2.81463357e+00 -2.80463357e+00 -2.79463357e+00 -2.78463357e+00\n",
      " -2.77463357e+00 -2.76463357e+00 -2.75463357e+00 -2.74463357e+00\n",
      " -2.73463357e+00 -2.72463357e+00 -2.71463357e+00 -2.70463357e+00\n",
      " -2.69463357e+00 -2.68463357e+00 -2.67463357e+00 -2.66463357e+00\n",
      " -2.65463357e+00 -2.64463357e+00 -2.63463357e+00 -2.62463357e+00\n",
      " -2.61463357e+00 -2.60463357e+00 -2.59463357e+00 -2.58463357e+00\n",
      " -2.57463357e+00 -2.56463357e+00 -2.55463357e+00 -2.54463357e+00\n",
      " -2.53463357e+00 -2.52463357e+00 -2.51463357e+00 -2.50463357e+00\n",
      " -2.49463357e+00 -2.48463357e+00 -2.47463357e+00 -2.46463357e+00\n",
      " -2.45463357e+00 -2.44463357e+00 -2.43463357e+00 -2.42463357e+00\n",
      " -2.41463357e+00 -2.40463357e+00 -2.39463357e+00 -2.38463357e+00\n",
      " -2.37463357e+00 -2.36463357e+00 -2.35463357e+00 -2.34463357e+00\n",
      " -2.33463357e+00 -2.32463357e+00 -2.31463357e+00 -2.30463357e+00\n",
      " -2.29463357e+00 -2.28463357e+00 -2.27463357e+00 -2.26463357e+00\n",
      " -2.25463357e+00 -2.24463357e+00 -2.23463357e+00 -2.22463357e+00\n",
      " -2.21463357e+00 -2.20463357e+00 -2.19463357e+00 -2.18463357e+00\n",
      " -2.17463357e+00 -2.16463357e+00 -2.15463357e+00 -2.14463357e+00\n",
      " -2.13463357e+00 -2.12463357e+00 -2.11463357e+00 -2.10463357e+00\n",
      " -2.09463357e+00 -2.08463357e+00 -2.07463357e+00 -2.06463357e+00\n",
      " -2.05463357e+00 -2.04463357e+00 -2.03463357e+00 -2.02463357e+00\n",
      " -2.01463357e+00 -2.00463357e+00 -1.99463357e+00 -1.98463357e+00\n",
      " -1.97463357e+00 -1.96463357e+00 -1.95463357e+00 -1.94463357e+00\n",
      " -1.93463357e+00 -1.92463357e+00 -1.91463357e+00 -1.90463357e+00\n",
      " -1.89463357e+00 -1.88463357e+00 -1.87463357e+00 -1.86463357e+00\n",
      " -1.85463357e+00 -1.84463357e+00 -1.83463357e+00 -1.82463357e+00\n",
      " -1.81463357e+00 -1.80463357e+00 -1.79463357e+00 -1.78463357e+00\n",
      " -1.77463357e+00 -1.76463357e+00 -1.75463357e+00 -1.74463357e+00\n",
      " -1.73463357e+00 -1.72463357e+00 -1.71463357e+00 -1.70463357e+00\n",
      " -1.69463357e+00 -1.68463357e+00 -1.67463357e+00 -1.66463357e+00\n",
      " -1.65463357e+00 -1.64463357e+00 -1.63463357e+00 -1.62463357e+00\n",
      " -1.61463357e+00 -1.60463357e+00 -1.59463357e+00 -1.58463357e+00\n",
      " -1.57463357e+00 -1.56463357e+00 -1.55463357e+00 -1.54463357e+00\n",
      " -1.53463357e+00 -1.52463357e+00 -1.51463357e+00 -1.50463357e+00\n",
      " -1.49463357e+00 -1.48463357e+00 -1.47463357e+00 -1.46463357e+00\n",
      " -1.45463357e+00 -1.44463357e+00 -1.43463357e+00 -1.42463357e+00\n",
      " -1.41463357e+00 -1.40463357e+00 -1.39463357e+00 -1.38463357e+00\n",
      " -1.37463357e+00 -1.36463357e+00 -1.35463357e+00 -1.34463357e+00\n",
      " -1.33463357e+00 -1.32463357e+00 -1.31463357e+00 -1.30463357e+00\n",
      " -1.29463357e+00 -1.28463357e+00 -1.27463357e+00 -1.26463357e+00\n",
      " -1.25463357e+00 -1.24463357e+00 -1.23463357e+00 -1.22463357e+00\n",
      " -1.21463357e+00 -1.20463357e+00 -1.19463357e+00 -1.18463357e+00\n",
      " -1.17463357e+00 -1.16463357e+00 -1.15463357e+00 -1.14463357e+00\n",
      " -1.13463357e+00 -1.12463357e+00 -1.11463357e+00 -1.10463357e+00\n",
      " -1.09463357e+00 -1.08463357e+00 -1.07463357e+00 -1.06463357e+00\n",
      " -1.05463357e+00 -1.04463357e+00 -1.03463357e+00 -1.02463357e+00\n",
      " -1.01463357e+00 -1.00463357e+00 -9.94633568e-01 -9.84633568e-01\n",
      " -9.74633568e-01 -9.64633568e-01 -9.54633568e-01 -9.44633568e-01\n",
      " -9.34633568e-01 -9.24633568e-01 -9.14633568e-01 -9.04633568e-01\n",
      " -8.94633568e-01 -8.84633568e-01 -8.74633568e-01 -8.64633568e-01\n",
      " -8.54633568e-01 -8.44633568e-01 -8.34633568e-01 -8.24633568e-01\n",
      " -8.14633568e-01 -8.04633568e-01 -7.94633568e-01 -7.84633568e-01\n",
      " -7.74633568e-01 -7.64633568e-01 -7.54633568e-01 -7.44633568e-01\n",
      " -7.34633568e-01 -7.24633568e-01 -7.14633568e-01 -7.04633568e-01\n",
      " -6.94633568e-01 -6.84633568e-01 -6.74633568e-01 -6.64633568e-01\n",
      " -6.54633568e-01 -6.44633568e-01 -6.34633568e-01 -6.24633568e-01\n",
      " -6.14633568e-01 -6.04633568e-01 -5.94633568e-01 -5.84633568e-01\n",
      " -5.74633568e-01 -5.64633568e-01 -5.54633568e-01 -5.44633568e-01\n",
      " -5.34633568e-01 -5.24633568e-01 -5.14633568e-01 -5.04633568e-01\n",
      " -4.94633568e-01 -4.84633568e-01 -4.74633568e-01 -4.64633568e-01\n",
      " -4.54633568e-01 -4.44633568e-01 -4.34633568e-01 -4.24633568e-01\n",
      " -4.14633568e-01 -4.04633568e-01 -3.94633568e-01 -3.84633568e-01\n",
      " -3.74633568e-01 -3.64633568e-01 -3.54633568e-01 -3.44633568e-01\n",
      " -3.34633568e-01 -3.24633568e-01 -3.14633568e-01 -3.04633568e-01\n",
      " -2.94633568e-01 -2.84633568e-01 -2.74633568e-01 -2.64633568e-01\n",
      " -2.54633568e-01 -2.44633568e-01 -2.34633568e-01 -2.24633568e-01\n",
      " -2.14633568e-01 -2.04633568e-01 -1.94633568e-01 -1.84633568e-01\n",
      " -1.74633568e-01 -1.64633568e-01 -1.54633568e-01 -1.44633568e-01\n",
      " -1.34633568e-01 -1.24633568e-01 -1.14633568e-01 -1.04633568e-01\n",
      " -9.46335682e-02 -8.46335682e-02 -7.46335682e-02 -6.46335682e-02\n",
      " -5.46335682e-02 -4.46335682e-02 -3.46335682e-02 -2.46335682e-02\n",
      " -1.46335682e-02 -4.63356824e-03  5.36643176e-03  1.53664318e-02\n",
      "  2.53664318e-02  3.53664318e-02  4.53664318e-02  5.53664318e-02\n",
      "  6.53664318e-02  7.53664318e-02  8.53664318e-02  9.53664318e-02\n",
      "  1.05366432e-01  1.15366432e-01  1.25366432e-01  1.35366432e-01\n",
      "  1.45366432e-01  1.55366432e-01  1.65366432e-01  1.75366432e-01\n",
      "  1.85366432e-01  1.95366432e-01  2.05366432e-01  2.15366432e-01\n",
      "  2.25366432e-01  2.35366432e-01  2.45366432e-01  2.55366432e-01\n",
      "  2.65366432e-01  2.75366432e-01  2.85366432e-01  2.95366432e-01\n",
      "  3.05366432e-01  3.15366432e-01  3.25366432e-01  3.35366432e-01\n",
      "  3.45366432e-01  3.55366432e-01  3.65366432e-01  3.75366432e-01\n",
      "  3.85366432e-01  3.95366432e-01  4.05366432e-01  4.15366432e-01\n",
      "  4.25366432e-01  4.35366432e-01  4.45366432e-01  4.55366432e-01\n",
      "  4.65366432e-01  4.75366432e-01  4.85366432e-01  4.95366432e-01\n",
      "  5.05366432e-01  5.15366432e-01  5.25366432e-01  5.35366432e-01\n",
      "  5.45366432e-01  5.55366432e-01  5.65366432e-01  5.75366432e-01\n",
      "  5.85366432e-01  5.95366432e-01  6.05366432e-01  6.15366432e-01\n",
      "  6.25366432e-01  6.35366432e-01  6.45366432e-01  6.55366432e-01\n",
      "  6.65366432e-01  6.75366432e-01  6.85366432e-01  6.95366432e-01\n",
      "  7.05366432e-01  7.15366432e-01  7.25366432e-01  7.35366432e-01\n",
      "  7.45366432e-01  7.55366432e-01  7.65366432e-01  7.75366432e-01\n",
      "  7.85366432e-01  7.95366432e-01  8.05366432e-01  8.15366432e-01\n",
      "  8.25366432e-01  8.35366432e-01  8.45366432e-01  8.55366432e-01\n",
      "  8.65366432e-01  8.75366432e-01  8.85366432e-01  8.95366432e-01\n",
      "  9.05366432e-01  9.15366432e-01  9.25366432e-01  9.35366432e-01\n",
      "  9.45366432e-01  9.55366432e-01  9.65366432e-01  9.75366432e-01\n",
      "  9.85366432e-01  9.95366432e-01  1.00536643e+00  1.01536643e+00\n",
      "  1.02536643e+00  1.03536643e+00  1.04536643e+00  1.05536643e+00\n",
      "  1.06536643e+00  1.07536643e+00  1.08536643e+00  1.09536643e+00\n",
      "  1.10536643e+00  1.11536643e+00  1.12536643e+00  1.13536643e+00\n",
      "  1.14536643e+00  1.15536643e+00  1.16536643e+00  1.17536643e+00\n",
      "  1.18536643e+00  1.19536643e+00  1.20536643e+00  1.21536643e+00\n",
      "  1.22536643e+00  1.23536643e+00  1.24536643e+00  1.25536643e+00\n",
      "  1.26536643e+00  1.27536643e+00  1.28536643e+00  1.29536643e+00\n",
      "  1.30536643e+00  1.31536643e+00  1.32536643e+00  1.33536643e+00\n",
      "  1.34536643e+00  1.35536643e+00  1.36536643e+00  1.37536643e+00\n",
      "  1.38536643e+00  1.39536643e+00  1.40536643e+00  1.41536643e+00\n",
      "  1.42536643e+00  1.43536643e+00  1.44536643e+00  1.45536643e+00\n",
      "  1.46536643e+00  1.47536643e+00  1.48536643e+00  1.49536643e+00\n",
      "  1.50536643e+00  1.51536643e+00  1.52536643e+00  1.53536643e+00\n",
      "  1.54536643e+00  1.55536643e+00  1.56536643e+00  1.57536643e+00\n",
      "  1.58536643e+00  1.59536643e+00  1.60536643e+00  1.61536643e+00\n",
      "  1.62536643e+00  1.63536643e+00  1.64536643e+00  1.65536643e+00\n",
      "  1.66536643e+00  1.67536643e+00  1.68536643e+00  1.69536643e+00\n",
      "  1.70536643e+00  1.71536643e+00  1.72536643e+00  1.73536643e+00\n",
      "  1.74536643e+00  1.75536643e+00  1.76536643e+00  1.77536643e+00\n",
      "  1.78536643e+00  1.79536643e+00  1.80536643e+00  1.81536643e+00\n",
      "  1.82536643e+00  1.83536643e+00  1.84536643e+00  1.85536643e+00\n",
      "  1.86536643e+00  1.87536643e+00  1.88536643e+00  1.89536643e+00\n",
      "  1.90536643e+00  1.91536643e+00  1.92536643e+00  1.93536643e+00\n",
      "  1.94536643e+00  1.95536643e+00  1.96536643e+00  1.97536643e+00\n",
      "  1.98536643e+00  1.99536643e+00  2.00536643e+00  2.01536643e+00\n",
      "  2.02536643e+00  2.03536643e+00  2.04536643e+00  2.05536643e+00\n",
      "  2.06536643e+00  2.07536643e+00  2.08536643e+00  2.09536643e+00\n",
      "  2.10536643e+00  2.11536643e+00  2.12536643e+00  2.13536643e+00\n",
      "  2.14536643e+00  2.15536643e+00  2.16536643e+00  2.17536643e+00\n",
      "  2.18536643e+00  2.19536643e+00  2.20536643e+00  2.21536643e+00\n",
      "  2.22536643e+00  2.23536643e+00  2.24536643e+00  2.25536643e+00\n",
      "  2.26536643e+00  2.27536643e+00  2.28536643e+00  2.29536643e+00\n",
      "  2.30536643e+00  2.31536643e+00  2.32536643e+00  2.33536643e+00\n",
      "  2.34536643e+00  2.35536643e+00  2.36536643e+00  2.37536643e+00\n",
      "  2.38536643e+00  2.39536643e+00  2.40536643e+00  2.41536643e+00\n",
      "  2.42536643e+00  2.43536643e+00  2.44536643e+00  2.45536643e+00\n",
      "  2.46536643e+00  2.47536643e+00  2.48536643e+00  2.49536643e+00\n",
      "  2.50536643e+00  2.51536643e+00  2.52536643e+00  2.53536643e+00\n",
      "  2.54536643e+00  2.55536643e+00  2.56536643e+00  2.57536643e+00\n",
      "  2.58536643e+00  2.59536643e+00  2.60536643e+00  2.61536643e+00\n",
      "  2.62536643e+00  2.63536643e+00  2.64536643e+00  2.65536643e+00\n",
      "  2.66536643e+00  2.67536643e+00  2.68536643e+00  2.69536643e+00\n",
      "  2.70536643e+00  2.71536643e+00  2.72536643e+00  2.73536643e+00\n",
      "  2.74536643e+00  2.75536643e+00  2.76536643e+00  2.77536643e+00\n",
      "  2.78536643e+00  2.79536643e+00  2.80536643e+00  2.81536643e+00\n",
      "  2.82536643e+00  2.83536643e+00  2.84536643e+00  2.85536643e+00\n",
      "  2.86536643e+00  2.87536643e+00  2.88536643e+00  2.89536643e+00\n",
      "  2.90536643e+00  2.91536643e+00  2.92536643e+00  2.93536643e+00\n",
      "  2.94536643e+00  2.95536643e+00  2.96536643e+00  2.97536643e+00\n",
      "  2.98536643e+00  2.99536643e+00  3.00536643e+00  3.01536643e+00\n",
      "  3.02536643e+00  3.03536643e+00  3.04536643e+00  3.05536643e+00\n",
      "  3.06536643e+00  3.07536643e+00  3.08536643e+00  3.09536643e+00\n",
      "  3.10536643e+00  3.11536643e+00  3.12536643e+00  3.13536643e+00\n",
      "  3.14536643e+00  3.15536643e+00  3.16536643e+00  3.17536643e+00\n",
      "  3.18536643e+00  3.19536643e+00  3.20536643e+00  3.21536643e+00\n",
      "  3.22536643e+00  3.23536643e+00  3.24536643e+00  3.25536643e+00\n",
      "  3.26536643e+00  3.27536643e+00  3.28536643e+00  3.29536643e+00\n",
      "  3.30536643e+00  3.31536643e+00  3.32536643e+00  3.33536643e+00\n",
      "  3.34536643e+00  3.35536643e+00  3.36536643e+00  3.37536643e+00\n",
      "  3.38536643e+00  3.39536643e+00  3.40536643e+00  3.41536643e+00\n",
      "  3.42536643e+00  3.43536643e+00  3.44536643e+00  3.45536643e+00\n",
      "  3.46536643e+00  3.47536643e+00  3.48536643e+00  3.49536643e+00\n",
      "  3.50536643e+00  3.51536643e+00  3.52536643e+00  3.53536643e+00\n",
      "  3.54536643e+00  3.55536643e+00  3.56536643e+00  3.57536643e+00\n",
      "  3.58536643e+00  3.59536643e+00  3.60536643e+00  3.61536643e+00\n",
      "  3.62536643e+00  3.63536643e+00  3.64536643e+00  3.65536643e+00\n",
      "  3.66536643e+00  3.67536643e+00  3.68536643e+00  3.69536643e+00\n",
      "  3.70536643e+00  3.71536643e+00  3.72536643e+00  3.73536643e+00\n",
      "  3.74536643e+00  3.75536643e+00  3.76536643e+00  3.77536643e+00\n",
      "  3.78536643e+00  3.79536643e+00  3.80536643e+00  3.81536643e+00\n",
      "  3.82536643e+00  3.83536643e+00  3.84536643e+00  3.85536643e+00\n",
      "  3.86536643e+00  3.87536643e+00  3.88536643e+00  3.89536643e+00\n",
      "  3.90536643e+00  3.91536643e+00  3.92536643e+00  3.93536643e+00\n",
      "  3.94536643e+00  3.95536643e+00  3.96536643e+00  3.97536643e+00\n",
      "  3.98536643e+00  3.99536643e+00  4.00536643e+00  4.01536643e+00\n",
      "  4.02536643e+00  4.03536643e+00  4.04536643e+00  4.05536643e+00\n",
      "  4.06536643e+00  4.07536643e+00  4.08536643e+00  4.09536643e+00\n",
      "  4.10536643e+00  4.11536643e+00  4.12536643e+00  4.13536643e+00\n",
      "  4.14536643e+00  4.15536643e+00  4.16536643e+00  4.17536643e+00\n",
      "  4.18536643e+00  4.19536643e+00  4.20536643e+00  4.21536643e+00\n",
      "  4.22536643e+00  4.23536643e+00  4.24536643e+00  4.25536643e+00\n",
      "  4.26536643e+00  4.27536643e+00  4.28536643e+00  4.29536643e+00\n",
      "  4.30536643e+00  4.31536643e+00  4.32536643e+00  4.33536643e+00\n",
      "  4.34536643e+00  4.35536643e+00  4.36536643e+00  4.37536643e+00\n",
      "  4.38536643e+00  4.39536643e+00  4.40536643e+00  4.41536643e+00\n",
      "  4.42536643e+00  4.43536643e+00  4.44536643e+00  4.45536643e+00\n",
      "  4.46536643e+00  4.47536643e+00  4.48536643e+00  4.49536643e+00\n",
      "  4.50536643e+00  4.51536643e+00  4.52536643e+00  4.53536643e+00\n",
      "  4.54536643e+00  4.55536643e+00  4.56536643e+00  4.57536643e+00\n",
      "  4.58536643e+00  4.59536643e+00  4.60536643e+00  4.61536643e+00\n",
      "  4.62536643e+00  4.63536643e+00  4.64536643e+00  4.65536643e+00\n",
      "  4.66536643e+00  4.67536643e+00  4.68536643e+00  4.69536643e+00\n",
      "  4.70536643e+00  4.71536643e+00  4.72536643e+00  4.73536643e+00\n",
      "  4.74536643e+00  4.75536643e+00  4.76536643e+00  4.77536643e+00\n",
      "  4.78536643e+00  4.79536643e+00  4.80536643e+00  4.81536643e+00\n",
      "  4.82536643e+00  4.83536643e+00  4.84536643e+00  4.85536643e+00\n",
      "  4.86536643e+00  4.87536643e+00  4.88536643e+00  4.89536643e+00\n",
      "  4.90536643e+00  4.91536643e+00  4.92536643e+00  4.93536643e+00\n",
      "  4.94536643e+00  4.95536643e+00  4.96536643e+00  4.97536643e+00\n",
      "  4.98536643e+00  4.99536643e+00  5.00536643e+00  5.01536643e+00\n",
      "  5.02536643e+00  5.03536643e+00  5.04536643e+00  5.05536643e+00\n",
      "  5.06536643e+00  5.07536643e+00  5.08536643e+00  5.09536643e+00\n",
      "  5.10536643e+00  5.11536643e+00  5.12536643e+00  5.13536643e+00\n",
      "  5.14536643e+00  5.15536643e+00  5.16536643e+00  5.17536643e+00\n",
      "  5.18536643e+00  5.19536643e+00  5.20536643e+00  5.21536643e+00\n",
      "  5.22536643e+00  5.23536643e+00  5.24536643e+00  5.25536643e+00\n",
      "  5.26536643e+00  5.27536643e+00  5.28536643e+00  5.29536643e+00\n",
      "  5.30536643e+00  5.31536643e+00  5.32536643e+00  5.33536643e+00\n",
      "  5.34536643e+00  5.35536643e+00  5.36536643e+00  5.37536643e+00\n",
      "  5.38536643e+00  5.39536643e+00  5.40536643e+00  5.41536643e+00\n",
      "  5.42536643e+00  5.43536643e+00  5.44536643e+00  5.45536643e+00\n",
      "  5.46536643e+00  5.47536643e+00  5.48536643e+00  5.49536643e+00\n",
      "  5.50536643e+00  5.51536643e+00  5.52536643e+00  5.53536643e+00\n",
      "  5.54536643e+00  5.55536643e+00  5.56536643e+00  5.57536643e+00\n",
      "  5.58536643e+00  5.59536643e+00  5.60536643e+00  5.61536643e+00\n",
      "  5.62536643e+00  5.63536643e+00  5.64536643e+00  5.65536643e+00\n",
      "  5.66536643e+00  5.67536643e+00  5.68536643e+00  5.69536643e+00\n",
      "  5.70536643e+00  5.71536643e+00  5.72536643e+00  5.73536643e+00\n",
      "  5.74536643e+00  5.75536643e+00  5.76536643e+00  5.77536643e+00\n",
      "  5.78536643e+00  5.79536643e+00  5.80536643e+00  5.81536643e+00\n",
      "  5.82536643e+00  5.83536643e+00  5.84536643e+00  5.85536643e+00\n",
      "  5.86536643e+00  5.87536643e+00  5.88536643e+00  5.89536643e+00\n",
      "  5.90536643e+00  5.91536643e+00  5.92536643e+00  5.93536643e+00\n",
      "  5.94536643e+00  5.95536643e+00  5.96536643e+00  5.97536643e+00\n",
      "  5.98536643e+00  5.99536643e+00  6.00536643e+00  6.01536643e+00\n",
      "  6.02536643e+00  6.03536643e+00  6.04536643e+00  6.05536643e+00\n",
      "  6.06536643e+00  6.07536643e+00  6.08536643e+00  6.09536643e+00\n",
      "  6.10536643e+00  6.11536643e+00  6.12536643e+00  6.13536643e+00\n",
      "  6.14536643e+00  6.15536643e+00  6.16536643e+00  6.17536643e+00\n",
      "  6.18536643e+00  6.19536643e+00  6.20536643e+00  6.21536643e+00\n",
      "  6.22536643e+00  6.23536643e+00  6.24536643e+00  6.25536643e+00\n",
      "  6.26536643e+00  6.27536643e+00  6.28536643e+00  6.29536643e+00\n",
      "  6.30536643e+00  6.31536643e+00  6.32536643e+00  6.33536643e+00\n",
      "  6.34536643e+00  6.35536643e+00  6.36536643e+00  6.37536643e+00\n",
      "  6.38536643e+00  6.39536643e+00  6.40536643e+00  6.41536643e+00\n",
      "  6.42536643e+00  6.43536643e+00  6.44536643e+00  6.45536643e+00\n",
      "  6.46536643e+00  6.47536643e+00  6.48536643e+00  6.49536643e+00\n",
      "  6.50536643e+00  6.51536643e+00  6.52536643e+00  6.53536643e+00\n",
      "  6.54536643e+00  6.55536643e+00  6.56536643e+00  6.57536643e+00\n",
      "  6.58536643e+00  6.59536643e+00  6.60536643e+00  6.61536643e+00\n",
      "  6.62536643e+00  6.63536643e+00  6.64536643e+00  6.65536643e+00\n",
      "  6.66536643e+00  6.67536643e+00  6.68536643e+00  6.69536643e+00\n",
      "  6.70536643e+00  6.71536643e+00] [-3.52475743 -3.52475743 -3.52475743 -3.52475743 -3.52475743 -3.52475743\n",
      " -3.52475743 -3.52475743 -3.52475743 -3.52475743 -3.52475743 -3.52475743\n",
      " -3.52475743 -3.52475743 -3.52475743 -3.52475743 -3.52475743 -3.52475743\n",
      " -3.52475743 -3.52475743 -3.52475743 -3.52475743 -3.52475743 -3.52475743\n",
      " -3.52475743 -3.52475743 -3.52475743 -3.52475743 -3.52475743 -3.52475743\n",
      " -3.52475743 -3.52475743 -3.52475743 -3.52475743 -3.52475743 -3.52475743\n",
      " -3.52475743 -3.52475743 -3.52475743 -3.52475743 -3.52475743 -3.52475743\n",
      " -3.52475743 -3.52475743 -3.52475743 -3.52475743 -3.52475743 -3.52475743\n",
      " -3.52475743 -3.52475743 -3.52475743 -3.52475743 -3.52475743 -3.52475743\n",
      " -3.52475743 -3.52475743 -3.52475743 -3.52475743 -3.52475743 -3.52475743\n",
      " -3.52475743 -3.52475743 -3.52475743 -3.52475743 -3.52475743 -3.52475743\n",
      " -3.52475743 -3.52475743 -3.52475743 -3.52475743 -3.52475743 -3.52475743\n",
      " -3.52475743 -3.52475743 -3.52475743 -3.52475743 -3.52475743 -3.52475743\n",
      " -3.52475743 -3.52475743 -3.52475743 -3.52475743 -3.52475743 -3.52475743\n",
      " -3.52475743 -3.52475743 -3.52475743 -3.52475743 -3.52475743 -3.52475743\n",
      " -3.52475743 -3.52475743 -3.52475743 -3.52475743 -3.52475743 -3.52475743\n",
      " -3.52475743 -3.52475743 -3.52475743 -3.52475743 -3.52475743 -3.52475743\n",
      " -3.52475743 -3.52475743 -3.52475743 -3.52475743 -3.52475743 -3.52475743\n",
      " -3.52475743 -3.52475743 -3.52475743 -3.52475743 -3.52475743 -3.52475743\n",
      " -3.52475743 -3.52475743 -3.52475743 -3.52475743 -3.52475743 -3.52475743\n",
      " -3.52475743 -3.52475743 -3.52475743 -3.52475743 -3.52475743 -3.52475743\n",
      " -3.52475743 -3.52475743 -3.52475743 -3.52475743 -3.52475743 -3.52475743\n",
      " -3.52475743 -3.52475743 -3.52475743 -3.52475743 -3.52475743 -3.52475743\n",
      " -3.52475743 -3.52475743 -3.52475743 -3.52475743 -3.52475743 -3.52475743\n",
      " -3.52475743 -3.52475743 -3.52475743 -3.52475743 -3.52475743 -3.52475743\n",
      " -3.52475743 -3.52475743 -3.52475743 -3.52475743 -3.52475743 -3.52475743\n",
      " -3.52475743 -3.52475743 -3.52475743 -3.52475743 -3.52475743 -3.52475743\n",
      " -3.52475743 -3.52475743 -3.52475743 -3.52475743 -3.52475743 -3.52475743\n",
      " -3.52475743 -3.52475743 -3.52475743 -3.52475743 -3.52475743 -3.52475743\n",
      " -3.52475743 -3.52475743 -3.52475743 -3.52475743 -3.52475743 -3.52475743\n",
      " -3.52475743 -3.52475743 -3.52475743 -3.52475743 -3.52475743 -3.52475743\n",
      " -3.52475743 -3.52475743 -3.52475743 -3.52475743 -3.52475743 -3.52475743\n",
      " -3.52475743 -3.52475743 -3.52475743 -3.52475743 -3.52475743 -3.52475743\n",
      " -3.52475743 -3.52475743 -3.52475743 -3.52475743 -3.52475743 -3.52475743\n",
      " -3.52475743 -3.52475743 -3.52475743 -3.52475743 -3.52475743 -3.52475743\n",
      " -3.52475743 -3.52475743 -3.52475743 -3.52475743 -3.52475743 -3.52475743\n",
      " -3.52475743 -3.52475743 -3.52475743 -3.52475743 -3.52475743 -3.52475743\n",
      " -3.52475743 -3.52475743 -3.52475743 -3.52475743 -3.52475743 -3.52475743\n",
      " -3.52475743 -3.52475743 -3.52475743 -3.52475743 -3.52475743 -3.52475743\n",
      " -3.52475743 -3.52475743 -3.52475743 -3.52475743 -3.52475743 -3.52475743\n",
      " -3.52475743 -3.52475743 -3.52475743 -3.52475743 -3.52475743 -3.52475743\n",
      " -3.52475743 -3.52475743 -3.52475743 -3.52475743 -3.52475743 -3.52475743\n",
      " -3.52475743 -3.52475743 -3.52475743 -3.52475743 -3.52475743 -3.52475743\n",
      " -3.52475743 -3.52475743 -3.52475743 -3.52475743 -3.52475743 -3.52475743\n",
      " -3.52475743 -3.52475743 -3.52475743 -3.52475743 -3.52475743 -3.52475743\n",
      " -3.52475743 -3.52475743 -3.52475743 -3.52475743 -3.52475743 -3.52475743\n",
      " -3.52475743 -3.52475743 -3.52475743 -3.52475743 -3.52475743 -3.52475743\n",
      " -3.52475743 -3.52475743 -3.52475743 -3.52475743 -3.52475743 -3.52475743\n",
      " -3.52475743 -3.52475743 -3.52475743 -3.52475743 -3.52475743 -3.52475743\n",
      " -3.52475743 -3.52475743 -3.52475743 -3.52475743 -3.52475743 -3.52475743\n",
      " -3.52475743 -3.52475743 -3.52475743 -3.52475743 -3.52475743 -3.52475743\n",
      " -3.52475743 -3.52475743 -3.52475743 -3.52475743 -3.52475743 -3.52475743\n",
      " -3.52475743 -3.52475743 -3.52475743 -3.52475743 -3.52475743 -3.52475743\n",
      " -3.52475743 -3.52475743 -3.52475743 -3.52475743 -3.52475743 -3.52475743\n",
      " -3.52475743 -3.52475743 -3.52475743 -3.52475743 -3.52475743 -3.52475743\n",
      " -3.52475743 -3.52475743 -3.52475743 -3.52475743 -3.52475743 -3.52475743\n",
      " -3.52475743 -3.52475743 -3.52475743 -3.52475743 -3.52475743 -3.52475743\n",
      " -3.52475743 -3.52475743 -3.52475743 -3.52475743 -3.52475743 -3.52475743\n",
      " -3.52475743 -3.52475743 -3.52475743 -3.52475743 -3.52475743 -3.52475743\n",
      " -3.52475743 -3.52475743 -3.52475743 -3.52475743 -3.52475743 -3.52475743\n",
      " -3.52475743 -3.52475743 -3.52475743 -3.52475743 -3.52475743 -3.52475743\n",
      " -3.52475743 -3.52475743 -3.52475743 -3.52475743 -3.52475743 -3.52475743\n",
      " -3.52475743 -3.52475743 -3.52475743 -3.52475743 -3.52475743 -3.52475743\n",
      " -3.52475743 -3.52475743 -3.52475743 -3.52475743 -3.52475743 -3.52475743\n",
      " -3.52475743 -3.52475743 -3.52475743 -3.52475743 -3.52475743 -3.52475743\n",
      " -3.52475743 -3.52475743 -3.52475743 -3.52475743 -3.52475743 -3.52475743\n",
      " -3.52475743 -3.52475743 -3.52475743 -3.52475743 -3.52475743 -3.52475743\n",
      " -3.52475743 -3.52475743 -3.52475743 -3.52475743 -3.52475743 -3.52475743\n",
      " -3.52475743 -3.52475743 -3.52475743 -3.52475743 -3.52475743 -3.52475743\n",
      " -3.52475743 -3.52475743 -3.52475743 -3.52475743 -3.52475743 -3.52475743\n",
      " -3.52475743 -3.52475743 -3.52475743 -3.52475743 -3.52475743 -3.52475743\n",
      " -3.52475743 -3.52475743 -3.52475743 -3.52475743 -3.52475743 -3.52475743\n",
      " -3.52475743 -3.52475743 -3.52475743 -3.52475743 -3.52475743 -3.52475743\n",
      " -3.52475743 -3.52475743 -3.52475743 -3.52475743 -3.52475743 -3.52475743\n",
      " -3.52475743 -3.52475743 -3.52475743 -3.52475743 -3.52475743 -3.52475743\n",
      " -3.52475743 -3.52475743 -3.52475743 -3.52475743 -3.52475743 -3.52475743\n",
      " -3.52475743 -3.52475743 -3.52475743 -3.52475743 -3.52475743 -3.52475743\n",
      " -3.52475743 -3.52475743 -3.52475743 -3.52475743 -3.52475743 -3.52475743\n",
      " -3.52475743 -3.52475743 -3.52475743 -3.52475743 -3.52475743 -3.52475743\n",
      " -3.52475743 -3.52475743 -3.52475743 -3.52475743 -3.52475743 -3.52475743\n",
      " -3.52475743 -3.52475743 -3.52475743 -3.52475743 -3.52475743 -3.52475743\n",
      " -3.52475743 -3.52475743 -3.52475743 -3.52475743 -3.52475743 -3.52475743\n",
      " -3.52475743 -3.52475743 -3.52475743 -3.52475743 -3.52475743 -3.52475743\n",
      " -3.52475743 -3.52475743 -3.52475743 -3.52475743 -3.52475743 -3.52475743\n",
      " -3.52475743 -3.52475743 -3.52475743 -3.52475743 -3.52475743 -3.52475743\n",
      " -3.52475743 -3.52475743 -3.52475743 -3.52475743 -3.52475743 -3.52475743\n",
      " -3.52475743 -3.52475743 -3.52475743 -3.52475743 -3.52475743 -3.52475743\n",
      " -3.52475743 -3.52475743 -3.52475743 -3.52475743 -3.52475743 -3.52475743\n",
      " -3.52475743 -3.52475743 -3.52475743 -3.52475743 -3.52475743 -3.52475743\n",
      " -3.52475743 -3.52475743 -3.52475743 -3.52475743 -3.52475743 -3.52475743\n",
      " -3.52475743 -3.52475743 -3.52475743 -3.52475743 -3.52475743 -3.52475743\n",
      " -3.52475743 -3.52475743 -3.52475743 -3.52475743 -3.52475743 -3.52475743\n",
      " -3.52475743 -3.52475743 -3.52475743 -3.52475743 -3.52475743 -3.52475743\n",
      " -3.52475743 -3.52475743 -3.52475743 -3.52475743 -3.52475743 -3.52475743\n",
      " -3.52475743 -3.52475743 -3.52475743 -3.52475743 -3.52475743 -3.52475743\n",
      " -3.52475743 -3.52475743 -3.52475743 -3.52475743 -3.52475743 -3.52475743\n",
      " -3.52475743 -3.52475743 -3.52475743 -3.52475743 -3.52475743 -3.52475743\n",
      " -3.52475743 -3.52475743 -3.52475743 -3.52475743 -3.52475743 -3.52475743\n",
      " -3.52475743 -3.52475743 -3.52475743 -3.52475743 -3.52475743 -3.52475743\n",
      " -3.52475743 -3.52475743 -3.52475743 -3.52475743 -3.52475743 -3.52475743\n",
      " -3.52475743 -3.52475743 -3.52475743 -3.52475743 -3.52475743 -3.52475743\n",
      " -3.52475743 -3.52475743 -3.52475743 -3.52475743 -3.52475743 -3.52475743\n",
      " -3.52475743 -3.52475743 -3.52475743 -3.52475743 -3.52475743 -3.52475743\n",
      " -3.52475743 -3.52475743 -3.52475743 -3.52475743 -3.52475743 -3.52475743\n",
      " -3.52475743 -3.52475743 -3.52475743 -3.52475743 -3.52475743 -3.52475743\n",
      " -3.52475743 -3.52475743 -3.52475743 -3.52475743 -3.52475743 -3.52475743\n",
      " -3.52475743 -3.52475743 -3.52475743 -3.52475743 -3.52475743 -3.52475743\n",
      " -3.52475743 -3.52475743 -3.52475743 -3.52475743 -3.52475743 -3.52475743\n",
      " -3.52475743 -3.52475743 -3.52475743 -3.52475743 -3.52475743 -3.52475743\n",
      " -3.52475743 -3.52475743 -3.52475743 -3.52475743 -3.52475743 -3.52475743\n",
      " -3.52475743 -3.52475743 -3.52475743 -3.52475743 -3.52475743 -3.52475743\n",
      " -3.52475743 -3.52475743 -3.52475743 -3.52475743 -3.52475743 -3.52475743\n",
      " -3.52475743 -3.52475743 -3.52475743 -3.52475743 -3.52475743 -3.52475743\n",
      " -3.52475743 -3.52475743 -3.52475743 -3.52475743 -3.52475743 -3.52475743\n",
      " -3.52475743 -3.52475743 -3.52475743 -3.52475743 -3.52475743 -3.52475743\n",
      " -3.52475743 -3.52475743 -3.52475743 -3.52475743 -3.52475743 -3.52475743\n",
      " -3.52475743 -3.52475743 -3.52475743 -3.52475743 -3.52475743 -3.52475743\n",
      " -3.52475743 -3.52475743 -3.52475743 -3.52475743 -3.52475743 -3.52475743\n",
      " -3.52475743 -3.52475743 -3.52475743 -3.52475743 -3.52475743 -3.52475743\n",
      " -3.52475743 -3.52475743 -3.52475743 -3.52475743 -3.52475743 -3.52475743\n",
      " -3.52475743 -3.52475743 -3.52475743 -3.52475743 -3.52475743 -3.52475743\n",
      " -3.52475743 -3.52475743 -3.52475743 -3.52475743 -3.52475743 -3.52475743\n",
      " -3.52475743 -3.52475743 -3.52475743 -3.52475743 -3.52475743 -3.52475743\n",
      " -3.52475743 -3.52475743 -3.52475743 -3.52475743 -3.52475743 -3.52475743\n",
      " -3.52475743 -3.52475743 -3.52475743 -3.52475743 -3.52475743 -3.52475743\n",
      " -3.52475743 -3.52475743 -3.52475743 -3.52475743 -3.52475743 -3.52475743\n",
      " -3.52475743 -3.52475743 -3.52475743 -3.52475743 -3.52475743 -3.52475743\n",
      " -3.52475743 -3.52475743 -3.52475743 -3.52475743 -3.52475743 -3.52475743\n",
      " -3.52475743 -3.52475743 -3.52475743 -3.52475743 -3.52475743 -3.52475743\n",
      " -3.52475743 -3.52475743 -3.52475743 -3.52475743 -3.52475743 -3.52475743\n",
      " -3.52475743 -3.52475743 -3.52475743 -3.52475743 -3.52475743 -3.52475743\n",
      " -3.52475743 -3.52475743 -3.52475743 -3.52475743 -3.52475743 -3.52475743\n",
      " -3.52475743 -3.52475743 -3.52475743 -3.52475743 -3.52475743 -3.52475743\n",
      " -3.52475743 -3.52475743 -3.52475743 -3.52475743 -3.52475743 -3.52475743\n",
      " -3.52475743 -3.52475743 -3.52475743 -3.52475743 -3.52475743 -3.52475743\n",
      " -3.52475743 -3.52475743 -3.52475743 -3.52475743 -3.52475743 -3.52475743\n",
      " -3.52475743 -3.52475743 -3.52475743 -3.52475743 -3.52475743 -3.52475743\n",
      " -3.52475743 -3.52475743 -3.52475743 -3.52475743 -3.52475743 -3.52475743\n",
      " -3.52475743 -3.52475743 -3.52475743 -3.52475743 -3.52475743 -3.52475743\n",
      " -3.52475743 -3.52475743 -3.52475743 -3.52475743 -3.52475743 -3.52475743\n",
      " -3.52475743 -3.52475743 -3.52475743 -3.52475743 -3.52475743 -3.52475743\n",
      " -3.52475743 -3.52475743 -3.52475743 -3.52475743 -3.52475743 -3.52475743\n",
      " -3.52475743 -3.52475743 -3.52475743 -3.52475743 -3.52475743 -3.52475743\n",
      " -3.52475743 -3.52475743 -3.52475743 -3.52475743 -3.52475743 -3.52475743\n",
      " -3.52475743 -3.52475743 -3.52475743 -3.52475743 -3.52475743 -3.52475743\n",
      " -3.52475743 -3.52475743 -3.52475743 -3.52475743 -3.52475743 -3.52475743\n",
      " -3.52475743 -3.52475743 -3.52475743 -3.52475743 -3.52475743 -3.52475743\n",
      " -3.52475743 -3.52475743 -3.52475743 -3.52475743 -3.52475743 -3.52475743\n",
      " -3.52475743 -3.52475743 -3.52475743 -3.52475743 -3.52475743 -3.52475743\n",
      " -3.52475743 -3.52475743 -3.52475743 -3.52475743 -3.52475743 -3.52475743\n",
      " -3.52475743 -3.52475743 -3.52475743 -3.52475743 -3.52475743 -3.52475743\n",
      " -3.52475743 -3.52475743 -3.52475743 -3.52475743 -3.52475743 -3.52475743\n",
      " -3.52475743 -3.52475743 -3.52475743 -3.52475743 -3.52475743 -3.52475743\n",
      " -3.52475743 -3.52475743 -3.52475743 -3.52475743 -3.52475743 -3.52475743\n",
      " -3.52475743 -3.52475743 -3.52475743 -3.52475743 -3.52475743 -3.52475743\n",
      " -3.52475743 -3.52475743 -3.52475743 -3.52475743 -3.52475743 -3.52475743\n",
      " -3.52475743 -3.52475743 -3.52475743 -3.52475743 -3.52475743 -3.52475743\n",
      " -3.52475743 -3.52475743 -3.52475743 -3.52475743 -3.52475743 -3.52475743\n",
      " -3.52475743 -3.52475743 -3.52475743 -3.52475743 -3.52475743 -3.52475743\n",
      " -3.52475743 -3.52475743 -3.52475743 -3.52475743 -3.52475743 -3.52475743\n",
      " -3.52475743 -3.52475743 -3.52475743 -3.52475743 -3.52475743 -3.52475743\n",
      " -3.52475743 -3.52475743 -3.52475743 -3.52475743 -3.52475743 -3.52475743\n",
      " -3.52475743 -3.52475743] [0. 0. 0. 0. 0. 0. 0. 0. 0. 0. 0. 0. 0. 0. 0. 0. 0. 0. 0. 0. 0. 0. 0. 0.\n",
      " 0. 0. 0. 0. 0. 0. 0. 0. 0. 0. 0. 0. 0. 0. 0. 0. 0. 0. 0. 0. 0. 0. 0. 0.\n",
      " 0. 0. 0. 0. 0. 0. 0. 0. 0. 0. 0. 0. 0. 0. 0. 0. 0. 0. 0. 0. 0. 0. 0. 0.\n",
      " 0. 0. 0. 0. 0. 0. 0. 0. 0. 0. 0. 0. 0. 0. 0. 0. 0. 0. 0. 0. 0. 0. 0. 0.\n",
      " 0. 0. 0. 0. 0. 0. 0. 0. 0. 0. 0. 0. 0. 0. 0. 0. 0. 0. 0. 0. 0. 0. 0. 0.\n",
      " 0. 0. 0. 0. 0. 0. 0. 0. 0. 0. 0. 0. 0. 0. 0. 0. 0. 0. 0. 0. 0. 0. 0. 0.\n",
      " 0. 0. 0. 0. 0. 0. 0. 0. 0. 0. 0. 0. 0. 0. 0. 0. 0. 0. 0. 0. 0. 0. 0. 0.\n",
      " 0. 0. 0. 0. 0. 0. 0. 0. 0. 0. 0. 0. 0. 0. 0. 0. 0. 0. 0. 0. 0. 0. 0. 0.\n",
      " 0. 0. 0. 0. 0. 0. 0. 0. 0. 0. 0. 0. 0. 0. 0. 0. 0. 0. 0. 0. 0. 0. 0. 0.\n",
      " 0. 0. 0. 0. 0. 0. 0. 0. 0. 0. 0. 0. 0. 0. 0. 0. 0. 0. 0. 0. 0. 0. 0. 0.\n",
      " 0. 0. 0. 0. 0. 0. 0. 0. 0. 0. 0. 0. 0. 0. 0. 0. 0. 0. 0. 0. 0. 0. 0. 0.\n",
      " 0. 0. 0. 0. 0. 0. 0. 0. 0. 0. 0. 0. 0. 0. 0. 0. 0. 0. 0. 0. 0. 0. 0. 0.\n",
      " 0. 0. 0. 0. 0. 0. 0. 0. 0. 0. 0. 0. 0. 0. 0. 0. 0. 0. 0. 0. 0. 0. 0. 0.\n",
      " 0. 0. 0. 0. 0. 0. 0. 0. 0. 0. 0. 0. 0. 0. 0. 0. 0. 0. 0. 0. 0. 0. 0. 0.\n",
      " 0. 0. 0. 0. 0. 0. 0. 0. 0. 0. 0. 0. 0. 0. 0. 0. 0. 0. 0. 0. 0. 0. 0. 0.\n",
      " 0. 0. 0. 0. 0. 0. 0. 0. 0. 0. 0. 0. 0. 0. 0. 0. 0. 0. 0. 0. 0. 0. 0. 0.\n",
      " 0. 0. 0. 0. 0. 0. 0. 0. 0. 0. 0. 0. 0. 0. 0. 0. 0. 0. 0. 0. 0. 0. 0. 0.\n",
      " 0. 0. 0. 0. 0. 0. 0. 0. 0. 0. 0. 0. 0. 0. 0. 0. 0. 0. 0. 0. 0. 0. 0. 0.\n",
      " 0. 0. 0. 0. 0. 0. 0. 0. 0. 0. 0. 0. 0. 0. 0. 0. 0. 0. 0. 0. 0. 0. 0. 0.\n",
      " 0. 0. 0. 0. 0. 0. 0. 0. 0. 0. 0. 0. 0. 0. 0. 0. 0. 0. 0. 0. 0. 0. 0. 0.\n",
      " 0. 0. 0. 0. 0. 0. 0. 0. 0. 0. 0. 0. 0. 0. 0. 0. 0. 0. 0. 0. 0. 0. 0. 0.\n",
      " 0. 0. 0. 0. 0. 0. 0. 0. 0. 0. 0. 0. 0. 0. 0. 0. 0. 0. 0. 0. 0. 0. 0. 0.\n",
      " 0. 0. 0. 0. 0. 0. 0. 0. 0. 0. 0. 0. 0. 0. 0. 0. 0. 0. 0. 0. 0. 0. 0. 0.\n",
      " 0. 0. 0. 0. 0. 0. 0. 0. 0. 0. 0. 0. 0. 0. 0. 0. 0. 0. 0. 0. 0. 0. 0. 0.\n",
      " 0. 0. 0. 0. 0. 0. 0. 0. 0. 0. 0. 0. 0. 0. 0. 0. 0. 0. 0. 0. 0. 0. 0. 0.\n",
      " 0. 0. 0. 0. 0. 0. 0. 0. 0. 0. 0. 0. 0. 0. 0. 0. 0. 0. 0. 0. 0. 0. 0. 0.\n",
      " 0. 0. 0. 0. 0. 0. 0. 0. 0. 0. 0. 0. 0. 0. 0. 0. 0. 0. 0. 0. 0. 0. 0. 0.\n",
      " 0. 0. 0. 0. 0. 0. 0. 0. 0. 0. 0. 0. 0. 0. 0. 0. 0. 0. 0. 0. 0. 0. 0. 0.\n",
      " 0. 0. 0. 0. 0. 0. 0. 0. 0. 0. 0. 0. 0. 0. 0. 0. 0. 0. 0. 0. 0. 0. 0. 0.\n",
      " 0. 0. 0. 0. 0. 0. 0. 0. 0. 0. 0. 0. 0. 0. 0. 0. 0. 0. 0. 0. 0. 0. 0. 0.\n",
      " 0. 0. 0. 0. 0. 0. 0. 0. 0. 0. 0. 0. 0. 0. 0. 0. 0. 0. 0. 0. 0. 0. 0. 0.\n",
      " 0. 0. 0. 0. 0. 0. 0. 0. 0. 0. 0. 0. 0. 0. 0. 0. 0. 0. 0. 0. 0. 0. 0. 1.\n",
      " 1. 1. 1. 1. 1. 1. 1. 1. 1. 1. 1. 1. 1. 1. 1. 1. 1. 1. 1. 1. 1. 1. 1. 1.\n",
      " 1. 1. 1. 1. 1. 1. 1. 1. 1. 1. 1. 1. 1. 1. 1. 1. 1. 1. 1. 1. 1. 1. 1. 1.\n",
      " 1. 1. 1. 1. 1. 1. 1. 1. 1. 1. 1. 1. 1. 1. 1. 1. 1. 1. 1. 1. 1. 1. 1. 1.\n",
      " 1. 1. 1. 1. 1. 1. 1. 1. 1. 1. 1. 1. 1. 1. 1. 1. 1. 1. 1. 1. 1. 1. 1. 1.\n",
      " 1. 1. 1. 1. 1. 1. 1. 1. 1. 1. 1. 1. 1. 1. 1. 1. 1. 1. 1. 1. 1. 1. 1. 1.\n",
      " 1. 1. 1. 1. 1. 1. 1. 1. 1. 1. 1. 1. 1. 1. 1. 1. 1. 1. 1. 1. 1. 1. 1. 1.\n",
      " 1. 1. 1. 1. 1. 1. 1. 1. 1. 1. 1. 1. 1. 1. 1. 1. 1. 1. 1. 1. 1. 1. 1. 1.\n",
      " 1. 1. 1. 1. 1. 1. 1. 1. 1. 1. 1. 1. 1. 1. 1. 1. 1. 1. 1. 1. 1. 1. 1. 1.\n",
      " 1. 1. 1. 1. 1. 1. 1. 1. 1. 1. 1. 1. 1. 1.]\n"
     ]
    }
   ],
   "source": [
    "for x,y, pred in zip(xs, ys, y_pred_matrix):\n",
    "    print(x, y, pred)\n",
    "    \n",
    "    break"
   ]
  },
  {
   "cell_type": "code",
   "execution_count": 27,
   "metadata": {},
   "outputs": [
    {
     "data": {
      "image/png": "[encoded data removed]",
      "text/plain": [
       "<Figure size 640x480 with 1 Axes>"
      ]
     },
     "metadata": {},
     "output_type": "display_data"
    }
   ],
   "source": [
    "fig, ax = plt.subplots()\n",
    "ax.pcolormesh(xs, ys, y_pred_matrix)\n",
    "ax.scatter(train_data[:,0], train_data[:,1], c=train_labels, edgecolors = 'k')\n",
    "plt.show()"
   ]
  },
  {
   "cell_type": "markdown",
   "metadata": {},
   "source": [
    "Zwróćmy uwagę na fakt, że jest tutaj linia prosta."
   ]
  }
 ],
 "metadata": {
  "colab": {
   "name": "LogisticRegression.ipynb",
   "provenance": []
  },
  "kernelspec": {
   "display_name": "Python 3 (ipykernel)",
   "language": "python",
   "name": "python3"
  },
  "language_info": {
   "codemirror_mode": {
    "name": "ipython",
    "version": 3
   },
   "file_extension": ".py",
   "mimetype": "text/x-python",
   "name": "python",
   "nbconvert_exporter": "python",
   "pygments_lexer": "ipython3",
   "version": "3.11.2"
  }
 },
 "nbformat": 4,
 "nbformat_minor": 1
}
