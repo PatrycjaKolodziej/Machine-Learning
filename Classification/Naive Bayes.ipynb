{
 "cells": [
  {
   "cell_type": "markdown",
   "metadata": {
    "id": "ysgEodnjIUEq"
   },
   "source": [
    "# Naiwny klasyfikator bayesowski"
   ]
  },
  {
   "cell_type": "markdown",
   "metadata": {
    "id": "o0x5-cu67vxA"
   },
   "source": [
    "ZADANIE:\n",
    "\n",
    "Wyobraźmy sobie test na chorobę X. Testy wykrywa prawdidłowo 90% chorych, ale jeśli testowi poddaje się osoba zdrowa myli się w 30% przypadków. Choroba X dotyka średnio 10% populacji. \n",
    "\n",
    "Jakie jest prawdodpodobieństwo, że osoba, która poddała się testowi i otrzymała wynik pozytywny (chora), jest zdrowa?"
   ]
  },
  {
   "cell_type": "markdown",
   "metadata": {
    "id": "6oa66Me_7vxE"
   },
   "source": [
    "P(A|B) = (P(B|A) * P(A)) / P(B)"
   ]
  },
  {
   "cell_type": "markdown",
   "metadata": {
    "id": "IT1enCodDcVq"
   },
   "source": [
    "P(A|B) - prawdopodobieństwo zdarzenia A (zdrowa) przy zdarzeniu B (pozytywny wynikak testu) <br>\n",
    "P(B|A) - prawdopodobieństwo, że test dał pozytywny wynik jeśli osoba jest zdrowa = 0.3 <br>\n",
    "P(A) - prawdopodobieństwo, że osoba jest zdrowa = 0.9<br>\n",
    "\n",
    "P(B) - prawdopobieństwo, że test dał pozytywny wynik."
   ]
  },
  {
   "cell_type": "markdown",
   "metadata": {
    "id": "z9kK2sXcDmry"
   },
   "source": [
    "P(B) <br>\n",
    "\n",
    "10 osób na 100 jest chorych. Spośród chorych, 9 osób otrzyma pozytwyny wynik testu. <br>\n",
    "90 osób jest zdrowych. Spośród zdrowych, 27 osób otrzyma pozytywny wynik testu. <br>\n",
    "\n",
    "36 osób otrzyma pozytywny wynik testu (będzie zaklasyfikowane jako chore)"
   ]
  },
  {
   "cell_type": "code",
   "execution_count": 1,
   "metadata": {
    "colab": {
     "base_uri": "https://localhost:8080/"
    },
    "executionInfo": {
     "elapsed": 684,
     "status": "ok",
     "timestamp": 1684584704620,
     "user": {
      "displayName": "Kacper Jędrczak",
      "userId": "09838397980048830351"
     },
     "user_tz": -120
    },
    "id": "SQ27dthz7vxH",
    "outputId": "1d723d75-31ee-49c5-9bde-867bde13eecc"
   },
   "outputs": [
    {
     "data": {
      "text/plain": [
       "0.7500000000000001"
      ]
     },
     "execution_count": 1,
     "metadata": {},
     "output_type": "execute_result"
    }
   ],
   "source": [
    "0.3*0.9/0.36"
   ]
  },
  {
   "cell_type": "markdown",
   "metadata": {},
   "source": [
    "### Zdefiniowane wcześniej funkcje:"
   ]
  },
  {
   "cell_type": "code",
   "execution_count": 2,
   "metadata": {},
   "outputs": [],
   "source": [
    "from sklearn.metrics import accuracy_score, precision_score, recall_score, f1_score\n",
    "\n",
    "# average:\n",
    "#   None - wyniki dla każdej klasy osobno\n",
    "#   'binary' - dla wybranej w `pos_label` etykiety\n",
    "#   'micro' - dla całkowitej liczby TP, FN, FP\n",
    "#   'macro' - nieważona średnia dla każdej klasy\n",
    "#   'weighted' - ważona średnia dla każdej klasy\n",
    "\n",
    "def calculate_metrics(target, prediction, average='macro'):\n",
    "    accuracy = accuracy_score(target, prediction)\n",
    "    precision = precision_score(target, prediction, average=average)\n",
    "    recall = recall_score(target, prediction, average=average)\n",
    "    f1 = f1_score(target, prediction, average=average)\n",
    "    mislabeled = (target != prediction).sum()\n",
    "    total = len(target)\n",
    "    return accuracy, precision, recall, f1, mislabeled, total\n",
    "\n",
    "def print_results(metrics, classifier_id='classifier'):\n",
    "    print(f'Results for {classifier_id}')\n",
    "    print('----')\n",
    "    print(f'  Accuracy:  {metrics[0]}')\n",
    "    print(f'  Precision: {metrics[1]}')\n",
    "    print(f'  Recall:    {metrics[2]}')\n",
    "    print(f'  F1 score:  {metrics[3]}')\n",
    "    print(f'  Mislabeled {metrics[4]} out of {metrics[5]}')\n",
    "    print('\\n')"
   ]
  },
  {
   "cell_type": "markdown",
   "metadata": {
    "id": "RK2HPAXZ7vxI"
   },
   "source": [
    "## Budowa modelu na danych rzeczywistych"
   ]
  },
  {
   "cell_type": "markdown",
   "metadata": {
    "id": "fiL0vQ9YIUEs"
   },
   "source": [
    "Po pierwsze, musimy zaimportować dane. Pobierzmy sobie zatem zbiory z githuba."
   ]
  },
  {
   "cell_type": "code",
   "execution_count": 3,
   "metadata": {
    "colab": {
     "base_uri": "https://localhost:8080/"
    },
    "executionInfo": {
     "elapsed": 3380,
     "status": "ok",
     "timestamp": 1618050233866,
     "user": {
      "displayName": "Oskar Duda",
      "photoUrl": "",
      "userId": "06088257986685215787"
     },
     "user_tz": -120
    },
    "id": "XDnOSb0JIUEs",
    "outputId": "e35235c9-5cb4-489e-f0ad-1069585eecb1"
   },
   "outputs": [
    {
     "name": "stderr",
     "output_type": "stream",
     "text": [
      "fatal: destination path 'ML-datasets' already exists and is not an empty directory.\n"
     ]
    }
   ],
   "source": [
    "!git clone https://github.com/matzim95/ML-datasets\n"
   ]
  },
  {
   "cell_type": "code",
   "execution_count": 4,
   "metadata": {
    "id": "9Nz2FK5xIUEs"
   },
   "outputs": [],
   "source": [
    "import pandas as pd\n",
    "import numpy as np\n",
    "import matplotlib.pyplot as plt\n",
    "\n",
    "def load_dataset(filename, class_column, index_col=None):\n",
    "    dataset = pd.read_csv(f'ML-datasets/{filename}.csv', index_col=index_col)\n",
    "    dataset['class'] = dataset[class_column].astype('category').cat.codes\n",
    "    classes = dataset.pop(class_column).unique()\n",
    "    return dataset, classes"
   ]
  },
  {
   "cell_type": "markdown",
   "metadata": {
    "id": "6HVZHIEn7vxP"
   },
   "source": [
    "### Wczytanie zbioru"
   ]
  },
  {
   "cell_type": "markdown",
   "metadata": {
    "id": "fr-qNxX57vxP"
   },
   "source": [
    "Glass"
   ]
  },
  {
   "cell_type": "code",
   "execution_count": 5,
   "metadata": {
    "id": "gpHJ-Qfs7vxQ"
   },
   "outputs": [],
   "source": [
    "glass, glass_classes = load_dataset('glass', 'Type', 'ID')"
   ]
  },
  {
   "cell_type": "code",
   "execution_count": 6,
   "metadata": {
    "colab": {
     "base_uri": "https://localhost:8080/",
     "height": 273
    },
    "executionInfo": {
     "elapsed": 9,
     "status": "ok",
     "timestamp": 1684587635998,
     "user": {
      "displayName": "Kacper Jędrczak",
      "userId": "09838397980048830351"
     },
     "user_tz": -120
    },
    "id": "NzTT5_rz7vxQ",
    "outputId": "d56a4913-2c59-47cf-e62c-04bcfe4503bf"
   },
   "outputs": [
    {
     "name": "stdout",
     "output_type": "stream",
     "text": [
      "['building_windows_float_processed' 'building_windows_non_float_processed'\n",
      " 'vehicle_windows_float_processed' 'containers' 'tableware' 'headlamps']\n"
     ]
    },
    {
     "data": {
      "text/html": [
       "<div>\n",
       "<style scoped>\n",
       "    .dataframe tbody tr th:only-of-type {\n",
       "        vertical-align: middle;\n",
       "    }\n",
       "\n",
       "    .dataframe tbody tr th {\n",
       "        vertical-align: top;\n",
       "    }\n",
       "\n",
       "    .dataframe thead th {\n",
       "        text-align: right;\n",
       "    }\n",
       "</style>\n",
       "<table border=\"1\" class=\"dataframe\">\n",
       "  <thead>\n",
       "    <tr style=\"text-align: right;\">\n",
       "      <th></th>\n",
       "      <th>refractive index</th>\n",
       "      <th>Sodium</th>\n",
       "      <th>Magnesium</th>\n",
       "      <th>Aluminum</th>\n",
       "      <th>Silicon</th>\n",
       "      <th>Potassium</th>\n",
       "      <th>Calcium</th>\n",
       "      <th>Barium</th>\n",
       "      <th>Iron</th>\n",
       "      <th>class</th>\n",
       "    </tr>\n",
       "    <tr>\n",
       "      <th>ID</th>\n",
       "      <th></th>\n",
       "      <th></th>\n",
       "      <th></th>\n",
       "      <th></th>\n",
       "      <th></th>\n",
       "      <th></th>\n",
       "      <th></th>\n",
       "      <th></th>\n",
       "      <th></th>\n",
       "      <th></th>\n",
       "    </tr>\n",
       "  </thead>\n",
       "  <tbody>\n",
       "    <tr>\n",
       "      <th>1</th>\n",
       "      <td>1.52101</td>\n",
       "      <td>13.64</td>\n",
       "      <td>4.49</td>\n",
       "      <td>1.10</td>\n",
       "      <td>71.78</td>\n",
       "      <td>0.06</td>\n",
       "      <td>8.75</td>\n",
       "      <td>0.0</td>\n",
       "      <td>0.0</td>\n",
       "      <td>0</td>\n",
       "    </tr>\n",
       "    <tr>\n",
       "      <th>2</th>\n",
       "      <td>1.51761</td>\n",
       "      <td>13.89</td>\n",
       "      <td>3.60</td>\n",
       "      <td>1.36</td>\n",
       "      <td>72.73</td>\n",
       "      <td>0.48</td>\n",
       "      <td>7.83</td>\n",
       "      <td>0.0</td>\n",
       "      <td>0.0</td>\n",
       "      <td>0</td>\n",
       "    </tr>\n",
       "    <tr>\n",
       "      <th>3</th>\n",
       "      <td>1.51618</td>\n",
       "      <td>13.53</td>\n",
       "      <td>3.55</td>\n",
       "      <td>1.54</td>\n",
       "      <td>72.99</td>\n",
       "      <td>0.39</td>\n",
       "      <td>7.78</td>\n",
       "      <td>0.0</td>\n",
       "      <td>0.0</td>\n",
       "      <td>0</td>\n",
       "    </tr>\n",
       "    <tr>\n",
       "      <th>4</th>\n",
       "      <td>1.51766</td>\n",
       "      <td>13.21</td>\n",
       "      <td>3.69</td>\n",
       "      <td>1.29</td>\n",
       "      <td>72.61</td>\n",
       "      <td>0.57</td>\n",
       "      <td>8.22</td>\n",
       "      <td>0.0</td>\n",
       "      <td>0.0</td>\n",
       "      <td>0</td>\n",
       "    </tr>\n",
       "    <tr>\n",
       "      <th>5</th>\n",
       "      <td>1.51742</td>\n",
       "      <td>13.27</td>\n",
       "      <td>3.62</td>\n",
       "      <td>1.24</td>\n",
       "      <td>73.08</td>\n",
       "      <td>0.55</td>\n",
       "      <td>8.07</td>\n",
       "      <td>0.0</td>\n",
       "      <td>0.0</td>\n",
       "      <td>0</td>\n",
       "    </tr>\n",
       "  </tbody>\n",
       "</table>\n",
       "</div>"
      ],
      "text/plain": [
       "    refractive index  Sodium  Magnesium  Aluminum  Silicon  Potassium  \\\n",
       "ID                                                                      \n",
       "1            1.52101   13.64       4.49      1.10    71.78       0.06   \n",
       "2            1.51761   13.89       3.60      1.36    72.73       0.48   \n",
       "3            1.51618   13.53       3.55      1.54    72.99       0.39   \n",
       "4            1.51766   13.21       3.69      1.29    72.61       0.57   \n",
       "5            1.51742   13.27       3.62      1.24    73.08       0.55   \n",
       "\n",
       "    Calcium  Barium  Iron  class  \n",
       "ID                                \n",
       "1      8.75     0.0   0.0      0  \n",
       "2      7.83     0.0   0.0      0  \n",
       "3      7.78     0.0   0.0      0  \n",
       "4      8.22     0.0   0.0      0  \n",
       "5      8.07     0.0   0.0      0  "
      ]
     },
     "execution_count": 6,
     "metadata": {},
     "output_type": "execute_result"
    }
   ],
   "source": [
    "print(glass_classes)\n",
    "\n",
    "glass.head()"
   ]
  },
  {
   "cell_type": "markdown",
   "metadata": {
    "id": "0Ci0D91mIUEt"
   },
   "source": [
    "### Skalowanie / standaryzacja"
   ]
  },
  {
   "cell_type": "markdown",
   "metadata": {},
   "source": [
    "Skalowanie i standaryzacja to techniki stosowane w przetwarzaniu danych, szczególnie w kontekście uczenia maszynowego i analizy danych. Te techniki pomagają dostosować dane do modelu, poprawiając jego wydajność i dokładność.\n",
    "\n",
    "Skalowanie to proces przekształcenia wartości zmiennych tak, aby mieściły się w określonym zakresie. Na przykład, technika min-max scaling przekształca dane tak, że wszystkie wartości są zawarte między 0 a 1. Skalowanie jest przydatne, gdy pracujemy z danymi, które mają bardzo różne zakresy wartości. Bez skalowania, zmienne o większych wartościach mogą dominować w modelu, mimo że niekoniecznie są one ważniejsze.\n",
    "\n",
    "Standaryzacja to proces przekształcania danych do formy, w której mają one średnią równą zero i odchylenie standardowe równą jeden. Po standaryzacji, rozkład danych ma kształt tzw. rozkładu normalnego standardowego. Standaryzacja jest często używana, gdy dane mają różne jednostki, co mogłoby wpływać na wynik modelu.\n",
    "\n",
    "Obie techniki są często stosowane w uczeniu maszynowym, aby poprawić dokładność modeli, szczególnie tych, które są wrażliwe na skalowanie danych, takich jak maszyny wektorów nośnych (SVM) czy algorytmy oparte na odległościach, jak k-nearest neighbors (k-NN), ale mogą też ułatwiać pracę takich modeli jak regresja czy klasyfikator naiwny Bayesa."
   ]
  },
  {
   "cell_type": "code",
   "execution_count": 7,
   "metadata": {
    "id": "HnzfS68M7vxS"
   },
   "outputs": [],
   "source": [
    "from sklearn.preprocessing import MinMaxScaler, StandardScaler\n",
    "standarizer = StandardScaler()\n",
    "minmax = MinMaxScaler()"
   ]
  },
  {
   "cell_type": "markdown",
   "metadata": {},
   "source": [
    "Wyświetlmy sobie najpierw metryki wyliczone na zbiorze oryginalnym:"
   ]
  },
  {
   "cell_type": "code",
   "execution_count": 8,
   "metadata": {
    "colab": {
     "base_uri": "https://localhost:8080/",
     "height": 300
    },
    "executionInfo": {
     "elapsed": 352,
     "status": "ok",
     "timestamp": 1684587660634,
     "user": {
      "displayName": "Kacper Jędrczak",
      "userId": "09838397980048830351"
     },
     "user_tz": -120
    },
    "id": "SxxbQvnw7vxS",
    "outputId": "1634cf3a-cdbf-4546-f000-6ab02e2d526e"
   },
   "outputs": [
    {
     "data": {
      "text/html": [
       "<div>\n",
       "<style scoped>\n",
       "    .dataframe tbody tr th:only-of-type {\n",
       "        vertical-align: middle;\n",
       "    }\n",
       "\n",
       "    .dataframe tbody tr th {\n",
       "        vertical-align: top;\n",
       "    }\n",
       "\n",
       "    .dataframe thead th {\n",
       "        text-align: right;\n",
       "    }\n",
       "</style>\n",
       "<table border=\"1\" class=\"dataframe\">\n",
       "  <thead>\n",
       "    <tr style=\"text-align: right;\">\n",
       "      <th></th>\n",
       "      <th>refractive index</th>\n",
       "      <th>Sodium</th>\n",
       "      <th>Magnesium</th>\n",
       "      <th>Aluminum</th>\n",
       "      <th>Silicon</th>\n",
       "      <th>Potassium</th>\n",
       "      <th>Calcium</th>\n",
       "      <th>Barium</th>\n",
       "      <th>Iron</th>\n",
       "    </tr>\n",
       "  </thead>\n",
       "  <tbody>\n",
       "    <tr>\n",
       "      <th>count</th>\n",
       "      <td>214.000000</td>\n",
       "      <td>214.000000</td>\n",
       "      <td>214.000000</td>\n",
       "      <td>214.000000</td>\n",
       "      <td>214.000000</td>\n",
       "      <td>214.000000</td>\n",
       "      <td>214.000000</td>\n",
       "      <td>214.000000</td>\n",
       "      <td>214.000000</td>\n",
       "    </tr>\n",
       "    <tr>\n",
       "      <th>mean</th>\n",
       "      <td>1.518365</td>\n",
       "      <td>13.407850</td>\n",
       "      <td>2.684533</td>\n",
       "      <td>1.444907</td>\n",
       "      <td>72.650935</td>\n",
       "      <td>0.497056</td>\n",
       "      <td>8.956963</td>\n",
       "      <td>0.175047</td>\n",
       "      <td>0.057009</td>\n",
       "    </tr>\n",
       "    <tr>\n",
       "      <th>std</th>\n",
       "      <td>0.003037</td>\n",
       "      <td>0.816604</td>\n",
       "      <td>1.442408</td>\n",
       "      <td>0.499270</td>\n",
       "      <td>0.774546</td>\n",
       "      <td>0.652192</td>\n",
       "      <td>1.423153</td>\n",
       "      <td>0.497219</td>\n",
       "      <td>0.097439</td>\n",
       "    </tr>\n",
       "    <tr>\n",
       "      <th>min</th>\n",
       "      <td>1.511150</td>\n",
       "      <td>10.730000</td>\n",
       "      <td>0.000000</td>\n",
       "      <td>0.290000</td>\n",
       "      <td>69.810000</td>\n",
       "      <td>0.000000</td>\n",
       "      <td>5.430000</td>\n",
       "      <td>0.000000</td>\n",
       "      <td>0.000000</td>\n",
       "    </tr>\n",
       "    <tr>\n",
       "      <th>25%</th>\n",
       "      <td>1.516522</td>\n",
       "      <td>12.907500</td>\n",
       "      <td>2.115000</td>\n",
       "      <td>1.190000</td>\n",
       "      <td>72.280000</td>\n",
       "      <td>0.122500</td>\n",
       "      <td>8.240000</td>\n",
       "      <td>0.000000</td>\n",
       "      <td>0.000000</td>\n",
       "    </tr>\n",
       "    <tr>\n",
       "      <th>50%</th>\n",
       "      <td>1.517680</td>\n",
       "      <td>13.300000</td>\n",
       "      <td>3.480000</td>\n",
       "      <td>1.360000</td>\n",
       "      <td>72.790000</td>\n",
       "      <td>0.555000</td>\n",
       "      <td>8.600000</td>\n",
       "      <td>0.000000</td>\n",
       "      <td>0.000000</td>\n",
       "    </tr>\n",
       "    <tr>\n",
       "      <th>75%</th>\n",
       "      <td>1.519157</td>\n",
       "      <td>13.825000</td>\n",
       "      <td>3.600000</td>\n",
       "      <td>1.630000</td>\n",
       "      <td>73.087500</td>\n",
       "      <td>0.610000</td>\n",
       "      <td>9.172500</td>\n",
       "      <td>0.000000</td>\n",
       "      <td>0.100000</td>\n",
       "    </tr>\n",
       "    <tr>\n",
       "      <th>max</th>\n",
       "      <td>1.533930</td>\n",
       "      <td>17.380000</td>\n",
       "      <td>4.490000</td>\n",
       "      <td>3.500000</td>\n",
       "      <td>75.410000</td>\n",
       "      <td>6.210000</td>\n",
       "      <td>16.190000</td>\n",
       "      <td>3.150000</td>\n",
       "      <td>0.510000</td>\n",
       "    </tr>\n",
       "  </tbody>\n",
       "</table>\n",
       "</div>"
      ],
      "text/plain": [
       "       refractive index      Sodium   Magnesium    Aluminum     Silicon  \\\n",
       "count        214.000000  214.000000  214.000000  214.000000  214.000000   \n",
       "mean           1.518365   13.407850    2.684533    1.444907   72.650935   \n",
       "std            0.003037    0.816604    1.442408    0.499270    0.774546   \n",
       "min            1.511150   10.730000    0.000000    0.290000   69.810000   \n",
       "25%            1.516522   12.907500    2.115000    1.190000   72.280000   \n",
       "50%            1.517680   13.300000    3.480000    1.360000   72.790000   \n",
       "75%            1.519157   13.825000    3.600000    1.630000   73.087500   \n",
       "max            1.533930   17.380000    4.490000    3.500000   75.410000   \n",
       "\n",
       "        Potassium     Calcium      Barium        Iron  \n",
       "count  214.000000  214.000000  214.000000  214.000000  \n",
       "mean     0.497056    8.956963    0.175047    0.057009  \n",
       "std      0.652192    1.423153    0.497219    0.097439  \n",
       "min      0.000000    5.430000    0.000000    0.000000  \n",
       "25%      0.122500    8.240000    0.000000    0.000000  \n",
       "50%      0.555000    8.600000    0.000000    0.000000  \n",
       "75%      0.610000    9.172500    0.000000    0.100000  \n",
       "max      6.210000   16.190000    3.150000    0.510000  "
      ]
     },
     "execution_count": 8,
     "metadata": {},
     "output_type": "execute_result"
    }
   ],
   "source": [
    "y = glass.pop('class')\n",
    "X = glass\n",
    "\n",
    "glass.describe()"
   ]
  },
  {
   "cell_type": "markdown",
   "metadata": {},
   "source": [
    "A następnie dokonajmy skalowania MinMaxScalerem(). Jak widzimy poniżej, faktycznie sprowadził nam wartości każdej z kolumn do przedziału 0-1."
   ]
  },
  {
   "cell_type": "code",
   "execution_count": 9,
   "metadata": {
    "id": "NS94QuLn7vxS"
   },
   "outputs": [],
   "source": [
    "X_minmax = X.copy()\n",
    "\n",
    "minmax.fit(X)\n",
    "X_matrix = minmax.transform(X)\n",
    "\n",
    "X_minmax[:] = X_matrix"
   ]
  },
  {
   "cell_type": "code",
   "execution_count": 10,
   "metadata": {
    "colab": {
     "base_uri": "https://localhost:8080/",
     "height": 300
    },
    "executionInfo": {
     "elapsed": 8,
     "status": "ok",
     "timestamp": 1684587665586,
     "user": {
      "displayName": "Kacper Jędrczak",
      "userId": "09838397980048830351"
     },
     "user_tz": -120
    },
    "id": "0g8104gbHH8l",
    "outputId": "d21cba39-7c82-4ace-b176-bac93fc2ea67"
   },
   "outputs": [
    {
     "data": {
      "text/html": [
       "<div>\n",
       "<style scoped>\n",
       "    .dataframe tbody tr th:only-of-type {\n",
       "        vertical-align: middle;\n",
       "    }\n",
       "\n",
       "    .dataframe tbody tr th {\n",
       "        vertical-align: top;\n",
       "    }\n",
       "\n",
       "    .dataframe thead th {\n",
       "        text-align: right;\n",
       "    }\n",
       "</style>\n",
       "<table border=\"1\" class=\"dataframe\">\n",
       "  <thead>\n",
       "    <tr style=\"text-align: right;\">\n",
       "      <th></th>\n",
       "      <th>refractive index</th>\n",
       "      <th>Sodium</th>\n",
       "      <th>Magnesium</th>\n",
       "      <th>Aluminum</th>\n",
       "      <th>Silicon</th>\n",
       "      <th>Potassium</th>\n",
       "      <th>Calcium</th>\n",
       "      <th>Barium</th>\n",
       "      <th>Iron</th>\n",
       "    </tr>\n",
       "  </thead>\n",
       "  <tbody>\n",
       "    <tr>\n",
       "      <th>count</th>\n",
       "      <td>214.000000</td>\n",
       "      <td>214.000000</td>\n",
       "      <td>214.000000</td>\n",
       "      <td>214.000000</td>\n",
       "      <td>214.000000</td>\n",
       "      <td>214.000000</td>\n",
       "      <td>214.000000</td>\n",
       "      <td>214.000000</td>\n",
       "      <td>214.000000</td>\n",
       "    </tr>\n",
       "    <tr>\n",
       "      <th>mean</th>\n",
       "      <td>0.316744</td>\n",
       "      <td>0.402684</td>\n",
       "      <td>0.597891</td>\n",
       "      <td>0.359784</td>\n",
       "      <td>0.507310</td>\n",
       "      <td>0.080041</td>\n",
       "      <td>0.327785</td>\n",
       "      <td>0.055570</td>\n",
       "      <td>0.111783</td>\n",
       "    </tr>\n",
       "    <tr>\n",
       "      <th>std</th>\n",
       "      <td>0.133313</td>\n",
       "      <td>0.122798</td>\n",
       "      <td>0.321249</td>\n",
       "      <td>0.155536</td>\n",
       "      <td>0.138312</td>\n",
       "      <td>0.105023</td>\n",
       "      <td>0.132263</td>\n",
       "      <td>0.157847</td>\n",
       "      <td>0.191056</td>\n",
       "    </tr>\n",
       "    <tr>\n",
       "      <th>min</th>\n",
       "      <td>0.000000</td>\n",
       "      <td>0.000000</td>\n",
       "      <td>0.000000</td>\n",
       "      <td>0.000000</td>\n",
       "      <td>0.000000</td>\n",
       "      <td>0.000000</td>\n",
       "      <td>0.000000</td>\n",
       "      <td>0.000000</td>\n",
       "      <td>0.000000</td>\n",
       "    </tr>\n",
       "    <tr>\n",
       "      <th>25%</th>\n",
       "      <td>0.235843</td>\n",
       "      <td>0.327444</td>\n",
       "      <td>0.471047</td>\n",
       "      <td>0.280374</td>\n",
       "      <td>0.441071</td>\n",
       "      <td>0.019726</td>\n",
       "      <td>0.261152</td>\n",
       "      <td>0.000000</td>\n",
       "      <td>0.000000</td>\n",
       "    </tr>\n",
       "    <tr>\n",
       "      <th>50%</th>\n",
       "      <td>0.286655</td>\n",
       "      <td>0.386466</td>\n",
       "      <td>0.775056</td>\n",
       "      <td>0.333333</td>\n",
       "      <td>0.532143</td>\n",
       "      <td>0.089372</td>\n",
       "      <td>0.294610</td>\n",
       "      <td>0.000000</td>\n",
       "      <td>0.000000</td>\n",
       "    </tr>\n",
       "    <tr>\n",
       "      <th>75%</th>\n",
       "      <td>0.351514</td>\n",
       "      <td>0.465414</td>\n",
       "      <td>0.801782</td>\n",
       "      <td>0.417445</td>\n",
       "      <td>0.585268</td>\n",
       "      <td>0.098229</td>\n",
       "      <td>0.347816</td>\n",
       "      <td>0.000000</td>\n",
       "      <td>0.196078</td>\n",
       "    </tr>\n",
       "    <tr>\n",
       "      <th>max</th>\n",
       "      <td>1.000000</td>\n",
       "      <td>1.000000</td>\n",
       "      <td>1.000000</td>\n",
       "      <td>1.000000</td>\n",
       "      <td>1.000000</td>\n",
       "      <td>1.000000</td>\n",
       "      <td>1.000000</td>\n",
       "      <td>1.000000</td>\n",
       "      <td>1.000000</td>\n",
       "    </tr>\n",
       "  </tbody>\n",
       "</table>\n",
       "</div>"
      ],
      "text/plain": [
       "       refractive index      Sodium   Magnesium    Aluminum     Silicon  \\\n",
       "count        214.000000  214.000000  214.000000  214.000000  214.000000   \n",
       "mean           0.316744    0.402684    0.597891    0.359784    0.507310   \n",
       "std            0.133313    0.122798    0.321249    0.155536    0.138312   \n",
       "min            0.000000    0.000000    0.000000    0.000000    0.000000   \n",
       "25%            0.235843    0.327444    0.471047    0.280374    0.441071   \n",
       "50%            0.286655    0.386466    0.775056    0.333333    0.532143   \n",
       "75%            0.351514    0.465414    0.801782    0.417445    0.585268   \n",
       "max            1.000000    1.000000    1.000000    1.000000    1.000000   \n",
       "\n",
       "        Potassium     Calcium      Barium        Iron  \n",
       "count  214.000000  214.000000  214.000000  214.000000  \n",
       "mean     0.080041    0.327785    0.055570    0.111783  \n",
       "std      0.105023    0.132263    0.157847    0.191056  \n",
       "min      0.000000    0.000000    0.000000    0.000000  \n",
       "25%      0.019726    0.261152    0.000000    0.000000  \n",
       "50%      0.089372    0.294610    0.000000    0.000000  \n",
       "75%      0.098229    0.347816    0.000000    0.196078  \n",
       "max      1.000000    1.000000    1.000000    1.000000  "
      ]
     },
     "execution_count": 10,
     "metadata": {},
     "output_type": "execute_result"
    }
   ],
   "source": [
    "X_minmax.describe()"
   ]
  },
  {
   "cell_type": "markdown",
   "metadata": {},
   "source": [
    "Standaryzacja zaś, spowodowała, że każda z kolumn, ma średnią wartość 0."
   ]
  },
  {
   "cell_type": "code",
   "execution_count": 11,
   "metadata": {
    "id": "eyvoD5KRHIfQ"
   },
   "outputs": [],
   "source": [
    "X_standarize = X.copy()\n",
    "standarizer = StandardScaler()\n",
    "\n",
    "standarizer.fit(X_standarize)\n",
    "X_matrix = standarizer.transform(X_standarize)\n",
    "\n",
    "X_standarize[:] = X_matrix"
   ]
  },
  {
   "cell_type": "code",
   "execution_count": 12,
   "metadata": {
    "colab": {
     "base_uri": "https://localhost:8080/",
     "height": 300
    },
    "executionInfo": {
     "elapsed": 8,
     "status": "ok",
     "timestamp": 1684587706922,
     "user": {
      "displayName": "Kacper Jędrczak",
      "userId": "09838397980048830351"
     },
     "user_tz": -120
    },
    "id": "FrY6hOqvIzZH",
    "outputId": "ba09b3e5-3003-49c4-c876-dc1612c30050"
   },
   "outputs": [
    {
     "data": {
      "text/html": [
       "<div>\n",
       "<style scoped>\n",
       "    .dataframe tbody tr th:only-of-type {\n",
       "        vertical-align: middle;\n",
       "    }\n",
       "\n",
       "    .dataframe tbody tr th {\n",
       "        vertical-align: top;\n",
       "    }\n",
       "\n",
       "    .dataframe thead th {\n",
       "        text-align: right;\n",
       "    }\n",
       "</style>\n",
       "<table border=\"1\" class=\"dataframe\">\n",
       "  <thead>\n",
       "    <tr style=\"text-align: right;\">\n",
       "      <th></th>\n",
       "      <th>refractive index</th>\n",
       "      <th>Sodium</th>\n",
       "      <th>Magnesium</th>\n",
       "      <th>Aluminum</th>\n",
       "      <th>Silicon</th>\n",
       "      <th>Potassium</th>\n",
       "      <th>Calcium</th>\n",
       "      <th>Barium</th>\n",
       "      <th>Iron</th>\n",
       "    </tr>\n",
       "  </thead>\n",
       "  <tbody>\n",
       "    <tr>\n",
       "      <th>count</th>\n",
       "      <td>2.140000e+02</td>\n",
       "      <td>2.140000e+02</td>\n",
       "      <td>2.140000e+02</td>\n",
       "      <td>2.140000e+02</td>\n",
       "      <td>2.140000e+02</td>\n",
       "      <td>2.140000e+02</td>\n",
       "      <td>2.140000e+02</td>\n",
       "      <td>2.140000e+02</td>\n",
       "      <td>2.140000e+02</td>\n",
       "    </tr>\n",
       "    <tr>\n",
       "      <th>mean</th>\n",
       "      <td>-2.877034e-14</td>\n",
       "      <td>2.191393e-15</td>\n",
       "      <td>-1.328117e-16</td>\n",
       "      <td>-2.988264e-16</td>\n",
       "      <td>9.525091e-16</td>\n",
       "      <td>3.527811e-17</td>\n",
       "      <td>-3.154278e-16</td>\n",
       "      <td>-6.640586e-17</td>\n",
       "      <td>-3.735330e-17</td>\n",
       "    </tr>\n",
       "    <tr>\n",
       "      <th>std</th>\n",
       "      <td>1.002345e+00</td>\n",
       "      <td>1.002345e+00</td>\n",
       "      <td>1.002345e+00</td>\n",
       "      <td>1.002345e+00</td>\n",
       "      <td>1.002345e+00</td>\n",
       "      <td>1.002345e+00</td>\n",
       "      <td>1.002345e+00</td>\n",
       "      <td>1.002345e+00</td>\n",
       "      <td>1.002345e+00</td>\n",
       "    </tr>\n",
       "    <tr>\n",
       "      <th>min</th>\n",
       "      <td>-2.381516e+00</td>\n",
       "      <td>-3.286943e+00</td>\n",
       "      <td>-1.865511e+00</td>\n",
       "      <td>-2.318616e+00</td>\n",
       "      <td>-3.676472e+00</td>\n",
       "      <td>-7.639186e-01</td>\n",
       "      <td>-2.484084e+00</td>\n",
       "      <td>-3.528768e-01</td>\n",
       "      <td>-5.864509e-01</td>\n",
       "    </tr>\n",
       "    <tr>\n",
       "      <th>25%</th>\n",
       "      <td>-6.082728e-01</td>\n",
       "      <td>-6.141580e-01</td>\n",
       "      <td>-3.957744e-01</td>\n",
       "      <td>-5.117560e-01</td>\n",
       "      <td>-4.800288e-01</td>\n",
       "      <td>-5.756501e-01</td>\n",
       "      <td>-5.049657e-01</td>\n",
       "      <td>-3.528768e-01</td>\n",
       "      <td>-5.864509e-01</td>\n",
       "    </tr>\n",
       "    <tr>\n",
       "      <th>50%</th>\n",
       "      <td>-2.262293e-01</td>\n",
       "      <td>-1.323817e-01</td>\n",
       "      <td>5.527787e-01</td>\n",
       "      <td>-1.704602e-01</td>\n",
       "      <td>1.799655e-01</td>\n",
       "      <td>8.905322e-02</td>\n",
       "      <td>-2.514132e-01</td>\n",
       "      <td>-3.528768e-01</td>\n",
       "      <td>-5.864509e-01</td>\n",
       "    </tr>\n",
       "    <tr>\n",
       "      <th>75%</th>\n",
       "      <td>2.614331e-01</td>\n",
       "      <td>5.120326e-01</td>\n",
       "      <td>6.361680e-01</td>\n",
       "      <td>3.715977e-01</td>\n",
       "      <td>5.649621e-01</td>\n",
       "      <td>1.735820e-01</td>\n",
       "      <td>1.518057e-01</td>\n",
       "      <td>-3.528768e-01</td>\n",
       "      <td>4.422417e-01</td>\n",
       "    </tr>\n",
       "    <tr>\n",
       "      <th>max</th>\n",
       "      <td>5.137232e+00</td>\n",
       "      <td>4.875637e+00</td>\n",
       "      <td>1.254639e+00</td>\n",
       "      <td>4.125851e+00</td>\n",
       "      <td>3.570524e+00</td>\n",
       "      <td>8.780145e+00</td>\n",
       "      <td>5.094318e+00</td>\n",
       "      <td>5.997210e+00</td>\n",
       "      <td>4.659881e+00</td>\n",
       "    </tr>\n",
       "  </tbody>\n",
       "</table>\n",
       "</div>"
      ],
      "text/plain": [
       "       refractive index        Sodium     Magnesium      Aluminum  \\\n",
       "count      2.140000e+02  2.140000e+02  2.140000e+02  2.140000e+02   \n",
       "mean      -2.877034e-14  2.191393e-15 -1.328117e-16 -2.988264e-16   \n",
       "std        1.002345e+00  1.002345e+00  1.002345e+00  1.002345e+00   \n",
       "min       -2.381516e+00 -3.286943e+00 -1.865511e+00 -2.318616e+00   \n",
       "25%       -6.082728e-01 -6.141580e-01 -3.957744e-01 -5.117560e-01   \n",
       "50%       -2.262293e-01 -1.323817e-01  5.527787e-01 -1.704602e-01   \n",
       "75%        2.614331e-01  5.120326e-01  6.361680e-01  3.715977e-01   \n",
       "max        5.137232e+00  4.875637e+00  1.254639e+00  4.125851e+00   \n",
       "\n",
       "            Silicon     Potassium       Calcium        Barium          Iron  \n",
       "count  2.140000e+02  2.140000e+02  2.140000e+02  2.140000e+02  2.140000e+02  \n",
       "mean   9.525091e-16  3.527811e-17 -3.154278e-16 -6.640586e-17 -3.735330e-17  \n",
       "std    1.002345e+00  1.002345e+00  1.002345e+00  1.002345e+00  1.002345e+00  \n",
       "min   -3.676472e+00 -7.639186e-01 -2.484084e+00 -3.528768e-01 -5.864509e-01  \n",
       "25%   -4.800288e-01 -5.756501e-01 -5.049657e-01 -3.528768e-01 -5.864509e-01  \n",
       "50%    1.799655e-01  8.905322e-02 -2.514132e-01 -3.528768e-01 -5.864509e-01  \n",
       "75%    5.649621e-01  1.735820e-01  1.518057e-01 -3.528768e-01  4.422417e-01  \n",
       "max    3.570524e+00  8.780145e+00  5.094318e+00  5.997210e+00  4.659881e+00  "
      ]
     },
     "execution_count": 12,
     "metadata": {},
     "output_type": "execute_result"
    }
   ],
   "source": [
    "X_standarize.describe()"
   ]
  },
  {
   "cell_type": "markdown",
   "metadata": {
    "id": "RfoV9GbqIUEu"
   },
   "source": [
    "Możemy już przejść do zdefiniowania modelu i jego walidacji"
   ]
  },
  {
   "cell_type": "markdown",
   "metadata": {
    "id": "W6ojRjUdQQkk"
   },
   "source": [
    "### Modele na danych normalizowanych MinMaxScalerem"
   ]
  },
  {
   "cell_type": "code",
   "execution_count": 13,
   "metadata": {
    "id": "qH6SsSqj7vxU"
   },
   "outputs": [],
   "source": [
    "from sklearn.model_selection import train_test_split\n",
    "\n",
    "X_train, X_test, y_train, y_test = train_test_split(X_minmax, y, stratify = y, random_state = 30)"
   ]
  },
  {
   "cell_type": "code",
   "execution_count": 14,
   "metadata": {
    "colab": {
     "base_uri": "https://localhost:8080/",
     "height": 240
    },
    "executionInfo": {
     "elapsed": 1622,
     "status": "error",
     "timestamp": 1684653360381,
     "user": {
      "displayName": "Kacper Jędrczak",
      "userId": "09838397980048830351"
     },
     "user_tz": -120
    },
    "id": "13f_NYzD7vxV",
    "outputId": "0d4d71c4-d442-4812-9b2a-b4110447c950"
   },
   "outputs": [
    {
     "name": "stdout",
     "output_type": "stream",
     "text": [
      "Results for MultinomialNB()\n",
      "----\n",
      "  Accuracy:  0.42592592592592593\n",
      "  Precision: 0.31140350877192985\n",
      "  Recall:    0.22928849902534112\n",
      "  F1 score:  0.22145467836257313\n",
      "  Mislabeled 31 out of 54\n",
      "\n",
      "\n",
      "Results for GaussianNB()\n",
      "----\n",
      "  Accuracy:  0.2777777777777778\n",
      "  Precision: 0.49313725490196075\n",
      "  Recall:    0.47819200779727095\n",
      "  F1 score:  0.41675020885547204\n",
      "  Mislabeled 39 out of 54\n",
      "\n",
      "\n",
      "Results for BernoulliNB()\n",
      "----\n",
      "  Accuracy:  0.46296296296296297\n",
      "  Precision: 0.2871794871794872\n",
      "  Recall:    0.32115009746588696\n",
      "  F1 score:  0.30128205128205127\n",
      "  Mislabeled 29 out of 54\n",
      "\n",
      "\n"
     ]
    },
    {
     "name": "stderr",
     "output_type": "stream",
     "text": [
      "C:\\Users\\kacpe\\AppData\\Roaming\\Python\\Python310\\site-packages\\sklearn\\metrics\\_classification.py:1344: UndefinedMetricWarning: Precision is ill-defined and being set to 0.0 in labels with no predicted samples. Use `zero_division` parameter to control this behavior.\n",
      "  _warn_prf(average, modifier, msg_start, len(result))\n",
      "C:\\Users\\kacpe\\AppData\\Roaming\\Python\\Python310\\site-packages\\sklearn\\metrics\\_classification.py:1344: UndefinedMetricWarning: Precision is ill-defined and being set to 0.0 in labels with no predicted samples. Use `zero_division` parameter to control this behavior.\n",
      "  _warn_prf(average, modifier, msg_start, len(result))\n"
     ]
    }
   ],
   "source": [
    "from sklearn.naive_bayes import MultinomialNB, GaussianNB, BernoulliNB\n",
    "\n",
    "for classifier in [MultinomialNB(), GaussianNB(), BernoulliNB()]:\n",
    "\n",
    "    classifier.fit(X_train, y_train)\n",
    "    y_pred = classifier.predict(X_test)\n",
    "\n",
    "    print_results(calculate_metrics(y_test, y_pred), classifier_id = str(classifier))\n",
    "\n"
   ]
  },
  {
   "cell_type": "markdown",
   "metadata": {
    "id": "tAJwkkrPRdA-"
   },
   "source": [
    "## Model na zbiorze wine"
   ]
  },
  {
   "cell_type": "code",
   "execution_count": 15,
   "metadata": {
    "colab": {
     "base_uri": "https://localhost:8080/",
     "height": 224
    },
    "executionInfo": {
     "elapsed": 373,
     "status": "ok",
     "timestamp": 1684588081935,
     "user": {
      "displayName": "Kacper Jędrczak",
      "userId": "09838397980048830351"
     },
     "user_tz": -120
    },
    "id": "WXRJmiAc7vxV",
    "outputId": "5b5288e9-2ebc-40d0-b2a4-4bfb18020f0f"
   },
   "outputs": [
    {
     "name": "stdout",
     "output_type": "stream",
     "text": [
      "['one' 'two' 'three']\n"
     ]
    },
    {
     "data": {
      "text/html": [
       "<div>\n",
       "<style scoped>\n",
       "    .dataframe tbody tr th:only-of-type {\n",
       "        vertical-align: middle;\n",
       "    }\n",
       "\n",
       "    .dataframe tbody tr th {\n",
       "        vertical-align: top;\n",
       "    }\n",
       "\n",
       "    .dataframe thead th {\n",
       "        text-align: right;\n",
       "    }\n",
       "</style>\n",
       "<table border=\"1\" class=\"dataframe\">\n",
       "  <thead>\n",
       "    <tr style=\"text-align: right;\">\n",
       "      <th></th>\n",
       "      <th>Alcohol</th>\n",
       "      <th>Malic acid</th>\n",
       "      <th>Ash</th>\n",
       "      <th>Alcalinity of ash</th>\n",
       "      <th>Magnesium</th>\n",
       "      <th>Total phenols</th>\n",
       "      <th>Flavanoids</th>\n",
       "      <th>Nonflavanoid phenols</th>\n",
       "      <th>Proanthocyanins</th>\n",
       "      <th>Color intensity</th>\n",
       "      <th>Hue</th>\n",
       "      <th>OD280/OD315 of diluted wines</th>\n",
       "      <th>Proline</th>\n",
       "      <th>class</th>\n",
       "    </tr>\n",
       "  </thead>\n",
       "  <tbody>\n",
       "    <tr>\n",
       "      <th>0</th>\n",
       "      <td>14.23</td>\n",
       "      <td>1.71</td>\n",
       "      <td>2.43</td>\n",
       "      <td>15.6</td>\n",
       "      <td>127</td>\n",
       "      <td>2.80</td>\n",
       "      <td>3.06</td>\n",
       "      <td>0.28</td>\n",
       "      <td>2.29</td>\n",
       "      <td>5.64</td>\n",
       "      <td>1.04</td>\n",
       "      <td>3.92</td>\n",
       "      <td>1065</td>\n",
       "      <td>0</td>\n",
       "    </tr>\n",
       "    <tr>\n",
       "      <th>1</th>\n",
       "      <td>13.20</td>\n",
       "      <td>1.78</td>\n",
       "      <td>2.14</td>\n",
       "      <td>11.2</td>\n",
       "      <td>100</td>\n",
       "      <td>2.65</td>\n",
       "      <td>2.76</td>\n",
       "      <td>0.26</td>\n",
       "      <td>1.28</td>\n",
       "      <td>4.38</td>\n",
       "      <td>1.05</td>\n",
       "      <td>3.40</td>\n",
       "      <td>1050</td>\n",
       "      <td>0</td>\n",
       "    </tr>\n",
       "    <tr>\n",
       "      <th>2</th>\n",
       "      <td>13.16</td>\n",
       "      <td>2.36</td>\n",
       "      <td>2.67</td>\n",
       "      <td>18.6</td>\n",
       "      <td>101</td>\n",
       "      <td>2.80</td>\n",
       "      <td>3.24</td>\n",
       "      <td>0.30</td>\n",
       "      <td>2.81</td>\n",
       "      <td>5.68</td>\n",
       "      <td>1.03</td>\n",
       "      <td>3.17</td>\n",
       "      <td>1185</td>\n",
       "      <td>0</td>\n",
       "    </tr>\n",
       "    <tr>\n",
       "      <th>3</th>\n",
       "      <td>14.37</td>\n",
       "      <td>1.95</td>\n",
       "      <td>2.50</td>\n",
       "      <td>16.8</td>\n",
       "      <td>113</td>\n",
       "      <td>3.85</td>\n",
       "      <td>3.49</td>\n",
       "      <td>0.24</td>\n",
       "      <td>2.18</td>\n",
       "      <td>7.80</td>\n",
       "      <td>0.86</td>\n",
       "      <td>3.45</td>\n",
       "      <td>1480</td>\n",
       "      <td>0</td>\n",
       "    </tr>\n",
       "    <tr>\n",
       "      <th>4</th>\n",
       "      <td>13.24</td>\n",
       "      <td>2.59</td>\n",
       "      <td>2.87</td>\n",
       "      <td>21.0</td>\n",
       "      <td>118</td>\n",
       "      <td>2.80</td>\n",
       "      <td>2.69</td>\n",
       "      <td>0.39</td>\n",
       "      <td>1.82</td>\n",
       "      <td>4.32</td>\n",
       "      <td>1.04</td>\n",
       "      <td>2.93</td>\n",
       "      <td>735</td>\n",
       "      <td>0</td>\n",
       "    </tr>\n",
       "  </tbody>\n",
       "</table>\n",
       "</div>"
      ],
      "text/plain": [
       "   Alcohol  Malic acid   Ash  Alcalinity of ash  Magnesium  Total phenols  \\\n",
       "0    14.23        1.71  2.43               15.6        127           2.80   \n",
       "1    13.20        1.78  2.14               11.2        100           2.65   \n",
       "2    13.16        2.36  2.67               18.6        101           2.80   \n",
       "3    14.37        1.95  2.50               16.8        113           3.85   \n",
       "4    13.24        2.59  2.87               21.0        118           2.80   \n",
       "\n",
       "   Flavanoids  Nonflavanoid phenols  Proanthocyanins  Color intensity   Hue  \\\n",
       "0        3.06                  0.28             2.29             5.64  1.04   \n",
       "1        2.76                  0.26             1.28             4.38  1.05   \n",
       "2        3.24                  0.30             2.81             5.68  1.03   \n",
       "3        3.49                  0.24             2.18             7.80  0.86   \n",
       "4        2.69                  0.39             1.82             4.32  1.04   \n",
       "\n",
       "   OD280/OD315 of diluted wines  Proline  class  \n",
       "0                          3.92     1065      0  \n",
       "1                          3.40     1050      0  \n",
       "2                          3.17     1185      0  \n",
       "3                          3.45     1480      0  \n",
       "4                          2.93      735      0  "
      ]
     },
     "execution_count": 15,
     "metadata": {},
     "output_type": "execute_result"
    }
   ],
   "source": [
    "wine, wine_classes = load_dataset('wine', 'Class')\n",
    "print(wine_classes)\n",
    "wine.head()"
   ]
  },
  {
   "cell_type": "code",
   "execution_count": 16,
   "metadata": {
    "id": "R9taBBxK7vxW"
   },
   "outputs": [],
   "source": [
    "y = wine.pop('class')\n",
    "X = wine"
   ]
  },
  {
   "cell_type": "code",
   "execution_count": 17,
   "metadata": {
    "id": "aEUTPnE17vxW"
   },
   "outputs": [],
   "source": [
    "X_minmax = X.copy()\n",
    "\n",
    "minmax.fit(X)\n",
    "X_matrix = minmax.transform(X)\n",
    "\n",
    "X_minmax[:] = X_matrix"
   ]
  },
  {
   "cell_type": "code",
   "execution_count": 18,
   "metadata": {
    "id": "ZGbUhXOaR9-D"
   },
   "outputs": [],
   "source": [
    "X_train, X_test, y_train, y_test = train_test_split(X_minmax, y, stratify = y, random_state = 30)"
   ]
  },
  {
   "cell_type": "code",
   "execution_count": 19,
   "metadata": {
    "colab": {
     "base_uri": "https://localhost:8080/"
    },
    "executionInfo": {
     "elapsed": 23,
     "status": "ok",
     "timestamp": 1684588271913,
     "user": {
      "displayName": "Kacper Jędrczak",
      "userId": "09838397980048830351"
     },
     "user_tz": -120
    },
    "id": "_wFz75ET7vxW",
    "outputId": "fcf72d58-68c5-4e0f-8045-d8b306084748"
   },
   "outputs": [
    {
     "name": "stdout",
     "output_type": "stream",
     "text": [
      "Results for classifier\n",
      "----\n",
      "  Accuracy:  0.9777777777777777\n",
      "  Precision: 0.9791666666666666\n",
      "  Recall:    0.9814814814814815\n",
      "  F1 score:  0.9797235023041475\n",
      "  Mislabeled 1 out of 45\n",
      "\n",
      "\n"
     ]
    }
   ],
   "source": [
    "gbc = GaussianNB()\n",
    "gbc.fit(X_train, y_train)\n",
    "\n",
    "y_pred = gbc.predict(X_test)\n",
    "\n",
    "print_results(calculate_metrics(y_test, y_pred))"
   ]
  },
  {
   "cell_type": "markdown",
   "metadata": {},
   "source": [
    "Napiszmy następnie funkcję do wyświetlenia macierzy pomyłek:"
   ]
  },
  {
   "cell_type": "code",
   "execution_count": 20,
   "metadata": {
    "id": "H7Yx-x0oWZq5"
   },
   "outputs": [],
   "source": [
    "import matplotlib.ticker as ticker\n",
    "import matplotlib.pyplot as plt\n",
    "\n",
    "def plot_confusion_matrix(cm, classes, title=None, title_appendix = '', cmap = plt.cm.Blues):\n",
    "\n",
    "    if title_appendix:\n",
    "        title_appendix = f'({title_appendix})'\n",
    "\n",
    "    if title is None:\n",
    "        title = f'Confusion Matrix {title_appendix}'\n",
    "\n",
    "    fig, ax = plt.subplots(figsize = (10,5))\n",
    "\n",
    "    img = ax.imshow(cm, cmap = cmap)\n",
    "\n",
    "    ax.figure.colorbar(img, ax = ax)\n",
    "\n",
    "    # Określanie lokalizacji ticków\n",
    "    ticks = np.arange(len(classes))\n",
    "    ax.set_xticks(ticks)\n",
    "    ax.set_yticks(ticks)\n",
    "\n",
    "    # Ustawienie lokalizatora\n",
    "    ax.xaxis.set_major_locator(ticker.FixedLocator(ticks))\n",
    "    ax.yaxis.set_major_locator(ticker.FixedLocator(ticks))\n",
    "\n",
    "    ax.set_title(title)\n",
    "    ax.set_ylabel('True label')\n",
    "    ax.set_xlabel('Predicted label')\n",
    "\n",
    "    fmt = '.2f' if cm.dtype =='float' else 'd'\n",
    "\n",
    "    for y, row in enumerate(cm):\n",
    "        for x, cell in enumerate(row):\n",
    "            ax.text(x,y, format(cell, fmt), ha ='center', color = 'white' if cell > cm.max()/2 else 'black')\n",
    "\n",
    "    fig.tight_layout()\n",
    "\n",
    "    # Teraz możemy bezpiecznie użyć set_xticklabels() i set_yticklabels()\n",
    "    ax.set_xticklabels(classes, rotation = 90)\n",
    "    ax.set_yticklabels(classes, rotation = 0)\n",
    "\n",
    "    return ax"
   ]
  },
  {
   "cell_type": "code",
   "execution_count": 21,
   "metadata": {
    "colab": {
     "base_uri": "https://localhost:8080/",
     "height": 525
    },
    "executionInfo": {
     "elapsed": 854,
     "status": "ok",
     "timestamp": 1684589712271,
     "user": {
      "displayName": "Kacper Jędrczak",
      "userId": "09838397980048830351"
     },
     "user_tz": -120
    },
    "id": "GotAgLmtXogr",
    "outputId": "d28c3e6e-7dd8-448d-a634-4cf3de8291de"
   },
   "outputs": [
    {
     "data": {
      "image/png": "[encoded data removed]",
      "text/plain": [
       "<Figure size 1000x500 with 2 Axes>"
      ]
     },
     "metadata": {},
     "output_type": "display_data"
    }
   ],
   "source": [
    "from sklearn.metrics import confusion_matrix\n",
    "plot_confusion_matrix(confusion_matrix(y_test, y_pred), wine_classes, title_appendix = 'GNB');"
   ]
  },
  {
   "cell_type": "markdown",
   "metadata": {
    "id": "J1P7Hjn7IUEv"
   },
   "source": [
    "Dyskretyzacja:\n",
    "\n",
    "Dyskretyzacja to proces przekształcania ciągłych zmiennych lub danych do formy dyskretnej. W kontekście przetwarzania danych i uczenia maszynowego, dyskretyzacja jest często stosowana do zmiany zmiennych ciągłych na kategorie, które mogą być łatwiej obsługiwane przez niektóre modele.\n",
    "\n",
    " Dyskretyzacja może być również użyta do redukcji szumów w danych, ułatwiając modelom zrozumienie i nauczenie się wzorców w danych."
   ]
  },
  {
   "cell_type": "code",
   "execution_count": 22,
   "metadata": {
    "colab": {
     "base_uri": "https://localhost:8080/",
     "height": 206
    },
    "executionInfo": {
     "elapsed": 19,
     "status": "ok",
     "timestamp": 1684589819931,
     "user": {
      "displayName": "Kacper Jędrczak",
      "userId": "09838397980048830351"
     },
     "user_tz": -120
    },
    "id": "AJDZVQ_k7vxX",
    "outputId": "5b20fc40-14a6-46b7-8dcd-dc534f71bf3a"
   },
   "outputs": [
    {
     "data": {
      "text/html": [
       "<div>\n",
       "<style scoped>\n",
       "    .dataframe tbody tr th:only-of-type {\n",
       "        vertical-align: middle;\n",
       "    }\n",
       "\n",
       "    .dataframe tbody tr th {\n",
       "        vertical-align: top;\n",
       "    }\n",
       "\n",
       "    .dataframe thead th {\n",
       "        text-align: right;\n",
       "    }\n",
       "</style>\n",
       "<table border=\"1\" class=\"dataframe\">\n",
       "  <thead>\n",
       "    <tr style=\"text-align: right;\">\n",
       "      <th></th>\n",
       "      <th>Alcohol</th>\n",
       "      <th>Malic acid</th>\n",
       "      <th>Ash</th>\n",
       "      <th>Alcalinity of ash</th>\n",
       "      <th>Magnesium</th>\n",
       "      <th>Total phenols</th>\n",
       "      <th>Flavanoids</th>\n",
       "      <th>Nonflavanoid phenols</th>\n",
       "      <th>Proanthocyanins</th>\n",
       "      <th>Color intensity</th>\n",
       "      <th>Hue</th>\n",
       "      <th>OD280/OD315 of diluted wines</th>\n",
       "      <th>Proline</th>\n",
       "    </tr>\n",
       "  </thead>\n",
       "  <tbody>\n",
       "    <tr>\n",
       "      <th>0</th>\n",
       "      <td>14.23</td>\n",
       "      <td>1.71</td>\n",
       "      <td>2.43</td>\n",
       "      <td>15.6</td>\n",
       "      <td>127</td>\n",
       "      <td>2.80</td>\n",
       "      <td>3.06</td>\n",
       "      <td>0.28</td>\n",
       "      <td>2.29</td>\n",
       "      <td>5.64</td>\n",
       "      <td>1.04</td>\n",
       "      <td>3.92</td>\n",
       "      <td>1065</td>\n",
       "    </tr>\n",
       "    <tr>\n",
       "      <th>1</th>\n",
       "      <td>13.20</td>\n",
       "      <td>1.78</td>\n",
       "      <td>2.14</td>\n",
       "      <td>11.2</td>\n",
       "      <td>100</td>\n",
       "      <td>2.65</td>\n",
       "      <td>2.76</td>\n",
       "      <td>0.26</td>\n",
       "      <td>1.28</td>\n",
       "      <td>4.38</td>\n",
       "      <td>1.05</td>\n",
       "      <td>3.40</td>\n",
       "      <td>1050</td>\n",
       "    </tr>\n",
       "    <tr>\n",
       "      <th>2</th>\n",
       "      <td>13.16</td>\n",
       "      <td>2.36</td>\n",
       "      <td>2.67</td>\n",
       "      <td>18.6</td>\n",
       "      <td>101</td>\n",
       "      <td>2.80</td>\n",
       "      <td>3.24</td>\n",
       "      <td>0.30</td>\n",
       "      <td>2.81</td>\n",
       "      <td>5.68</td>\n",
       "      <td>1.03</td>\n",
       "      <td>3.17</td>\n",
       "      <td>1185</td>\n",
       "    </tr>\n",
       "    <tr>\n",
       "      <th>3</th>\n",
       "      <td>14.37</td>\n",
       "      <td>1.95</td>\n",
       "      <td>2.50</td>\n",
       "      <td>16.8</td>\n",
       "      <td>113</td>\n",
       "      <td>3.85</td>\n",
       "      <td>3.49</td>\n",
       "      <td>0.24</td>\n",
       "      <td>2.18</td>\n",
       "      <td>7.80</td>\n",
       "      <td>0.86</td>\n",
       "      <td>3.45</td>\n",
       "      <td>1480</td>\n",
       "    </tr>\n",
       "    <tr>\n",
       "      <th>4</th>\n",
       "      <td>13.24</td>\n",
       "      <td>2.59</td>\n",
       "      <td>2.87</td>\n",
       "      <td>21.0</td>\n",
       "      <td>118</td>\n",
       "      <td>2.80</td>\n",
       "      <td>2.69</td>\n",
       "      <td>0.39</td>\n",
       "      <td>1.82</td>\n",
       "      <td>4.32</td>\n",
       "      <td>1.04</td>\n",
       "      <td>2.93</td>\n",
       "      <td>735</td>\n",
       "    </tr>\n",
       "  </tbody>\n",
       "</table>\n",
       "</div>"
      ],
      "text/plain": [
       "   Alcohol  Malic acid   Ash  Alcalinity of ash  Magnesium  Total phenols  \\\n",
       "0    14.23        1.71  2.43               15.6        127           2.80   \n",
       "1    13.20        1.78  2.14               11.2        100           2.65   \n",
       "2    13.16        2.36  2.67               18.6        101           2.80   \n",
       "3    14.37        1.95  2.50               16.8        113           3.85   \n",
       "4    13.24        2.59  2.87               21.0        118           2.80   \n",
       "\n",
       "   Flavanoids  Nonflavanoid phenols  Proanthocyanins  Color intensity   Hue  \\\n",
       "0        3.06                  0.28             2.29             5.64  1.04   \n",
       "1        2.76                  0.26             1.28             4.38  1.05   \n",
       "2        3.24                  0.30             2.81             5.68  1.03   \n",
       "3        3.49                  0.24             2.18             7.80  0.86   \n",
       "4        2.69                  0.39             1.82             4.32  1.04   \n",
       "\n",
       "   OD280/OD315 of diluted wines  Proline  \n",
       "0                          3.92     1065  \n",
       "1                          3.40     1050  \n",
       "2                          3.17     1185  \n",
       "3                          3.45     1480  \n",
       "4                          2.93      735  "
      ]
     },
     "execution_count": 22,
     "metadata": {},
     "output_type": "execute_result"
    }
   ],
   "source": [
    "X.head()"
   ]
  },
  {
   "cell_type": "markdown",
   "metadata": {},
   "source": [
    "Wyświetlmy sobie najpierw rozkłady poszczególnych zmiennych:"
   ]
  },
  {
   "cell_type": "code",
   "execution_count": 23,
   "metadata": {
    "colab": {
     "base_uri": "https://localhost:8080/",
     "height": 1000
    },
    "executionInfo": {
     "elapsed": 6370,
     "status": "ok",
     "timestamp": 1684590053111,
     "user": {
      "displayName": "Kacper Jędrczak",
      "userId": "09838397980048830351"
     },
     "user_tz": -120
    },
    "id": "ZtvEoqR27vxX",
    "outputId": "f9d299d3-70ba-4573-ace9-f00f1ac03e86",
    "scrolled": false
   },
   "outputs": [
    {
     "data": {
      "image/png": "[encoded data removed]",
      "text/plain": [
       "<Figure size 500x3900 with 13 Axes>"
      ]
     },
     "metadata": {},
     "output_type": "display_data"
    }
   ],
   "source": [
    "fig, axs = plt.subplots(len(X.columns), figsize = (5, len(X.columns)*3))\n",
    "\n",
    "for index, column in enumerate(X):\n",
    "    axs[index].hist(X[column], bins = 30)\n",
    "    axs[index].set_title(column)\n",
    "plt.tight_layout()\n",
    "plt.show()"
   ]
  },
  {
   "cell_type": "markdown",
   "metadata": {
    "id": "CL5UXT5LIUEv"
   },
   "source": [
    "Zdefiniujmy sobie różne funkcje do dyskretyzacji, korzystając z pandasowych:\n",
    "* pd.cut()\n",
    "* pd.qcut()"
   ]
  },
  {
   "cell_type": "markdown",
   "metadata": {},
   "source": [
    "Jak działa pd.cut()? "
   ]
  },
  {
   "cell_type": "code",
   "execution_count": 24,
   "metadata": {
    "colab": {
     "base_uri": "https://localhost:8080/"
    },
    "executionInfo": {
     "elapsed": 383,
     "status": "ok",
     "timestamp": 1684590156917,
     "user": {
      "displayName": "Kacper Jędrczak",
      "userId": "09838397980048830351"
     },
     "user_tz": -120
    },
    "id": "knKEAPNk7vxY",
    "outputId": "5e184136-de60-49bd-bf32-86b55a161da6"
   },
   "outputs": [
    {
     "data": {
      "text/plain": [
       "(12.297, 13.563]    86\n",
       "(13.563, 14.83]     51\n",
       "(11.026, 12.297]    41\n",
       "Name: Alcohol, dtype: int64"
      ]
     },
     "execution_count": 24,
     "metadata": {},
     "output_type": "execute_result"
    }
   ],
   "source": [
    "pd.cut(X['Alcohol'], bins = 3).value_counts()"
   ]
  },
  {
   "cell_type": "markdown",
   "metadata": {},
   "source": [
    "Jak działa pd.qcut()"
   ]
  },
  {
   "cell_type": "code",
   "execution_count": 25,
   "metadata": {
    "colab": {
     "base_uri": "https://localhost:8080/"
    },
    "executionInfo": {
     "elapsed": 515,
     "status": "ok",
     "timestamp": 1684590543640,
     "user": {
      "displayName": "Kacper Jędrczak",
      "userId": "09838397980048830351"
     },
     "user_tz": -120
    },
    "id": "2LgVRuzn7vxZ",
    "outputId": "a81bd715-2209-49e4-930f-759bbd65357e"
   },
   "outputs": [
    {
     "data": {
      "text/plain": [
       "(11.029, 12.52]    60\n",
       "(12.52, 13.48]     59\n",
       "(13.48, 14.83]     59\n",
       "Name: Alcohol, dtype: int64"
      ]
     },
     "execution_count": 25,
     "metadata": {},
     "output_type": "execute_result"
    }
   ],
   "source": [
    "pd.qcut(X['Alcohol'], q =3).value_counts()"
   ]
  },
  {
   "cell_type": "markdown",
   "metadata": {
    "id": "r8J2Wz8z7vxZ"
   },
   "source": [
    "Funkcje przeprowadzające kategoryzację:"
   ]
  },
  {
   "cell_type": "code",
   "execution_count": 26,
   "metadata": {
    "executionInfo": {
     "elapsed": 21,
     "status": "ok",
     "timestamp": 1684665013280,
     "user": {
      "displayName": "Kacper Jędrczak",
      "userId": "09838397980048830351"
     },
     "user_tz": -120
    },
    "id": "vYz2SA2k7vxZ"
   },
   "outputs": [],
   "source": [
    "def equal_lenght(column, n_bins):\n",
    "    indices, bins = pd.cut(column, n_bins, retbins = True, labels = False, duplicates = 'drop')\n",
    "\n",
    "    return indices.map(dict(enumerate(bins)))\n",
    "\n",
    "lenght_bin = lambda x: equal_lenght(x, 5)\n",
    "\n",
    "X_l = X.apply(lenght_bin)"
   ]
  },
  {
   "cell_type": "code",
   "execution_count": 27,
   "metadata": {},
   "outputs": [
    {
     "data": {
      "text/html": [
       "<div>\n",
       "<style scoped>\n",
       "    .dataframe tbody tr th:only-of-type {\n",
       "        vertical-align: middle;\n",
       "    }\n",
       "\n",
       "    .dataframe tbody tr th {\n",
       "        vertical-align: top;\n",
       "    }\n",
       "\n",
       "    .dataframe thead th {\n",
       "        text-align: right;\n",
       "    }\n",
       "</style>\n",
       "<table border=\"1\" class=\"dataframe\">\n",
       "  <thead>\n",
       "    <tr style=\"text-align: right;\">\n",
       "      <th></th>\n",
       "      <th>Alcohol</th>\n",
       "      <th>Malic acid</th>\n",
       "      <th>Ash</th>\n",
       "      <th>Alcalinity of ash</th>\n",
       "      <th>Magnesium</th>\n",
       "      <th>Total phenols</th>\n",
       "      <th>Flavanoids</th>\n",
       "      <th>Nonflavanoid phenols</th>\n",
       "      <th>Proanthocyanins</th>\n",
       "      <th>Color intensity</th>\n",
       "      <th>Hue</th>\n",
       "      <th>OD280/OD315 of diluted wines</th>\n",
       "      <th>Proline</th>\n",
       "    </tr>\n",
       "  </thead>\n",
       "  <tbody>\n",
       "    <tr>\n",
       "      <th>0</th>\n",
       "      <td>14.07</td>\n",
       "      <td>0.73494</td>\n",
       "      <td>2.108</td>\n",
       "      <td>14.4800</td>\n",
       "      <td>125.2</td>\n",
       "      <td>2.72</td>\n",
       "      <td>2.236</td>\n",
       "      <td>0.236</td>\n",
       "      <td>1.678</td>\n",
       "      <td>3.624</td>\n",
       "      <td>0.972</td>\n",
       "      <td>3.454</td>\n",
       "      <td>838.8</td>\n",
       "    </tr>\n",
       "    <tr>\n",
       "      <th>1</th>\n",
       "      <td>12.55</td>\n",
       "      <td>1.75200</td>\n",
       "      <td>2.108</td>\n",
       "      <td>10.5806</td>\n",
       "      <td>88.4</td>\n",
       "      <td>2.14</td>\n",
       "      <td>2.236</td>\n",
       "      <td>0.236</td>\n",
       "      <td>1.044</td>\n",
       "      <td>3.624</td>\n",
       "      <td>0.972</td>\n",
       "      <td>2.908</td>\n",
       "      <td>838.8</td>\n",
       "    </tr>\n",
       "    <tr>\n",
       "      <th>2</th>\n",
       "      <td>12.55</td>\n",
       "      <td>1.75200</td>\n",
       "      <td>2.482</td>\n",
       "      <td>18.3600</td>\n",
       "      <td>88.4</td>\n",
       "      <td>2.72</td>\n",
       "      <td>3.184</td>\n",
       "      <td>0.236</td>\n",
       "      <td>2.312</td>\n",
       "      <td>3.624</td>\n",
       "      <td>0.972</td>\n",
       "      <td>2.908</td>\n",
       "      <td>1119.2</td>\n",
       "    </tr>\n",
       "    <tr>\n",
       "      <th>3</th>\n",
       "      <td>14.07</td>\n",
       "      <td>1.75200</td>\n",
       "      <td>2.482</td>\n",
       "      <td>14.4800</td>\n",
       "      <td>106.8</td>\n",
       "      <td>3.30</td>\n",
       "      <td>3.184</td>\n",
       "      <td>0.236</td>\n",
       "      <td>1.678</td>\n",
       "      <td>5.968</td>\n",
       "      <td>0.726</td>\n",
       "      <td>2.908</td>\n",
       "      <td>1399.6</td>\n",
       "    </tr>\n",
       "    <tr>\n",
       "      <th>4</th>\n",
       "      <td>12.55</td>\n",
       "      <td>1.75200</td>\n",
       "      <td>2.856</td>\n",
       "      <td>18.3600</td>\n",
       "      <td>106.8</td>\n",
       "      <td>2.72</td>\n",
       "      <td>2.236</td>\n",
       "      <td>0.342</td>\n",
       "      <td>1.678</td>\n",
       "      <td>3.624</td>\n",
       "      <td>0.972</td>\n",
       "      <td>2.908</td>\n",
       "      <td>558.4</td>\n",
       "    </tr>\n",
       "  </tbody>\n",
       "</table>\n",
       "</div>"
      ],
      "text/plain": [
       "   Alcohol  Malic acid    Ash  Alcalinity of ash  Magnesium  Total phenols  \\\n",
       "0    14.07     0.73494  2.108            14.4800      125.2           2.72   \n",
       "1    12.55     1.75200  2.108            10.5806       88.4           2.14   \n",
       "2    12.55     1.75200  2.482            18.3600       88.4           2.72   \n",
       "3    14.07     1.75200  2.482            14.4800      106.8           3.30   \n",
       "4    12.55     1.75200  2.856            18.3600      106.8           2.72   \n",
       "\n",
       "   Flavanoids  Nonflavanoid phenols  Proanthocyanins  Color intensity    Hue  \\\n",
       "0       2.236                 0.236            1.678            3.624  0.972   \n",
       "1       2.236                 0.236            1.044            3.624  0.972   \n",
       "2       3.184                 0.236            2.312            3.624  0.972   \n",
       "3       3.184                 0.236            1.678            5.968  0.726   \n",
       "4       2.236                 0.342            1.678            3.624  0.972   \n",
       "\n",
       "   OD280/OD315 of diluted wines  Proline  \n",
       "0                         3.454    838.8  \n",
       "1                         2.908    838.8  \n",
       "2                         2.908   1119.2  \n",
       "3                         2.908   1399.6  \n",
       "4                         2.908    558.4  "
      ]
     },
     "execution_count": 27,
     "metadata": {},
     "output_type": "execute_result"
    }
   ],
   "source": [
    "X_l.head()"
   ]
  },
  {
   "cell_type": "code",
   "execution_count": 28,
   "metadata": {
    "id": "bn97hIMLblcM"
   },
   "outputs": [],
   "source": [
    "def equal_frequency(column, n_bins):\n",
    "    indices, bins = pd.qcut(column, n_bins, retbins = True, labels = False, duplicates = 'drop')\n",
    "\n",
    "    return indices.map(dict(enumerate(bins)))\n",
    "\n",
    "freq_bin = lambda x: equal_frequency(x, 5)"
   ]
  },
  {
   "cell_type": "code",
   "execution_count": 29,
   "metadata": {
    "colab": {
     "base_uri": "https://localhost:8080/",
     "height": 206
    },
    "executionInfo": {
     "elapsed": 375,
     "status": "ok",
     "timestamp": 1684590802886,
     "user": {
      "displayName": "Kacper Jędrczak",
      "userId": "09838397980048830351"
     },
     "user_tz": -120
    },
    "id": "NwI3M77fbmKe",
    "outputId": "10b6d248-9f0b-4f59-fd2b-15e6b58d498e"
   },
   "outputs": [
    {
     "data": {
      "text/html": [
       "<div>\n",
       "<style scoped>\n",
       "    .dataframe tbody tr th:only-of-type {\n",
       "        vertical-align: middle;\n",
       "    }\n",
       "\n",
       "    .dataframe tbody tr th {\n",
       "        vertical-align: top;\n",
       "    }\n",
       "\n",
       "    .dataframe thead th {\n",
       "        text-align: right;\n",
       "    }\n",
       "</style>\n",
       "<table border=\"1\" class=\"dataframe\">\n",
       "  <thead>\n",
       "    <tr style=\"text-align: right;\">\n",
       "      <th></th>\n",
       "      <th>Alcohol</th>\n",
       "      <th>Malic acid</th>\n",
       "      <th>Ash</th>\n",
       "      <th>Alcalinity of ash</th>\n",
       "      <th>Magnesium</th>\n",
       "      <th>Total phenols</th>\n",
       "      <th>Flavanoids</th>\n",
       "      <th>Nonflavanoid phenols</th>\n",
       "      <th>Proanthocyanins</th>\n",
       "      <th>Color intensity</th>\n",
       "      <th>Hue</th>\n",
       "      <th>OD280/OD315 of diluted wines</th>\n",
       "      <th>Proline</th>\n",
       "    </tr>\n",
       "  </thead>\n",
       "  <tbody>\n",
       "    <tr>\n",
       "      <th>0</th>\n",
       "      <td>13.756</td>\n",
       "      <td>1.510</td>\n",
       "      <td>2.42</td>\n",
       "      <td>10.60</td>\n",
       "      <td>111.0</td>\n",
       "      <td>2.53</td>\n",
       "      <td>2.98</td>\n",
       "      <td>0.26</td>\n",
       "      <td>1.986</td>\n",
       "      <td>5.284</td>\n",
       "      <td>0.91</td>\n",
       "      <td>3.260</td>\n",
       "      <td>1048.0</td>\n",
       "    </tr>\n",
       "    <tr>\n",
       "      <th>1</th>\n",
       "      <td>12.760</td>\n",
       "      <td>1.730</td>\n",
       "      <td>1.36</td>\n",
       "      <td>10.60</td>\n",
       "      <td>94.8</td>\n",
       "      <td>2.53</td>\n",
       "      <td>2.46</td>\n",
       "      <td>0.13</td>\n",
       "      <td>1.104</td>\n",
       "      <td>4.080</td>\n",
       "      <td>1.04</td>\n",
       "      <td>3.260</td>\n",
       "      <td>1048.0</td>\n",
       "    </tr>\n",
       "    <tr>\n",
       "      <th>2</th>\n",
       "      <td>12.760</td>\n",
       "      <td>2.134</td>\n",
       "      <td>2.61</td>\n",
       "      <td>18.58</td>\n",
       "      <td>94.8</td>\n",
       "      <td>2.53</td>\n",
       "      <td>2.98</td>\n",
       "      <td>0.26</td>\n",
       "      <td>1.986</td>\n",
       "      <td>5.284</td>\n",
       "      <td>0.91</td>\n",
       "      <td>2.902</td>\n",
       "      <td>1048.0</td>\n",
       "    </tr>\n",
       "    <tr>\n",
       "      <th>3</th>\n",
       "      <td>13.756</td>\n",
       "      <td>1.730</td>\n",
       "      <td>2.42</td>\n",
       "      <td>10.60</td>\n",
       "      <td>111.0</td>\n",
       "      <td>2.86</td>\n",
       "      <td>2.98</td>\n",
       "      <td>0.13</td>\n",
       "      <td>1.986</td>\n",
       "      <td>6.990</td>\n",
       "      <td>0.74</td>\n",
       "      <td>3.260</td>\n",
       "      <td>1048.0</td>\n",
       "    </tr>\n",
       "    <tr>\n",
       "      <th>4</th>\n",
       "      <td>12.760</td>\n",
       "      <td>2.134</td>\n",
       "      <td>2.61</td>\n",
       "      <td>20.00</td>\n",
       "      <td>111.0</td>\n",
       "      <td>2.53</td>\n",
       "      <td>2.46</td>\n",
       "      <td>0.30</td>\n",
       "      <td>1.664</td>\n",
       "      <td>4.080</td>\n",
       "      <td>0.91</td>\n",
       "      <td>2.902</td>\n",
       "      <td>605.6</td>\n",
       "    </tr>\n",
       "  </tbody>\n",
       "</table>\n",
       "</div>"
      ],
      "text/plain": [
       "   Alcohol  Malic acid   Ash  Alcalinity of ash  Magnesium  Total phenols  \\\n",
       "0   13.756       1.510  2.42              10.60      111.0           2.53   \n",
       "1   12.760       1.730  1.36              10.60       94.8           2.53   \n",
       "2   12.760       2.134  2.61              18.58       94.8           2.53   \n",
       "3   13.756       1.730  2.42              10.60      111.0           2.86   \n",
       "4   12.760       2.134  2.61              20.00      111.0           2.53   \n",
       "\n",
       "   Flavanoids  Nonflavanoid phenols  Proanthocyanins  Color intensity   Hue  \\\n",
       "0        2.98                  0.26            1.986            5.284  0.91   \n",
       "1        2.46                  0.13            1.104            4.080  1.04   \n",
       "2        2.98                  0.26            1.986            5.284  0.91   \n",
       "3        2.98                  0.13            1.986            6.990  0.74   \n",
       "4        2.46                  0.30            1.664            4.080  0.91   \n",
       "\n",
       "   OD280/OD315 of diluted wines  Proline  \n",
       "0                         3.260   1048.0  \n",
       "1                         3.260   1048.0  \n",
       "2                         2.902   1048.0  \n",
       "3                         3.260   1048.0  \n",
       "4                         2.902    605.6  "
      ]
     },
     "execution_count": 29,
     "metadata": {},
     "output_type": "execute_result"
    }
   ],
   "source": [
    "X_f = X.apply(freq_bin)\n",
    "\n",
    "X_f.head()"
   ]
  },
  {
   "cell_type": "markdown",
   "metadata": {
    "id": "-peXKoL17vxa"
   },
   "source": [
    "## Granice decyzyjne na sztucznie wygenerowanym zbiorze:"
   ]
  },
  {
   "cell_type": "code",
   "execution_count": 30,
   "metadata": {
    "executionInfo": {
     "elapsed": 4,
     "status": "ok",
     "timestamp": 1684653311497,
     "user": {
      "displayName": "Kacper Jędrczak",
      "userId": "09838397980048830351"
     },
     "user_tz": -120
    },
    "id": "wNUxybLa7vxb"
   },
   "outputs": [],
   "source": [
    "import numpy as np\n",
    "import matplotlib.pyplot as plt\n",
    "%matplotlib inline\n",
    "\n",
    "# losowe dane dla dwóch klas, przy przesunięciu środka rozkładu\n",
    "train_data = np.vstack((np.random.normal(size=(100, 2)),\n",
    "                        np.random.normal(size=(100, 2), loc=2)))\n",
    "\n",
    "train_labels = np.hstack((np.zeros(100), np.ones(100)))\n",
    "\n",
    "\n",
    "# np.vstack - połaczenie tablic wertykalne\n",
    "# np.hstack - połączenie tablic horyzontalne"
   ]
  },
  {
   "cell_type": "code",
   "execution_count": 31,
   "metadata": {
    "colab": {
     "base_uri": "https://localhost:8080/",
     "height": 448
    },
    "executionInfo": {
     "elapsed": 65,
     "status": "ok",
     "timestamp": 1684657462237,
     "user": {
      "displayName": "Kacper Jędrczak",
      "userId": "09838397980048830351"
     },
     "user_tz": -120
    },
    "id": "ClA8p8eD7vxb",
    "outputId": "3227dc3f-cb94-46e6-e1e1-451d79410cd8"
   },
   "outputs": [
    {
     "data": {
      "text/plain": [
       "<matplotlib.collections.PathCollection at 0x1a4b9a035b0>"
      ]
     },
     "execution_count": 31,
     "metadata": {},
     "output_type": "execute_result"
    },
    {
     "data": {
      "image/png": "[encoded data removed]",
      "text/plain": [
       "<Figure size 640x480 with 1 Axes>"
      ]
     },
     "metadata": {},
     "output_type": "display_data"
    }
   ],
   "source": [
    "fig, ax = plt.subplots()\n",
    "\n",
    "ax.scatter(train_data[:,0], train_data[:,1], c =train_labels)"
   ]
  },
  {
   "cell_type": "code",
   "execution_count": 32,
   "metadata": {
    "colab": {
     "base_uri": "https://localhost:8080/",
     "height": 75
    },
    "executionInfo": {
     "elapsed": 285,
     "status": "ok",
     "timestamp": 1684653380002,
     "user": {
      "displayName": "Kacper Jędrczak",
      "userId": "09838397980048830351"
     },
     "user_tz": -120
    },
    "id": "AryFX6Wp7vxc",
    "outputId": "f191edea-0613-4673-c2fd-8d4da65a4b4b"
   },
   "outputs": [
    {
     "data": {
      "text/html": [
       "<style>#sk-container-id-1 {color: black;background-color: white;}#sk-container-id-1 pre{padding: 0;}#sk-container-id-1 div.sk-toggleable {background-color: white;}#sk-container-id-1 label.sk-toggleable__label {cursor: pointer;display: block;width: 100%;margin-bottom: 0;padding: 0.3em;box-sizing: border-box;text-align: center;}#sk-container-id-1 label.sk-toggleable__label-arrow:before {content: \"▸\";float: left;margin-right: 0.25em;color: #696969;}#sk-container-id-1 label.sk-toggleable__label-arrow:hover:before {color: black;}#sk-container-id-1 div.sk-estimator:hover label.sk-toggleable__label-arrow:before {color: black;}#sk-container-id-1 div.sk-toggleable__content {max-height: 0;max-width: 0;overflow: hidden;text-align: left;background-color: #f0f8ff;}#sk-container-id-1 div.sk-toggleable__content pre {margin: 0.2em;color: black;border-radius: 0.25em;background-color: #f0f8ff;}#sk-container-id-1 input.sk-toggleable__control:checked~div.sk-toggleable__content {max-height: 200px;max-width: 100%;overflow: auto;}#sk-container-id-1 input.sk-toggleable__control:checked~label.sk-toggleable__label-arrow:before {content: \"▾\";}#sk-container-id-1 div.sk-estimator input.sk-toggleable__control:checked~label.sk-toggleable__label {background-color: #d4ebff;}#sk-container-id-1 div.sk-label input.sk-toggleable__control:checked~label.sk-toggleable__label {background-color: #d4ebff;}#sk-container-id-1 input.sk-hidden--visually {border: 0;clip: rect(1px 1px 1px 1px);clip: rect(1px, 1px, 1px, 1px);height: 1px;margin: -1px;overflow: hidden;padding: 0;position: absolute;width: 1px;}#sk-container-id-1 div.sk-estimator {font-family: monospace;background-color: #f0f8ff;border: 1px dotted black;border-radius: 0.25em;box-sizing: border-box;margin-bottom: 0.5em;}#sk-container-id-1 div.sk-estimator:hover {background-color: #d4ebff;}#sk-container-id-1 div.sk-parallel-item::after {content: \"\";width: 100%;border-bottom: 1px solid gray;flex-grow: 1;}#sk-container-id-1 div.sk-label:hover label.sk-toggleable__label {background-color: #d4ebff;}#sk-container-id-1 div.sk-serial::before {content: \"\";position: absolute;border-left: 1px solid gray;box-sizing: border-box;top: 0;bottom: 0;left: 50%;z-index: 0;}#sk-container-id-1 div.sk-serial {display: flex;flex-direction: column;align-items: center;background-color: white;padding-right: 0.2em;padding-left: 0.2em;position: relative;}#sk-container-id-1 div.sk-item {position: relative;z-index: 1;}#sk-container-id-1 div.sk-parallel {display: flex;align-items: stretch;justify-content: center;background-color: white;position: relative;}#sk-container-id-1 div.sk-item::before, #sk-container-id-1 div.sk-parallel-item::before {content: \"\";position: absolute;border-left: 1px solid gray;box-sizing: border-box;top: 0;bottom: 0;left: 50%;z-index: -1;}#sk-container-id-1 div.sk-parallel-item {display: flex;flex-direction: column;z-index: 1;position: relative;background-color: white;}#sk-container-id-1 div.sk-parallel-item:first-child::after {align-self: flex-end;width: 50%;}#sk-container-id-1 div.sk-parallel-item:last-child::after {align-self: flex-start;width: 50%;}#sk-container-id-1 div.sk-parallel-item:only-child::after {width: 0;}#sk-container-id-1 div.sk-dashed-wrapped {border: 1px dashed gray;margin: 0 0.4em 0.5em 0.4em;box-sizing: border-box;padding-bottom: 0.4em;background-color: white;}#sk-container-id-1 div.sk-label label {font-family: monospace;font-weight: bold;display: inline-block;line-height: 1.2em;}#sk-container-id-1 div.sk-label-container {text-align: center;}#sk-container-id-1 div.sk-container {/* jupyter's `normalize.less` sets `[hidden] { display: none; }` but bootstrap.min.css set `[hidden] { display: none !important; }` so we also need the `!important` here to be able to override the default hidden behavior on the sphinx rendered scikit-learn.org. See: https://github.com/scikit-learn/scikit-learn/issues/21755 */display: inline-block !important;position: relative;}#sk-container-id-1 div.sk-text-repr-fallback {display: none;}</style><div id=\"sk-container-id-1\" class=\"sk-top-container\"><div class=\"sk-text-repr-fallback\"><pre>GaussianNB()</pre><b>In a Jupyter environment, please rerun this cell to show the HTML representation or trust the notebook. <br />On GitHub, the HTML representation is unable to render, please try loading this page with nbviewer.org.</b></div><div class=\"sk-container\" hidden><div class=\"sk-item\"><div class=\"sk-estimator sk-toggleable\"><input class=\"sk-toggleable__control sk-hidden--visually\" id=\"sk-estimator-id-1\" type=\"checkbox\" checked><label for=\"sk-estimator-id-1\" class=\"sk-toggleable__label sk-toggleable__label-arrow\">GaussianNB</label><div class=\"sk-toggleable__content\"><pre>GaussianNB()</pre></div></div></div></div></div>"
      ],
      "text/plain": [
       "GaussianNB()"
      ]
     },
     "execution_count": 32,
     "metadata": {},
     "output_type": "execute_result"
    }
   ],
   "source": [
    "from sklearn.naive_bayes import MultinomialNB, GaussianNB, BernoulliNB\n",
    "model = GaussianNB()\n",
    "model.fit(train_data, train_labels)"
   ]
  },
  {
   "cell_type": "code",
   "execution_count": 33,
   "metadata": {
    "executionInfo": {
     "elapsed": 423,
     "status": "ok",
     "timestamp": 1684653435997,
     "user": {
      "displayName": "Kacper Jędrczak",
      "userId": "09838397980048830351"
     },
     "user_tz": -120
    },
    "id": "5ZfqTf1hKtQD"
   },
   "outputs": [],
   "source": [
    "x_min, x_max = train_data[:,0].min() -1, train_data[:,0].max() +1\n",
    "y_min, y_max = train_data[:,1].min() -1, train_data[:,1].max() +1\n",
    "\n",
    "xs, ys = np.meshgrid(np.arange(x_min, x_max, 0.01), np.arange(y_min, y_max, 0.01))\n",
    "\n",
    "y_pred = model.predict(np.column_stack((xs.flatten(),\n",
    "                                       ys.flatten())))"
   ]
  },
  {
   "cell_type": "code",
   "execution_count": 34,
   "metadata": {
    "executionInfo": {
     "elapsed": 309,
     "status": "ok",
     "timestamp": 1684653448440,
     "user": {
      "displayName": "Kacper Jędrczak",
      "userId": "09838397980048830351"
     },
     "user_tz": -120
    },
    "id": "_jGyfP1nKtlx"
   },
   "outputs": [],
   "source": [
    "y_pred_matrix = y_pred.reshape(xs.shape)"
   ]
  },
  {
   "cell_type": "code",
   "execution_count": 35,
   "metadata": {
    "colab": {
     "base_uri": "https://localhost:8080/",
     "height": 430
    },
    "executionInfo": {
     "elapsed": 2316,
     "status": "ok",
     "timestamp": 1684657559415,
     "user": {
      "displayName": "Kacper Jędrczak",
      "userId": "09838397980048830351"
     },
     "user_tz": -120
    },
    "id": "JMR3KuNvKuBS",
    "outputId": "ec15f034-ec79-4cd7-f6b1-0516b82b7085"
   },
   "outputs": [
    {
     "data": {
      "image/png": "[encoded data removed]",
      "text/plain": [
       "<Figure size 640x480 with 1 Axes>"
      ]
     },
     "metadata": {},
     "output_type": "display_data"
    }
   ],
   "source": [
    "fig, ax = plt.subplots()\n",
    "ax.pcolormesh(xs, ys, y_pred_matrix)\n",
    "ax.scatter(train_data[:,0], train_data[:,1], c=train_labels, edgecolors = 'k')\n",
    "plt.show()"
   ]
  },
  {
   "cell_type": "code",
   "execution_count": null,
   "metadata": {},
   "outputs": [],
   "source": []
  },
  {
   "cell_type": "code",
   "execution_count": null,
   "metadata": {},
   "outputs": [],
   "source": []
  },
  {
   "cell_type": "code",
   "execution_count": null,
   "metadata": {},
   "outputs": [],
   "source": []
  }
 ],
 "metadata": {
  "colab": {
   "provenance": []
  },
  "kernelspec": {
   "display_name": "Python 3 (ipykernel)",
   "language": "python",
   "name": "python3"
  },
  "language_info": {
   "codemirror_mode": {
    "name": "ipython",
    "version": 3
   },
   "file_extension": ".py",
   "mimetype": "text/x-python",
   "name": "python",
   "nbconvert_exporter": "python",
   "pygments_lexer": "ipython3",
   "version": "3.10.9"
  }
 },
 "nbformat": 4,
 "nbformat_minor": 1
}
